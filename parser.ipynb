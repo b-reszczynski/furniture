{
 "cells": [
  {
   "cell_type": "markdown",
   "id": "5e58cdf7-a400-4114-96ca-60cc0cf832e2",
   "metadata": {},
   "source": [
    "Summary:\n",
    "- parse, beautiful soup, pass only if codes are 200\n",
    "- get all texts, if there was more time, searching for divs to avoid pages with multiple products would be better\n",
    "- pass some samples through gpt parser, some pages contain title that can be used to check if parser output is ok, input could be vectorised and picked by similarity to some templates, but is just cut, as usually most important info is up.\n",
    "  prompt extracts product name, type, color, and other attributes, (I would change prompt to return specific type of furniture, as categories returned are too broad)\n",
    "- retrain llama2 7b on the data. When quantized isn't significally slower than newest encoder, or encoder-decoder architecture models(that are better for abstractive summary generation, bert would be good for extractive. This just a test, but I guess in real life abstractive would be more interesting for parsing company data) There was not enough data to train the llama properly, and I didn't want to overfit it.\n",
    "- some analysis in bokeh\n",
    "- chroma vector store with llama, very simple. Without langchain.\n",
    "\n",
    "The code isn't as clean as I'd like, but I had no time to clean it better and add the comments."
   ]
  },
  {
   "cell_type": "code",
   "execution_count": 200,
   "id": "996aabdf-9102-4b3a-8eec-1795bfde0590",
   "metadata": {},
   "outputs": [],
   "source": [
    "import os\n",
    "import torch\n",
    "from datasets import load_dataset\n",
    "from transformers import (\n",
    "    AutoModelForCausalLM,\n",
    "    AutoTokenizer,\n",
    "    BitsAndBytesConfig,\n",
    "    HfArgumentParser,\n",
    "    TrainingArguments,\n",
    "    pipeline,\n",
    "    logging,\n",
    ")\n",
    "from peft import LoraConfig, PeftModel\n",
    "from trl import SFTTrainer"
   ]
  },
  {
   "cell_type": "code",
   "execution_count": 258,
   "id": "70363525-98c9-4d41-bdcb-fdd29b6fe919",
   "metadata": {},
   "outputs": [],
   "source": [
    "import pandas as pd\n",
    "i = 0\n",
    "urls = pd.read_csv(\"urls.csv\")\n",
    "urls = urls.urls.values\n",
    "def clean(text):\n",
    "    text = re.sub('<.*>','',text)\n",
    "    text = re.sub('\\n+','',text)\n",
    "    text = re.sub(' +',' ',text)\n",
    "    return text.strip()\n",
    "data = []  \n",
    "\n",
    "for url in urls:\n",
    "    print(i,\">>\",url)\n",
    "    # try:\n",
    "    s = requests.Session()\n",
    "    s.mount(url, HTTPAdapter(max_retries=3))\n",
    "    page = requests.get(url, allow_redirects=True)\n",
    "    print(page.status_code)\n",
    "    \n",
    "    soup = BeautifulSoup(page.content, \"lxml\")\n",
    "    title = str(soup.title)\n",
    "    title = clean(title)\n",
    "\n",
    "    # print(dir(soup))\n",
    "    text = str(soup.text)\n",
    "    if len(text)<100:\n",
    "\n",
    "        data.append({\"n\":i,\"url\":url,\"title\":None,\"text\":None})\n",
    "    else:    \n",
    "        text = [i for i in np.unique(sent_tokenize(text)) if len(i)<1000]\n",
    "        text = [clean(i) for i in text]\n",
    "        data.append({\"n\":i,\"url\":url,\"title\":title,\"text\":text})\n",
    "    print(\"====================\")\n",
    "    i+=1\n",
    "    # break"
   ]
  },
  {
   "cell_type": "code",
   "execution_count": 317,
   "id": "159a6fda-5a0b-4363-bdfb-0ab8666c5869",
   "metadata": {},
   "outputs": [
    {
     "name": "stdout",
     "output_type": "stream",
     "text": [
      "0 >> https://www.factorybuys.com.au/products/euro-top-mattress-king\n",
      "200\n",
      "====================\n"
     ]
    }
   ],
   "source": [
    "import pandas as pd\n",
    "import urllib\n",
    "from bs4 import BeautifulSoup\n",
    "from urllib.parse import urljoin\n",
    "import requests\n",
    "from requests.adapters import HTTPAdapter\n",
    "from fake_useragent import UserAgent\n",
    "from requests.exceptions import ConnectionError\n",
    "import re\n",
    "import json\n",
    "import numpy as np\n",
    "from nltk.tokenize import sent_tokenize, word_tokenize \n",
    "i = 0\n",
    "urls = pd.read_csv(\"Untitled Folder/good_urls.csv\")\n",
    "urls = urls.urls.values\n",
    "def clean(text):\n",
    "    text = re.sub('<.*>','',text)\n",
    "    text = re.sub('\\n+','',text)\n",
    "    text = re.sub(' +',' ',text)\n",
    "    return text.strip()\n",
    "data = []  \n",
    "# titles = []\n",
    "# texts = []\n",
    "for url in urls:\n",
    "    print(i,\">>\",url)\n",
    "    # try:\n",
    "    s = requests.Session()\n",
    "    s.mount(url, HTTPAdapter(max_retries=3))\n",
    "    page = requests.get(url, allow_redirects=True)\n",
    "    # if page.status_code == 404:\n",
    "        \n",
    "    print(page.status_code)\n",
    "    \n",
    "    soup = BeautifulSoup(page.content, \"lxml\")\n",
    "    title = str(soup.title)\n",
    "    title = clean(title)\n",
    "\n",
    "    # print(dir(soup))\n",
    "    text = str(soup.text)\n",
    "    if len(text)<100:\n",
    "\n",
    "        data.append({\"n\":i,\"url\":url,\"title\":None,\"text\":None})\n",
    "    else:    \n",
    "        text = [i for i in np.unique(sent_tokenize(text)) if len(i)<1000]\n",
    "        text = [clean(i) for i in text]\n",
    "        data.append({\"n\":i,\"url\":url,\"title\":title,\"text\":text})\n",
    "    print(\"====================\")\n",
    "    i+=1\n",
    "    break"
   ]
  },
  {
   "cell_type": "markdown",
   "id": "96ea1720-888f-48d2-94ca-e48ddc83960f",
   "metadata": {},
   "source": [
    "I used openai to generate samples (about 120)"
   ]
  },
  {
   "cell_type": "code",
   "execution_count": null,
   "id": "f601a458-4638-4611-a455-4e503e40153e",
   "metadata": {},
   "outputs": [],
   "source": [
    "from openai import OpenAI\n",
    "\n",
    "client = OpenAI()\n",
    "\n",
    "processed_data = []\n",
    "for d in data_titled:\n",
    "    print(d['n'])\n",
    "    title = d['title']\n",
    "    body = \" \".join(\" \".join(d['text']).split()[0:400])\n",
    "\n",
    "    response = client.chat.completions.create(\n",
    "      model=\"gpt-3.5-turbo-1106\",\n",
    "      response_format={ \"type\": \"json_object\" },\n",
    "      messages=[\n",
    "        {\"role\": \"system\", \"content\": f\"\"\"\"given a title: {title}\\nand product description:{body}\\n\\nReturn json product name, product type, product color, list of 3 attributes.\\nIf product is not a furnitue, return None.\\nIf description contains multiple products return None\"\"\"},\n",
    "      ],\n",
    "        max_tokens = 100,\n",
    "        temperature = 0,\n",
    "        n = 1\n",
    "    )\n",
    "    print(response)\n",
    "    d['text_short'] = body\n",
    "    d['processed'] = response.choices[0].message.content"
   ]
  },
  {
   "cell_type": "code",
   "execution_count": null,
   "id": "d71ceed6-7fad-4f57-a967-31a69082e6c1",
   "metadata": {},
   "outputs": [],
   "source": [
    "data_titled[0]['processed']\n",
    "new_data = []\n",
    "for d in data_titled:\n",
    "    new_data.append(f\"\"\"[INST]{d['text_short']}\\nExtract product name, product type, product color, list of 3 attributes. [/INST]\\n{d['processed']}\"\"\")\n",
    "pd.DataFrame(zip([d['text_short'] for d in data_titled], [d['title'] for d in data_titled], [d['processed'] for d in data_titled], new_data),\n",
    "             columns=[['text_short','title', 'processed','text']]).to_csv('llama2_dataset2.csv',index=False)\n"
   ]
  },
  {
   "cell_type": "markdown",
   "id": "fbdd9765-9f6d-412a-afa9-8c0dd13cad0f",
   "metadata": {},
   "source": [
    "at some point I picked only these samples that returned title during the parsing, so I could use it for validation, but had no time for testing. "
   ]
  },
  {
   "cell_type": "code",
   "execution_count": 259,
   "id": "85c07e2a-a11b-48f2-9530-8ee16e714d90",
   "metadata": {},
   "outputs": [],
   "source": [
    "model_name = \"NousResearch/Llama-2-7b-chat-hf\"\n",
    "\n",
    "dataset_name = \"llama2_dataset2\"\n",
    "\n",
    "new_model = \"llama-2-7b-product-parse2\"\n",
    "\n",
    "lora_r = 64\n",
    "\n",
    "# Alpha parameter for LoRA scaling\n",
    "lora_alpha = 16\n",
    "\n",
    "# Dropout probability for LoRA layers\n",
    "lora_dropout = 0.1\n",
    "\n",
    "################################################################################\n",
    "# bitsandbytes parameters\n",
    "################################################################################\n",
    "\n",
    "# Activate 4-bit precision base model loading\n",
    "use_4bit = True\n",
    "\n",
    "# Compute dtype for 4-bit base models\n",
    "bnb_4bit_compute_dtype = \"float16\"\n",
    "\n",
    "# Quantization type (fp4 or nf4)\n",
    "bnb_4bit_quant_type = \"nf4\"\n",
    "\n",
    "# Activate nested quantization for 4-bit base models (double quantization)\n",
    "use_nested_quant = False\n",
    "\n",
    "################################################################################\n",
    "# TrainingArguments parameters\n",
    "################################################################################\n",
    "\n",
    "# Output directory where the model predictions and checkpoints will be stored\n",
    "output_dir = \"./results\"\n",
    "\n",
    "# Number of training epochs\n",
    "num_train_epochs = 2\n",
    "\n",
    "# Enable fp16/bf16 training (set bf16 to True with an A100)\n",
    "fp16 = False\n",
    "bf16 = False\n",
    "\n",
    "# Batch size per GPU for training\n",
    "per_device_train_batch_size = 4\n",
    "\n",
    "# Batch size per GPU for evaluation\n",
    "per_device_eval_batch_size = 4\n",
    "\n",
    "# Number of update steps to accumulate the gradients for\n",
    "gradient_accumulation_steps = 1\n",
    "\n",
    "# Enable gradient checkpointing\n",
    "gradient_checkpointing = True\n",
    "\n",
    "# Maximum gradient normal (gradient clipping)\n",
    "max_grad_norm = 0.3\n",
    "\n",
    "# Initial learning rate (AdamW optimizer)\n",
    "learning_rate = 2e-4\n",
    "\n",
    "# Weight decay to apply to all layers except bias/LayerNorm weights\n",
    "weight_decay = 0.001\n",
    "\n",
    "# Optimizer to use\n",
    "optim = \"paged_adamw_32bit\"\n",
    "\n",
    "# Learning rate schedule\n",
    "lr_scheduler_type = \"cosine\"\n",
    "\n",
    "# Number of training steps (overrides num_train_epochs)\n",
    "max_steps = -1\n",
    "\n",
    "# Ratio of steps for a linear warmup (from 0 to learning rate)\n",
    "warmup_ratio = 0.03\n",
    "\n",
    "# Group sequences into batches with same length\n",
    "# Saves memory and speeds up training considerably\n",
    "group_by_length = True\n",
    "\n",
    "# Save checkpoint every X updates steps\n",
    "save_steps = 0\n",
    "\n",
    "# Log every X updates steps\n",
    "logging_steps = 25\n",
    "\n",
    "################################################################################\n",
    "# SFT parameters\n",
    "################################################################################\n",
    "\n",
    "# Maximum sequence length to use\n",
    "max_seq_length = None\n",
    "\n",
    "# Pack multiple short examples in the same input sequence to increase efficiency\n",
    "packing = False\n",
    "\n",
    "# Load the entire model on the GPU 0\n",
    "# device_map = {\"\": 0}\n",
    "device_map = 'auto'"
   ]
  },
  {
   "cell_type": "code",
   "execution_count": 261,
   "id": "ef6bcf65-4c0b-4c55-97a9-623cba71cc95",
   "metadata": {},
   "outputs": [],
   "source": [
    "# Load dataset (you can process it here)\n",
    "dataset = load_dataset(dataset_name, split=\"train\")\n",
    "\n",
    "# Load tokenizer and model with QLoRA configuration\n",
    "compute_dtype = getattr(torch, bnb_4bit_compute_dtype)\n",
    "\n",
    "bnb_config = BitsAndBytesConfig(\n",
    "    load_in_4bit=use_4bit,\n",
    "    bnb_4bit_quant_type=bnb_4bit_quant_type,\n",
    "    bnb_4bit_compute_dtype=compute_dtype,\n",
    "    bnb_4bit_use_double_quant=use_nested_quant,\n",
    ")\n",
    "\n",
    "# Check GPU compatibility with bfloat16\n",
    "if compute_dtype == torch.float16 and use_4bit:\n",
    "    major, _ = torch.cuda.get_device_capability()\n",
    "    if major >= 8:\n",
    "        print(\"=\" * 80)\n",
    "        print(\"Your GPU supports bfloat16: accelerate training with bf16=True\")\n",
    "        print(\"=\" * 80)\n",
    "\n",
    "# Load base model\n",
    "model = AutoModelForCausalLM.from_pretrained(\n",
    "    model_name,\n",
    "    quantization_config=bnb_config,\n",
    "    device_map=device_map,\n",
    "    cache_dir=\"./data/models/\"\n",
    ")\n",
    "model.config.use_cache = False\n",
    "model.config.pretraining_tp = 1\n",
    "\n",
    "# Load LLaMA tokenizer\n",
    "tokenizer = AutoTokenizer.from_pretrained(model_name, trust_remote_code=True)\n",
    "tokenizer.pad_token = tokenizer.eos_token\n",
    "tokenizer.padding_side = \"right\" # Fix weird overflow issue with fp16 training\n",
    "\n",
    "# Load LoRA configuration\n",
    "peft_config = LoraConfig(\n",
    "    lora_alpha=lora_alpha,\n",
    "    lora_dropout=lora_dropout,\n",
    "    r=lora_r,\n",
    "    bias=\"none\",\n",
    "    task_type=\"CAUSAL_LM\",\n",
    ")\n",
    "\n",
    "# Set training parameters\n",
    "training_arguments = TrainingArguments(\n",
    "    output_dir=output_dir,\n",
    "    num_train_epochs=num_train_epochs,\n",
    "    per_device_train_batch_size=per_device_train_batch_size,\n",
    "    gradient_accumulation_steps=gradient_accumulation_steps,\n",
    "    optim=optim,\n",
    "    save_steps=save_steps,\n",
    "    logging_steps=logging_steps,\n",
    "    learning_rate=learning_rate,\n",
    "    weight_decay=weight_decay,\n",
    "    fp16=fp16,\n",
    "    bf16=bf16,\n",
    "    max_grad_norm=max_grad_norm,\n",
    "    max_steps=max_steps,\n",
    "    warmup_ratio=warmup_ratio,\n",
    "    group_by_length=group_by_length,\n",
    "    lr_scheduler_type=lr_scheduler_type,\n",
    "    report_to=\"tensorboard\"\n",
    ")\n",
    "\n",
    "# Set supervised fine-tuning parameters\n",
    "trainer = SFTTrainer(\n",
    "    model=model,\n",
    "    train_dataset=dataset,\n",
    "    peft_config=peft_config,\n",
    "    dataset_text_field=\"text\",\n",
    "    # dataset_text_field=\"conversation\",\n",
    "    max_seq_length=max_seq_length,\n",
    "    tokenizer=tokenizer,\n",
    "    args=training_arguments,\n",
    "    packing=packing,\n",
    ")\n"
   ]
  },
  {
   "cell_type": "code",
   "execution_count": 10,
   "id": "b1d7f3fd-0970-4fa8-8d83-6fe7747f746c",
   "metadata": {},
   "outputs": [
    {
     "name": "stderr",
     "output_type": "stream",
     "text": [
      "You're using a LlamaTokenizerFast tokenizer. Please note that with a fast tokenizer, using the `__call__` method is faster than using a method to encode the text followed by a call to the `pad` method to get a padded encoding.\n",
      "/home/ubuntu/.local/lib/python3.10/site-packages/torch/utils/checkpoint.py:429: UserWarning: torch.utils.checkpoint: please pass in use_reentrant=True or use_reentrant=False explicitly. The default value of use_reentrant will be updated to be False in the future. To maintain current behavior, pass use_reentrant=True. It is recommended that you use use_reentrant=False. Refer to docs for more details on the differences between the two variants.\n",
      "  warnings.warn(\n"
     ]
    },
    {
     "data": {
      "text/html": [
       "\n",
       "    <div>\n",
       "      \n",
       "      <progress value='70' max='70' style='width:300px; height:20px; vertical-align: middle;'></progress>\n",
       "      [70/70 07:44, Epoch 2/2]\n",
       "    </div>\n",
       "    <table border=\"1\" class=\"dataframe\">\n",
       "  <thead>\n",
       " <tr style=\"text-align: left;\">\n",
       "      <th>Step</th>\n",
       "      <th>Training Loss</th>\n",
       "    </tr>\n",
       "  </thead>\n",
       "  <tbody>\n",
       "    <tr>\n",
       "      <td>25</td>\n",
       "      <td>2.273900</td>\n",
       "    </tr>\n",
       "    <tr>\n",
       "      <td>50</td>\n",
       "      <td>1.909100</td>\n",
       "    </tr>\n",
       "  </tbody>\n",
       "</table><p>"
      ],
      "text/plain": [
       "<IPython.core.display.HTML object>"
      ]
     },
     "metadata": {},
     "output_type": "display_data"
    },
    {
     "data": {
      "text/plain": [
       "TrainOutput(global_step=70, training_loss=2.0263529641287668, metrics={'train_runtime': 478.7046, 'train_samples_per_second': 0.581, 'train_steps_per_second': 0.146, 'total_flos': 6942979218407424.0, 'train_loss': 2.0263529641287668, 'epoch': 2.0})"
      ]
     },
     "execution_count": 10,
     "metadata": {},
     "output_type": "execute_result"
    }
   ],
   "source": [
    "# Train model\n",
    "trainer.train()"
   ]
  },
  {
   "cell_type": "code",
   "execution_count": 13,
   "id": "875f5358-3930-45d3-9ffe-05a87062900c",
   "metadata": {},
   "outputs": [
    {
     "data": {
      "text/plain": [
       "0"
      ]
     },
     "execution_count": 13,
     "metadata": {},
     "output_type": "execute_result"
    }
   ],
   "source": [
    "\n",
    "del trainer\n",
    "import gc\n",
    "gc.collect()\n",
    "gc.collect()"
   ]
  },
  {
   "cell_type": "code",
   "execution_count": 325,
   "id": "8bab7778-e4ad-4497-a21f-693c195a32bc",
   "metadata": {},
   "outputs": [],
   "source": [
    "# Reload model in FP16 and merge it with LoRA weights\n",
    "base_model = AutoModelForCausalLM.from_pretrained(\n",
    "    model_name,\n",
    "    low_cpu_mem_usage=True,\n",
    "    return_dict=True,\n",
    "    # quantization_config=bnb_config,\n",
    "    torch_dtype=torch.float16,\n",
    "    device_map=device_map,\n",
    "    cache_dir=\"./data/models/\"\n",
    ")\n",
    "model = PeftModel.from_pretrained(base_model, new_model)\n",
    "model = model.merge_and_unload()\n",
    "\n",
    "# Reload tokenizer to save it\n",
    "tokenizer = AutoTokenizer.from_pretrained(model_name, trust_remote_code=True)\n",
    "tokenizer.pad_token = tokenizer.eos_token\n",
    "tokenizer.padding_side = \"right\""
   ]
  },
  {
   "cell_type": "code",
   "execution_count": 45,
   "id": "a653783d-faaa-48eb-a8a6-2f14841df9cf",
   "metadata": {},
   "outputs": [],
   "source": [
    "pipe = pipeline(task=\"text-generation\", model=model, tokenizer=tokenizer, max_length=1000, return_full_text=False, repetition_penalty=1.1)\n"
   ]
  },
  {
   "cell_type": "code",
   "execution_count": null,
   "id": "46cb2330-2a40-49b7-97a4-a15cfa40b6e5",
   "metadata": {
    "scrolled": true
   },
   "outputs": [
    {
     "name": "stderr",
     "output_type": "stream",
     "text": [
      "  0%|          | 1/231 [00:03<12:38,  3.30s/it]"
     ]
    },
    {
     "name": "stdout",
     "output_type": "stream",
     "text": [
      "1 {\n",
      "  \"product_name\": \"Euro Top Mattress\",\n",
      "  \"product_type\": \"Furniture\",\n",
      "  \"product_color\": \"Medium Thickness: 32cm\",\n",
      "  \"attributes\": [\"Plush Euro Top padding\", \"5 zoned pocket springs\", \"Independent coil system\"]\n",
      "}\n"
     ]
    },
    {
     "name": "stderr",
     "output_type": "stream",
     "text": [
      "  1%|          | 2/231 [00:05<11:09,  2.92s/it]"
     ]
    },
    {
     "name": "stdout",
     "output_type": "stream",
     "text": [
      "2 {\n",
      "  \"product_name\": \"Beadlight Cirrus LED Reading Light\",\n",
      "  \"product_type\": \"Lighting\",\n",
      "  \"product_color\": \"Black\",\n",
      "  \"attributes\": [\"Energy efficient\", \"Handmade\", \"Private jet aircraft inspired\"]\n",
      "}\n"
     ]
    },
    {
     "name": "stderr",
     "output_type": "stream",
     "text": [
      "  1%|▏         | 3/231 [00:09<12:17,  3.24s/it]"
     ]
    },
    {
     "name": "stdout",
     "output_type": "stream",
     "text": [
      "7 {\n",
      "  \"product_name\": \"Gift Cards\",\n",
      "  \"product_type\": \"Furniture\",\n",
      "  \"product_color\": \"Opal\",\n",
      "  \"attributes\": [\"Summer Spend & Save Now On!\", \"Design ServicesInterior Design Advice, Custom Furniture Packages & a Dedicated Trade Program for allied businesses.\", \"Need help?\"]\n",
      "}\n"
     ]
    },
    {
     "name": "stderr",
     "output_type": "stream",
     "text": [
      "/home/ubuntu/.local/lib/python3.10/site-packages/transformers/generation/utils.py:1268: UserWarning: Input length of input_ids is 1068, but `max_length` is set to 1000. This can lead to unexpected behavior. You should consider increasing `max_new_tokens`.\n",
      "  warnings.warn(\n",
      "  2%|▏         | 4/231 [00:09<08:00,  2.11s/it]"
     ]
    },
    {
     "name": "stdout",
     "output_type": "stream",
     "text": [
      "14 {\n"
     ]
    },
    {
     "name": "stderr",
     "output_type": "stream",
     "text": [
      "  2%|▏         | 5/231 [00:12<08:52,  2.36s/it]"
     ]
    },
    {
     "name": "stdout",
     "output_type": "stream",
     "text": [
      "17 {\n",
      "  \"product_name\": \"String weave timber stool\",\n",
      "  \"product_type\": \"Furniture\",\n",
      "  \"product_color\": \"Natural\",\n",
      "  \"attributes\": [\"Hand carved\", \"Sustainably grown Timbers\", \"Super comfy and lightweight\"]\n",
      "}\n"
     ]
    },
    {
     "name": "stderr",
     "output_type": "stream",
     "text": [
      "  3%|▎         | 6/231 [00:15<09:42,  2.59s/it]"
     ]
    },
    {
     "name": "stdout",
     "output_type": "stream",
     "text": [
      "19 {\n",
      "  \"product_name\": \"Gift Card\",\n",
      "  \"product_type\": \"Gift Card\",\n",
      "  \"product_color\": null,\n",
      "  \"attributes\": [\"Donna's Home Furnishings\", \"Visit Us In-Store at Conroe or The Woodlands!\", \"EmailSign UpFacebookInstagramYouTube\"]\n",
      "}\n"
     ]
    },
    {
     "name": "stderr",
     "output_type": "stream",
     "text": [
      "  3%|▎         | 7/231 [00:18<09:54,  2.65s/it]"
     ]
    },
    {
     "name": "stdout",
     "output_type": "stream",
     "text": [
      "21 {\n",
      "  \"product_name\": \"Kaiser Box Bed\",\n",
      "  \"product_type\": \"Bed\",\n",
      "  \"product_color\": \"Blush Plush Velvet\",\n",
      "  \"attributes\": [\"Modern\", \"Geometric lines\", \"Smooth edges\"]\n",
      "}\n"
     ]
    },
    {
     "name": "stderr",
     "output_type": "stream",
     "text": [
      "  3%|▎         | 8/231 [00:21<09:47,  2.63s/it]"
     ]
    },
    {
     "name": "stdout",
     "output_type": "stream",
     "text": [
      "22 {\n",
      "  \"product_name\": \"Hoyt Chair\",\n",
      "  \"product_type\": \"Furniture\",\n",
      "  \"product_color\": \"Grey\",\n",
      "  \"attributes\": [\"Simplicity in design\", \"Plush cushions\", \"Padded bolsters\"]\n",
      "}\n"
     ]
    },
    {
     "name": "stderr",
     "output_type": "stream",
     "text": [
      "  4%|▍         | 9/231 [00:23<09:16,  2.51s/it]"
     ]
    },
    {
     "name": "stdout",
     "output_type": "stream",
     "text": [
      "29 {\n",
      "  \"product_name\": \"Dining Chair\",\n",
      "  \"product_type\": \"Furniture\",\n",
      "  \"product_color\": \"Black Leather\",\n",
      "  \"attributes\": [\"Leather\", \"Wood\", \"Dining\"]\n",
      "}\n"
     ]
    },
    {
     "name": "stderr",
     "output_type": "stream",
     "text": [
      "  4%|▍         | 10/231 [00:26<09:24,  2.56s/it]"
     ]
    },
    {
     "name": "stdout",
     "output_type": "stream",
     "text": [
      "32 {\n",
      "  \"product_name\": \"Yves Desk\",\n",
      "  \"product_type\": \"Furniture\",\n",
      "  \"product_color\": \"Dark Brown\",\n",
      "  \"attributes\": [\"Elegant design\", \"Compact size\", \"Inlaid leather writing surface\"]\n",
      "}\n"
     ]
    },
    {
     "name": "stderr",
     "output_type": "stream",
     "text": [
      "/home/ubuntu/.local/lib/python3.10/site-packages/transformers/generation/utils.py:1268: UserWarning: Input length of input_ids is 1456, but `max_length` is set to 1000. This can lead to unexpected behavior. You should consider increasing `max_new_tokens`.\n",
      "  warnings.warn(\n",
      "  5%|▍         | 11/231 [00:26<07:07,  1.95s/it]"
     ]
    },
    {
     "name": "stdout",
     "output_type": "stream",
     "text": [
      "33 {\n"
     ]
    },
    {
     "name": "stderr",
     "output_type": "stream",
     "text": [
      "  5%|▌         | 12/231 [00:29<08:26,  2.31s/it]"
     ]
    },
    {
     "name": "stdout",
     "output_type": "stream",
     "text": [
      "34 {\n",
      "  \"product_name\": \"Palecek Coco Ruffle Mirror\",\n",
      "  \"product_type\": \"Furniture\",\n",
      "  \"product_color\": \"Natural\",\n",
      "  \"attributes\": [\"Ruffle shaped metal frame\", \"Embellished with coco wood and beads\", \"Finished in a natural finish\"]\n",
      "}\n"
     ]
    },
    {
     "name": "stderr",
     "output_type": "stream",
     "text": [
      "  6%|▌         | 13/231 [00:31<07:36,  2.09s/it]"
     ]
    },
    {
     "name": "stdout",
     "output_type": "stream",
     "text": [
      "35 {\n",
      "  \"product_name\": \"Porch Swing\",\n",
      "  \"product_type\": \"Furniture\",\n",
      "  \"product_color\n"
     ]
    },
    {
     "name": "stderr",
     "output_type": "stream",
     "text": [
      "  6%|▌         | 14/231 [00:34<08:26,  2.33s/it]"
     ]
    },
    {
     "name": "stdout",
     "output_type": "stream",
     "text": [
      "37 {\n",
      "  \"product_name\": \"Modern Platform Beds\",\n",
      "  \"product_type\": \"Bed\",\n",
      "  \"product_color\": \"Black\",\n",
      "  \"attributes\": [\"Excellent bed finishes and quality\", \"Sturdy, solid construction\", \"Unique functions\"]\n",
      "}\n"
     ]
    },
    {
     "name": "stderr",
     "output_type": "stream",
     "text": [
      "  6%|▋         | 15/231 [00:37<08:57,  2.49s/it]"
     ]
    },
    {
     "name": "stdout",
     "output_type": "stream",
     "text": [
      "43 {\n",
      "  \"product_name\": \"Modern and Contemporary Bedroom Furniture\",\n",
      "  \"product_type\": \"Furniture\",\n",
      "  \"product_color\": \"Various\",\n",
      "  \"attributes\": [\"Modern and Contemporary\", \"Bedroom Furniture\", \"Houston, Texas\"]\n",
      "}\n"
     ]
    },
    {
     "name": "stderr",
     "output_type": "stream",
     "text": [
      "  7%|▋         | 16/231 [00:39<08:32,  2.38s/it]"
     ]
    },
    {
     "name": "stdout",
     "output_type": "stream",
     "text": [
      "44 {\n",
      "  \"product_name\": \"Products\",\n",
      "  \"product_type\": \"Furniture\",\n",
      "  \"product_color\": null,\n",
      "  \"attributes\": [\"By Vendor\", \"By Room\", \"By Manufacturer\"]\n",
      "}\n"
     ]
    },
    {
     "name": "stderr",
     "output_type": "stream",
     "text": [
      "  7%|▋         | 17/231 [00:42<09:24,  2.64s/it]"
     ]
    },
    {
     "name": "stdout",
     "output_type": "stream",
     "text": [
      "45 {\n",
      "  \"product_name\": \"Aaron Mid Century Modern Upholstered Sofa\",\n",
      "  \"product_type\": \"Furniture\",\n",
      "  \"product_color\": \"Gray\",\n",
      "  \"attributes\": [\"Dense foam cushioning\", \"Walnut stained wood legs\", \"Supportive seating experience\"]\n",
      "}\n"
     ]
    },
    {
     "name": "stderr",
     "output_type": "stream",
     "text": [
      "  8%|▊         | 18/231 [00:45<09:40,  2.73s/it]"
     ]
    },
    {
     "name": "stdout",
     "output_type": "stream",
     "text": [
      "48 {\n",
      "  \"product_name\": \"Alf & Bud Side Tables\",\n",
      "  \"product_type\": \"Furniture\",\n",
      "  \"product_color\": \"Natural Oak Finish\",\n",
      "  \"attributes\": [\"Hand Turned Pedestals\", \"Solid Ebonised Oak\", \"Natural Oak Finished\"]\n",
      "}\n"
     ]
    },
    {
     "name": "stderr",
     "output_type": "stream",
     "text": [
      "  8%|▊         | 19/231 [00:52<14:29,  4.10s/it]"
     ]
    },
    {
     "name": "stdout",
     "output_type": "stream",
     "text": [
      "49 {\n",
      "  \"product_name\": \"Enso Platform Bed\",\n",
      "  \"product_type\": \"Platform Bed\",\n",
      "  \"product_color\": \"Solid Wood\",\n",
      "  \"attributes\": [\"Handmade in Columbus, Ohio\", \"100% solid wood\", \"Organic wood finish\"]\n",
      "}\n",
      "\n",
      "{\n",
      "  \"product_name\": \"Modern 'TWO' Platform Bed\",\n",
      "  \"product_type\": \"Platform Bed\",\n",
      "  \"product_color\": \"Mid Century Modern\",\n",
      "  \"attributes\": [\"Handmade\", \"100% solid wood\", \"Organic finish\"]\n",
      "}\n",
      "\n",
      "{\n",
      "  \"product_name\": \"Apollo Platform Bed\",\n",
      "  \"product_type\": \"Platform Bed\",\n",
      "  \"product_color\": \"Walnut\",\n",
      "  \"attributes\":\n"
     ]
    },
    {
     "name": "stderr",
     "output_type": "stream",
     "text": [
      "  9%|▊         | 20/231 [00:55<12:56,  3.68s/it]"
     ]
    },
    {
     "name": "stdout",
     "output_type": "stream",
     "text": [
      "56 {\n",
      "  \"product_name\": \"Gift Card\",\n",
      "  \"product_type\": \"Gift Card\",\n",
      "  \"product_color\": null,\n",
      "  \"attributes\": [\"Valid for 3 years\", \"Can be used online or instore\", \"Personalised message available\"]\n",
      "}\n"
     ]
    },
    {
     "name": "stderr",
     "output_type": "stream",
     "text": [
      "  9%|▉         | 21/231 [00:57<11:40,  3.33s/it]"
     ]
    },
    {
     "name": "stdout",
     "output_type": "stream",
     "text": [
      "57 {\n",
      "  \"product_name\": \"Florence Sofa\",\n",
      "  \"product_type\": \"Furniture\",\n",
      "  \"product_color\": \"Beige\",\n",
      "  \"attributes\": [\"Leather upholstery\", \"Wooden legs\", \"Sofa bed\"]\n",
      "}\n"
     ]
    },
    {
     "name": "stderr",
     "output_type": "stream",
     "text": [
      " 10%|▉         | 22/231 [01:00<10:47,  3.10s/it]"
     ]
    },
    {
     "name": "stdout",
     "output_type": "stream",
     "text": [
      "61 {\n",
      "  \"product_name\": \"Hammock\",\n",
      "  \"product_type\": \"Furniture\",\n",
      "  \"product_color\": \"Multiple\",\n",
      "  \"attributes\": [\"Versatile\", \"Tree-Friendly\", \"Strong\"]\n",
      "}\n"
     ]
    },
    {
     "name": "stderr",
     "output_type": "stream",
     "text": [
      " 10%|▉         | 23/231 [01:03<10:27,  3.02s/it]"
     ]
    },
    {
     "name": "stdout",
     "output_type": "stream",
     "text": [
      "62 {\n",
      "  \"product_name\": \"Fish Bricka\",\n",
      "  \"product_type\": \"Mattress\",\n",
      "  \"product_color\": \"N/A\",\n",
      "  \"attributes\": [\"Classic and timeless design\", \"Made from high-quality materials\", \"Available in two sizes\"]\n",
      "}\n"
     ]
    },
    {
     "name": "stderr",
     "output_type": "stream",
     "text": [
      " 10%|█         | 24/231 [01:05<09:39,  2.80s/it]"
     ]
    },
    {
     "name": "stdout",
     "output_type": "stream",
     "text": [
      "63 {\n",
      "  \"product_name\": \"Furniture\",\n",
      "  \"product_type\": \"Furniture\",\n",
      "  \"product_color\": \"N/A\",\n",
      "  \"attributes\": [\"Furniture\", \"Interior Decor\", \"Home Decor\"]\n",
      "}\n"
     ]
    },
    {
     "name": "stderr",
     "output_type": "stream",
     "text": [
      " 11%|█         | 25/231 [01:08<09:29,  2.77s/it]"
     ]
    },
    {
     "name": "stdout",
     "output_type": "stream",
     "text": [
      "70 {\n",
      "  \"product_name\": \"Sectional + Ottoman Convertible Sleeper\",\n",
      "  \"product_type\": \"Furniture\",\n",
      "  \"product_color\": \"Blue grey\",\n",
      "  \"attributes\": [\"Linen like\", \"Matching ottoman\", \"Convertible sleeper\"]\n",
      "}\n"
     ]
    },
    {
     "name": "stderr",
     "output_type": "stream",
     "text": [
      " 11%|█▏        | 26/231 [01:10<08:51,  2.59s/it]"
     ]
    },
    {
     "name": "stdout",
     "output_type": "stream",
     "text": [
      "81 {\n",
      "  \"product_name\": \"Sectional Sofa\",\n",
      "  \"product_type\": \"Furniture\",\n",
      "  \"product_color\": \"Various\",\n",
      "  \"attributes\": [\"Leather\", \"Linen\", \"Velvet\"]\n",
      "}\n"
     ]
    },
    {
     "name": "stderr",
     "output_type": "stream",
     "text": [
      " 12%|█▏        | 27/231 [01:20<16:01,  4.71s/it]"
     ]
    },
    {
     "name": "stdout",
     "output_type": "stream",
     "text": [
      "82 {\n",
      "  \"product_name\": \"Beak Bird\",\n",
      "  \"product_type\": \"Møbel\",\n",
      "  \"product_color\": \"Warm Nordic\",\n",
      "  \"attributes\": [\"Wood\", \"Design\", \"Sustainable\"]\n",
      "}\n",
      "\n",
      "{\n",
      "  \"product_name\": \"Fried Egg\",\n",
      "  \"product_type\": \"Møbel\",\n",
      "  \"product_color\": \"Warm Nordic\",\n",
      "  \"attributes\": [\"Wood\", \"Design\", \"Sustainable\"]\n",
      "}\n",
      "\n",
      "{\n",
      "  \"product_name\": \"Kampagne\",\n",
      "  \"product_type\": \"Møbel\",\n",
      "  \"product_color\": \"Warm Nordic\",\n",
      "  \"attributes\": [\"Wood\", \"Design\", \"Sustainable\"]\n",
      "}\n",
      "\n",
      "{\n",
      "  \"product_name\": \"Opal Lamella\",\n",
      "  \"product_type\": \"Møbel\",\n",
      "  \"product_color\": \"Warm Nordic\",\n",
      "  \"attributes\": [\"Wood\", \"Design\", \"Sustainable\"]\n",
      "}\n"
     ]
    },
    {
     "name": "stderr",
     "output_type": "stream",
     "text": [
      " 12%|█▏        | 28/231 [01:22<13:42,  4.05s/it]"
     ]
    },
    {
     "name": "stdout",
     "output_type": "stream",
     "text": [
      "83 {\n",
      "  \"product_name\": \"Windsor Chair\",\n",
      "  \"product_type\": \"Furniture\",\n",
      "  \"product_color\": \"Natural\",\n",
      "  \"attributes\": [\"Gently curved seat\", \"Softened edges\", \"Tapered legs\"]\n",
      "}\n"
     ]
    },
    {
     "name": "stderr",
     "output_type": "stream",
     "text": [
      "/home/ubuntu/.local/lib/python3.10/site-packages/transformers/generation/utils.py:1268: UserWarning: Input length of input_ids is 1078, but `max_length` is set to 1000. This can lead to unexpected behavior. You should consider increasing `max_new_tokens`.\n",
      "  warnings.warn(\n",
      " 13%|█▎        | 29/231 [01:23<09:56,  2.96s/it]"
     ]
    },
    {
     "name": "stdout",
     "output_type": "stream",
     "text": [
      "84 {\n"
     ]
    },
    {
     "name": "stderr",
     "output_type": "stream",
     "text": [
      " 13%|█▎        | 30/231 [01:25<09:22,  2.80s/it]"
     ]
    },
    {
     "name": "stdout",
     "output_type": "stream",
     "text": [
      "88 {\n",
      "  \"product_name\": \"Furniture\",\n",
      "  \"product_type\": \"Home Decor\",\n",
      "  \"product_color\": \"Multiple Colors\",\n",
      "  \"attributes\": [\"Modern\", \"Organic\", \"Customizable\"]\n",
      "}\n"
     ]
    },
    {
     "name": "stderr",
     "output_type": "stream",
     "text": [
      " 13%|█▎        | 31/231 [01:28<09:42,  2.91s/it]"
     ]
    },
    {
     "name": "stdout",
     "output_type": "stream",
     "text": [
      "93 {\n",
      "  \"product_name\": \"Guardsman Gold Complete Plus Furniture Protection Plan\",\n",
      "  \"product_type\": \"Furniture Protection Plan\",\n",
      "  \"product_color\": null,\n",
      "  \"attributes\": [\"Accidental Stains and Damage Coverage\", \"Life Well-Lived Accidents Covered\", \"Expert Technicians\"]\n",
      "}\n"
     ]
    },
    {
     "name": "stderr",
     "output_type": "stream",
     "text": [
      " 14%|█▍        | 32/231 [01:31<09:38,  2.91s/it]"
     ]
    },
    {
     "name": "stdout",
     "output_type": "stream",
     "text": [
      "96 {\n",
      "  \"product_name\": \"Molloy\",\n",
      "  \"product_type\": \"Furniture\",\n",
      "  \"product_color\": \"Oak, Walnut Ash, Black Stained Ash\",\n",
      "  \"attributes\": [\"Timber\", \"Sustainable Materials\", \"Low Environmental Impact\"]\n",
      "}\n"
     ]
    },
    {
     "name": "stderr",
     "output_type": "stream",
     "text": [
      " 14%|█▍        | 33/231 [01:34<10:00,  3.04s/it]"
     ]
    },
    {
     "name": "stdout",
     "output_type": "stream",
     "text": [
      "99 {\n",
      "  \"product_name\": \"Capsule Home\",\n",
      "  \"product_type\": \"Furniture\",\n",
      "  \"product_color\": \"N/A\",\n",
      "  \"attributes\": [\"Opening Soon\", \"Unfortunately, we are no longer in operation and have to say goodbye\", \"If you have any questions, please contact us at contact@capsulehome.com\"]\n",
      "}\n"
     ]
    },
    {
     "name": "stderr",
     "output_type": "stream",
     "text": [
      " 15%|█▍        | 34/231 [01:36<09:00,  2.74s/it]"
     ]
    },
    {
     "name": "stdout",
     "output_type": "stream",
     "text": [
      "103 {\n",
      "  \"product_name\": \"Ecommerce Software\",\n",
      "  \"product_type\": \"Software\",\n",
      "  \"product_color\": null,\n",
      "  \"attributes\": [\"Shopify\", \"Ecommerce\", \"Furniture\"]\n",
      "}\n"
     ]
    },
    {
     "name": "stderr",
     "output_type": "stream",
     "text": [
      " 15%|█▌        | 35/231 [01:39<08:39,  2.65s/it]"
     ]
    },
    {
     "name": "stdout",
     "output_type": "stream",
     "text": [
      "105 {\n",
      "  \"product_name\": \"Jack Leather Stool\",\n",
      "  \"product_type\": \"Furniture\",\n",
      "  \"product_color\": \"Natural\",\n",
      "  \"attributes\": [\"Leather\", \"Wood\", \"Kitchen\"]\n",
      "}\n"
     ]
    },
    {
     "name": "stderr",
     "output_type": "stream",
     "text": [
      "/home/ubuntu/.local/lib/python3.10/site-packages/transformers/generation/utils.py:1268: UserWarning: Input length of input_ids is 1907, but `max_length` is set to 1000. This can lead to unexpected behavior. You should consider increasing `max_new_tokens`.\n",
      "  warnings.warn(\n",
      " 16%|█▌        | 36/231 [01:40<06:46,  2.09s/it]"
     ]
    },
    {
     "name": "stdout",
     "output_type": "stream",
     "text": [
      "107 {\n"
     ]
    },
    {
     "name": "stderr",
     "output_type": "stream",
     "text": [
      " 16%|█▌        | 37/231 [01:42<07:29,  2.32s/it]"
     ]
    },
    {
     "name": "stdout",
     "output_type": "stream",
     "text": [
      "108 {\n",
      "  \"product_name\": \"Big Cay Desk\",\n",
      "  \"product_type\": \"Furniture\",\n",
      "  \"product_color\": \"Hand Planed Bourbon Cherry\",\n",
      "  \"attributes\": [\"American Made\", \"Maine Cottage\", \"Handcrafted\"]\n",
      "}\n"
     ]
    },
    {
     "name": "stderr",
     "output_type": "stream",
     "text": [
      " 16%|█▋        | 38/231 [01:45<07:56,  2.47s/it]"
     ]
    },
    {
     "name": "stdout",
     "output_type": "stream",
     "text": [
      "118 {\n",
      "  \"product_name\": \"Westlake Queen Storage Bed\",\n",
      "  \"product_type\": \"Bedroom\",\n",
      "  \"product_color\": \"Cherry Brown\",\n",
      "  \"attributes\": [\"Solid Mahogany\", \"American Shaker influence\", \"Sustainable\"]\n",
      "}\n"
     ]
    },
    {
     "name": "stderr",
     "output_type": "stream",
     "text": [
      " 17%|█▋        | 39/231 [01:48<07:58,  2.49s/it]"
     ]
    },
    {
     "name": "stdout",
     "output_type": "stream",
     "text": [
      "119 {\n",
      "  \"product_name\": \"Lipa\",\n",
      "  \"product_type\": \"Furniture\",\n",
      "  \"product_color\": \"Colorful Plastic\",\n",
      "  \"attributes\": [\"Durable\", \"Practical\", \"Stylish\"]\n",
      "}\n"
     ]
    },
    {
     "name": "stderr",
     "output_type": "stream",
     "text": [
      " 17%|█▋        | 40/231 [01:51<08:06,  2.55s/it]"
     ]
    },
    {
     "name": "stdout",
     "output_type": "stream",
     "text": [
      "120 {\n",
      "  \"product_name\": \"Furniture Outlet of Wilmington\",\n",
      "  \"product_type\": \"Home Decor\",\n",
      "  \"product_color\": \"N/A\",\n",
      "  \"attributes\": [\"High-quality furniture\", \"Unbeatable prices\", \"Quality furniture\"]\n",
      "}\n"
     ]
    },
    {
     "name": "stderr",
     "output_type": "stream",
     "text": [
      " 18%|█▊        | 41/231 [01:53<08:27,  2.67s/it]"
     ]
    },
    {
     "name": "stdout",
     "output_type": "stream",
     "text": [
      "124 {\n",
      "  \"product_name\": \"Quirky Home Accessories and Furniture\",\n",
      "  \"product_type\": \"Furniture\",\n",
      "  \"product_color\": \"N/A\",\n",
      "  \"attributes\": [\"Fabric Sofas\", \"Leather Sofas\", \"Recliner Sofas\"]\n",
      "}\n"
     ]
    },
    {
     "name": "stderr",
     "output_type": "stream",
     "text": [
      " 18%|█▊        | 42/231 [01:59<10:51,  3.45s/it]"
     ]
    },
    {
     "name": "stdout",
     "output_type": "stream",
     "text": [
      "126 {\n",
      "  \"product_name\": \"Medallion 34 Inch Chandelier\",\n",
      "  \"product_type\": \"Lighting\",\n",
      "  \"product_color\": \"Silver\",\n",
      "  \"attributes\": [\"Modern design\", \"Stylish\", \"Sophisticated\"]\n",
      "}\n",
      "\n",
      "{\n",
      "  \"product_name\": \"Euro Living Furniture\",\n",
      "  \"product_type\": \"Furniture\",\n",
      "  \"product_color\": \"N/A\",\n",
      "  \"attributes\": [\"Affordable prices\", \"Quality furniture\", \"Wide range of products\"]\n",
      "}\n"
     ]
    },
    {
     "name": "stderr",
     "output_type": "stream",
     "text": [
      "/home/ubuntu/.local/lib/python3.10/site-packages/transformers/generation/utils.py:1268: UserWarning: Input length of input_ids is 1511, but `max_length` is set to 1000. This can lead to unexpected behavior. You should consider increasing `max_new_tokens`.\n",
      "  warnings.warn(\n",
      " 19%|█▊        | 43/231 [01:59<08:06,  2.59s/it]"
     ]
    },
    {
     "name": "stdout",
     "output_type": "stream",
     "text": [
      "137 {\n"
     ]
    },
    {
     "name": "stderr",
     "output_type": "stream",
     "text": [
      " 19%|█▉        | 44/231 [02:03<08:53,  2.85s/it]"
     ]
    },
    {
     "name": "stdout",
     "output_type": "stream",
     "text": [
      "138 {\n",
      "  \"product_name\": \"Side Table O118\",\n",
      "  \"product_type\": \"Furniture\",\n",
      "  \"product_color\": \"Available in 6 different colors\",\n",
      "  \"attributes\": [\"31\\\" W | 15\\\" D | 23\\\" H\", \"Made in Switzerland by USM Haller\", \"Designed by Paul Scharer and Fritz Haller\"]\n",
      "}\n"
     ]
    },
    {
     "name": "stderr",
     "output_type": "stream",
     "text": [
      " 19%|█▉        | 45/231 [02:06<08:42,  2.81s/it]"
     ]
    },
    {
     "name": "stdout",
     "output_type": "stream",
     "text": [
      "142 {\n",
      "  \"product_name\": \"Fun Tufted Scallop Upholstered Sofa\",\n",
      "  \"product_type\": \"Furniture\",\n",
      "  \"product_color\": \"Beige\",\n",
      "  \"attributes\": [\"Comfortable\", \"Overstuffed\", \"Tufted\"]\n",
      "}\n"
     ]
    },
    {
     "name": "stderr",
     "output_type": "stream",
     "text": [
      " 20%|█▉        | 46/231 [02:09<09:17,  3.01s/it]"
     ]
    },
    {
     "name": "stdout",
     "output_type": "stream",
     "text": [
      "143 {\n",
      "  \"product_name\": \"McKee 6pc Dining Set\",\n",
      "  \"product_type\": \"Dining Set\",\n",
      "  \"product_color\": \"Solid American Hardwoods\",\n",
      "  \"attributes\": [\"Amish Handcrafted\", \"Heavily Wrapped During Shipping and Delivery Process\", \"Unique and Beautiful Natural Characteristics\"]\n",
      "}\n"
     ]
    },
    {
     "name": "stderr",
     "output_type": "stream",
     "text": [
      " 20%|██        | 47/231 [02:11<08:40,  2.83s/it]"
     ]
    },
    {
     "name": "stdout",
     "output_type": "stream",
     "text": [
      "146 {\n",
      "  \"product_name\": \"Gift Card\",\n",
      "  \"product_type\": \"Gift Card\",\n",
      "  \"product_color\": null,\n",
      "  \"attributes\": [\"$50\", \"$100\", \"$250\", \"$500\"]\n",
      "}\n"
     ]
    },
    {
     "name": "stderr",
     "output_type": "stream",
     "text": [
      " 21%|██        | 48/231 [02:14<08:32,  2.80s/it]"
     ]
    },
    {
     "name": "stdout",
     "output_type": "stream",
     "text": [
      "149 {\n",
      "  \"product_name\": \"Canadian Modern Lounge Chairs\",\n",
      "  \"product_type\": \"furniture\",\n",
      "  \"product_color\": \"white\",\n",
      "  \"attributes\": [\"Modern design\", \"Craft Associates® Furniture\", \"Expertly crafted\"]\n",
      "}\n"
     ]
    },
    {
     "name": "stderr",
     "output_type": "stream",
     "text": [
      " 21%|██        | 49/231 [02:17<08:11,  2.70s/it]"
     ]
    },
    {
     "name": "stdout",
     "output_type": "stream",
     "text": [
      "150 {\n",
      "  \"product_name\": \"Celebrate\",\n",
      "  \"product_type\": \"Gift Card\",\n",
      "  \"product_color\": null,\n",
      "  \"attributes\": [\"Gift Card\", \"Modern Scandinavian Design\", \"Fine Fashion\"]\n",
      "}\n"
     ]
    },
    {
     "name": "stderr",
     "output_type": "stream",
     "text": [
      " 22%|██▏       | 50/231 [02:19<08:11,  2.72s/it]"
     ]
    },
    {
     "name": "stdout",
     "output_type": "stream",
     "text": [
      "151 {\n",
      "  \"product_name\": \"Hodges Tweed\",\n",
      "  \"product_type\": \"Textile\",\n",
      "  \"product_color\": \"Default Title\",\n",
      "  \"attributes\": [\"100% wool\", \"Milled in the UK\", \"Vertical repeat - 2 3/4 inches\"]\n",
      "}\n"
     ]
    },
    {
     "name": "stderr",
     "output_type": "stream",
     "text": [
      " 22%|██▏       | 51/231 [02:22<07:43,  2.58s/it]"
     ]
    },
    {
     "name": "stdout",
     "output_type": "stream",
     "text": [
      "153 {\n",
      "  \"product_name\": \"Sideboard\",\n",
      "  \"product_type\": \"Furniture\",\n",
      "  \"product_color\": \"Walnut\",\n",
      "  \"attributes\": [\"Handcrafted\", \"Made in Denmark\", \"Vintage\"]\n",
      "}\n"
     ]
    },
    {
     "name": "stderr",
     "output_type": "stream",
     "text": [
      " 23%|██▎       | 52/231 [02:24<07:44,  2.60s/it]"
     ]
    },
    {
     "name": "stdout",
     "output_type": "stream",
     "text": [
      "155 {\n",
      "  \"product_name\": \"Farmhouse Dining Table\",\n",
      "  \"product_type\": \"Furniture\",\n",
      "  \"product_color\": \"Natural\",\n",
      "  \"attributes\": [\"Oversized\", \"Antique reproduction\", \"Exclusive\"]\n",
      "}\n"
     ]
    },
    {
     "name": "stderr",
     "output_type": "stream",
     "text": [
      " 23%|██▎       | 53/231 [02:27<07:57,  2.68s/it]"
     ]
    },
    {
     "name": "stdout",
     "output_type": "stream",
     "text": [
      "156 {\n",
      "  \"product_name\": \"CH24 Wishbone Chair\",\n",
      "  \"product_type\": \"Furniture\",\n",
      "  \"product_color\": \"Beech\",\n",
      "  \"attributes\": [\"Timelessly elegant\", \"Clean and characteristic expression\", \"Soft and inviting quality\"]\n",
      "}\n"
     ]
    },
    {
     "name": "stderr",
     "output_type": "stream",
     "text": [
      " 23%|██▎       | 54/231 [02:31<08:34,  2.91s/it]"
     ]
    },
    {
     "name": "stdout",
     "output_type": "stream",
     "text": [
      "157 {\n",
      "  \"product_name\": \"Gray Floating TV Stand Entertainment Center\",\n",
      "  \"product_type\": \"Furniture\",\n",
      "  \"product_color\": \"Gray\",\n",
      "  \"attributes\": [\"Adjustable and removable audio/video shelves\", \"All materials are CARB certified\", \"Handcrafted & pre-built\"]\n",
      "}\n"
     ]
    },
    {
     "name": "stderr",
     "output_type": "stream",
     "text": [
      " 24%|██▍       | 55/231 [02:33<08:08,  2.77s/it]"
     ]
    },
    {
     "name": "stdout",
     "output_type": "stream",
     "text": [
      "159 {\n",
      "  \"product_name\": \"Puji\",\n",
      "  \"product_type\": \"Domain Name\",\n",
      "  \"product_color\": null,\n",
      "  \"attributes\": [\"Inquire about this domain\", \"2023 Copyright. All Rights Reserved.\", \"Privacy Policy\"]\n",
      "}\n"
     ]
    },
    {
     "name": "stderr",
     "output_type": "stream",
     "text": [
      " 24%|██▍       | 56/231 [02:35<07:46,  2.66s/it]"
     ]
    },
    {
     "name": "stdout",
     "output_type": "stream",
     "text": [
      "161 {\n",
      "  \"product_name\": \"Mid Century Record Storage Console\",\n",
      "  \"product_type\": \"Furniture\",\n",
      "  \"product_color\": \"Walnut\",\n",
      "  \"attributes\": [\"Sleek design\", \"Clean lines\", \"Handmade\"]\n",
      "}\n"
     ]
    },
    {
     "name": "stderr",
     "output_type": "stream",
     "text": [
      " 25%|██▍       | 57/231 [02:44<12:32,  4.32s/it]"
     ]
    },
    {
     "name": "stdout",
     "output_type": "stream",
     "text": [
      "163 {\n",
      "  \"product_name\": \"Hasami Mug\",\n",
      "  \"product_type\": \"Home Textiles\",\n",
      "  \"product_color\": \"Medium Gloss Grey\",\n",
      "  \"attributes\": [\"Thoughtful interior and lifestyle products\", \"Quality pieces\", \"Timeless\"]\n",
      "}\n",
      "\n",
      "{\n",
      "  \"product_name\": \"Fine Bamboo Blinds\",\n",
      "  \"product_type\": \"Home Decor\",\n",
      "  \"product_color\": \"From €160.00\",\n",
      "  \"attributes\": [\"Pure craftsmanship\", \"Timeless pieces\", \"Quality\"]\n",
      "}\n",
      "\n",
      "{\n",
      "  \"product_name\": \"Soft Minimal\",\n",
      "  \"product_type\": \"Furniture\",\n",
      "  \"product_color\": \"€60.00\",\n",
      "  \"attributes\": [\"Minimal design\", \"High-quality materials\", \"Timeless style\"]\n",
      "}\n"
     ]
    },
    {
     "name": "stderr",
     "output_type": "stream",
     "text": [
      " 25%|██▌       | 58/231 [02:46<11:06,  3.85s/it]"
     ]
    },
    {
     "name": "stdout",
     "output_type": "stream",
     "text": [
      "165 {\n",
      "  \"product_name\": \"Elmstead Armchair\",\n",
      "  \"product_type\": \"Furniture\",\n",
      "  \"product_color\": \"Natural Oak\",\n",
      "  \"attributes\": [\"Handmade\", \"Traditional construction\", \"Upholstered\"]\n",
      "}\n"
     ]
    },
    {
     "name": "stderr",
     "output_type": "stream",
     "text": [
      " 26%|██▌       | 59/231 [02:57<16:38,  5.81s/it]"
     ]
    },
    {
     "name": "stdout",
     "output_type": "stream",
     "text": [
      "170 {\n",
      "  \"product_name\": \"Agapé Coffee Table\",\n",
      "  \"product_type\": \"Furniture\",\n",
      "  \"product_color\": \"N/A\",\n",
      "  \"attributes\": [\"Luxurious velvet material\", \"Contrasting colors\", \"Round shapes\"]\n",
      "}\n",
      "\n",
      "{\n",
      "  \"product_name\": \"Doisy Bedhead\",\n",
      "  \"product_type\": \"Furniture\",\n",
      "  \"product_color\": \"N/A\",\n",
      "  \"attributes\": [\"Smart\", \"Chic\", \"Timeless\"]\n",
      "}\n",
      "\n",
      "{\n",
      "  \"product_name\": \"Essence Sideboard\",\n",
      "  \"product_type\": \"Furniture\",\n",
      "  \"product_color\": \"N/A\",\n",
      "  \"attributes\": [\"Classic and elegant\", \"Vibrant color palette\", \"Luxurious textures\"]\n",
      "}\n",
      "\n",
      "{\n",
      "  \"product_name\": \"Chair Margot\",\n",
      "  \"product_type\": \"Furniture\",\n",
      "  \"product_color\": \"N/A\",\n",
      "  \"attributes\": [\"Character and cosiness\", \"Luxurious velvet material\", \"Contrasting colors\"]\n",
      "}\n"
     ]
    },
    {
     "name": "stderr",
     "output_type": "stream",
     "text": [
      " 26%|██▌       | 60/231 [03:00<14:35,  5.12s/it]"
     ]
    },
    {
     "name": "stdout",
     "output_type": "stream",
     "text": [
      "171 {\n",
      "  \"product_name\": \"1900 Bench\",\n",
      "  \"product_type\": \"Furniture\",\n",
      "  \"product_color\": \"Cotton White\",\n",
      "  \"attributes\": [\"Hand-forged traditional techniques\", \"Elegant and ultra-comfortable\", \"Inspired by famous romantic gardens in France\"]\n",
      "}\n"
     ]
    },
    {
     "name": "stderr",
     "output_type": "stream",
     "text": [
      " 26%|██▋       | 61/231 [03:03<12:39,  4.47s/it]"
     ]
    },
    {
     "name": "stdout",
     "output_type": "stream",
     "text": [
      "174 {\n",
      "  \"product_name\": \"The Banyan Tree Furniture\",\n",
      "  \"product_type\": \"Furniture\",\n",
      "  \"product_color\": \"Multiple colors available\",\n",
      "  \"attributes\": [\"Flat rate shipping\", \"Free delivery for specific collections\", \"Gift cards available\"]\n",
      "}\n"
     ]
    },
    {
     "name": "stderr",
     "output_type": "stream",
     "text": [
      " 27%|██▋       | 62/231 [03:06<10:55,  3.88s/it]"
     ]
    },
    {
     "name": "stdout",
     "output_type": "stream",
     "text": [
      "176 {\n",
      "  \"product_name\": \"Mesa Sofa\",\n",
      "  \"product_type\": \"Outdoor Furniture\",\n",
      "  \"product_color\": \"Light Grey\",\n",
      "  \"attributes\": [\"Transitional Style\", \"Durable Fabric\", \"Water Resistant\"]\n",
      "}\n"
     ]
    },
    {
     "name": "stderr",
     "output_type": "stream",
     "text": [
      " 27%|██▋       | 63/231 [03:09<10:03,  3.59s/it]"
     ]
    },
    {
     "name": "stdout",
     "output_type": "stream",
     "text": [
      "177 {\n",
      "  \"product_name\": \"Alice Urban Dressing Table\",\n",
      "  \"product_type\": \"Furniture\",\n",
      "  \"product_color\": \"White\",\n",
      "  \"attributes\": [\"Large Top and Plenty Leg Space\", \"Plenty Storage Capacity\", \"Sturdy Frame\"]\n",
      "}\n"
     ]
    },
    {
     "name": "stderr",
     "output_type": "stream",
     "text": [
      " 28%|██▊       | 64/231 [03:11<09:21,  3.36s/it]"
     ]
    },
    {
     "name": "stdout",
     "output_type": "stream",
     "text": [
      "179 {\n",
      "  \"product_name\": \"SORENSEN TEAK BENCH\",\n",
      "  \"product_type\": \"Furniture\",\n",
      "  \"product_color\": \"Natural\",\n",
      "  \"attributes\": [\"Handcrafted\", \"Rustic\", \"Charming\"]\n",
      "}\n"
     ]
    },
    {
     "name": "stderr",
     "output_type": "stream",
     "text": [
      " 28%|██▊       | 65/231 [03:15<09:11,  3.32s/it]"
     ]
    },
    {
     "name": "stdout",
     "output_type": "stream",
     "text": [
      "180 {\n",
      "  \"product_name\": \"Living Room Storage\",\n",
      "  \"product_type\": \"Furniture\",\n",
      "  \"product_color\": \"Light Oak\",\n",
      "  \"attributes\": [\"Handy place to keep lamps, ornaments or place drinks\", \"Provides extra storage for books or magazines\", \"Stylish, contemporary design\"]\n",
      "}\n"
     ]
    },
    {
     "name": "stderr",
     "output_type": "stream",
     "text": [
      " 29%|██▊       | 66/231 [03:17<08:33,  3.11s/it]"
     ]
    },
    {
     "name": "stdout",
     "output_type": "stream",
     "text": [
      "181 {\n",
      "  \"product_name\": \"Collections\",\n",
      "  \"product_type\": \"Furniture\",\n",
      "  \"product_color\": null,\n",
      "  \"attributes\": [\"Authentically designed and manufactured in Australia\", \"Finely crafted products for life\", \"For the home and office\"]\n",
      "}\n"
     ]
    },
    {
     "name": "stderr",
     "output_type": "stream",
     "text": [
      " 29%|██▉       | 67/231 [03:21<08:39,  3.17s/it]"
     ]
    },
    {
     "name": "stdout",
     "output_type": "stream",
     "text": [
      "187 {\n",
      "  \"product_name\": \"Glen Mirror\",\n",
      "  \"product_type\": \"Furniture\",\n",
      "  \"product_color\": \"Modern Komfort\",\n",
      "  \"attributes\": [\"Dimensions: 48\\\" x 48\\\" x 1\\\", Free Shipping on Rugs across Canada, Free Shipping on Rugs across Canada\"]\n",
      "}\n"
     ]
    },
    {
     "name": "stderr",
     "output_type": "stream",
     "text": [
      " 29%|██▉       | 68/231 [03:23<08:01,  2.96s/it]"
     ]
    },
    {
     "name": "stdout",
     "output_type": "stream",
     "text": [
      "188 {\n",
      "  \"product_name\": \"Pony Chair\",\n",
      "  \"product_type\": \"Furniture\",\n",
      "  \"product_color\": \"Green and White\",\n",
      "  \"attributes\": [\"Ergonomic\", \"Playful\", \"Humorous\"]\n",
      "}\n"
     ]
    },
    {
     "name": "stderr",
     "output_type": "stream",
     "text": [
      " 30%|██▉       | 69/231 [03:25<07:05,  2.63s/it]"
     ]
    },
    {
     "name": "stdout",
     "output_type": "stream",
     "text": [
      "189 {\n",
      "  \"product_name\": \"Tennant Brand Beatrice Navy Blue Modern Bathroom Sink Vanity\",\n",
      "  \"product_type\": \"Vanity\",\n",
      " \n"
     ]
    },
    {
     "name": "stderr",
     "output_type": "stream",
     "text": [
      " 30%|███       | 70/231 [03:28<07:16,  2.71s/it]"
     ]
    },
    {
     "name": "stdout",
     "output_type": "stream",
     "text": [
      "191 {\n",
      "  \"product_name\": \"Windsor Bed\",\n",
      "  \"product_type\": \"Furniture\",\n",
      "  \"product_color\": \"N/A\",\n",
      "  \"attributes\": [\"Hand-crafted in the Midwest\", \"Solid hardwood construction\", \"Slanted headboard\"]\n",
      "}\n"
     ]
    },
    {
     "name": "stderr",
     "output_type": "stream",
     "text": [
      " 31%|███       | 71/231 [03:31<07:28,  2.81s/it]"
     ]
    },
    {
     "name": "stdout",
     "output_type": "stream",
     "text": [
      "196 {\n",
      "  \"product_name\": \"Plume Wallpaper\",\n",
      "  \"product_type\": \"Wallpaper\",\n",
      "  \"product_color\": [\"White\", \"Grey & White\", \"Black & White\"],\n",
      "  \"attributes\": [\"Ageless and everlasting design\", \"Fun neutral print\", \"Comes in different subtle colors\"]\n",
      "}\n"
     ]
    },
    {
     "name": "stderr",
     "output_type": "stream",
     "text": [
      " 31%|███       | 72/231 [03:34<07:20,  2.77s/it]"
     ]
    },
    {
     "name": "stdout",
     "output_type": "stream",
     "text": [
      "200 {\n",
      "  \"product_name\": \"Oak For Less Furniture\",\n",
      "  \"product_type\": \"Furniture\",\n",
      "  \"product_color\": \"N/A\",\n",
      "  \"attributes\": [\"Gift Card\", \"Delivery Available\", \"Assembly Not Included\"]\n",
      "}\n"
     ]
    },
    {
     "name": "stderr",
     "output_type": "stream",
     "text": [
      " 32%|███▏      | 73/231 [03:36<06:57,  2.64s/it]"
     ]
    },
    {
     "name": "stdout",
     "output_type": "stream",
     "text": [
      "201 {\n",
      "  \"product_name\": \"Modern Furniture\",\n",
      "  \"product_type\": \"Furniture\",\n",
      "  \"product_color\": \"Multiple Colors\",\n",
      "  \"attributes\": [\"Online Shopping\", \"Castlery\", \"Modern Design\"]\n",
      "}\n"
     ]
    },
    {
     "name": "stderr",
     "output_type": "stream",
     "text": [
      " 32%|███▏      | 74/231 [03:39<07:31,  2.88s/it]"
     ]
    },
    {
     "name": "stdout",
     "output_type": "stream",
     "text": [
      "204 {\n",
      "  \"product_name\": \"Round Vintage Zinc Tray\",\n",
      "  \"product_type\": \"Furniture\",\n",
      "  \"product_color\": \"N/A\",\n",
      "  \"attributes\": [\"Authentic Zinc Serving tray\", \"Original Zinc patina will only become better with age\", \"Meticulously handmade using premium materials\"]\n",
      "}\n"
     ]
    },
    {
     "name": "stderr",
     "output_type": "stream",
     "text": [
      " 32%|███▏      | 75/231 [03:42<07:08,  2.75s/it]"
     ]
    },
    {
     "name": "stdout",
     "output_type": "stream",
     "text": [
      "206 {\n",
      "  \"product_name\": \"Moo\",\n",
      "  \"product_type\": \"Furniture\",\n",
      "  \"product_color\": \"White\",\n",
      "  \"attributes\": [\"Artistic elegance\", \"Stylish\", \"Norwegian forest\"]\n",
      "}\n"
     ]
    },
    {
     "name": "stderr",
     "output_type": "stream",
     "text": [
      " 33%|███▎      | 76/231 [03:44<06:48,  2.64s/it]"
     ]
    },
    {
     "name": "stdout",
     "output_type": "stream",
     "text": [
      "209 {\n",
      "  \"product_name\": \"Nordic Trendy Side Table\",\n",
      "  \"product_type\": \"Furniture\",\n",
      "  \"product_color\": \"Walnut\",\n",
      "  \"attributes\": [\"Side table\", \"Trendy\", \"Walnut\"]\n",
      "}\n"
     ]
    },
    {
     "name": "stderr",
     "output_type": "stream",
     "text": [
      " 33%|███▎      | 77/231 [03:47<06:59,  2.73s/it]"
     ]
    },
    {
     "name": "stdout",
     "output_type": "stream",
     "text": [
      "212 {\n",
      "  \"product_name\": \"Scandinavian Bali Teak Bench\",\n",
      "  \"product_type\": \"Furniture\",\n",
      "  \"product_color\": \"Brown\",\n",
      "  \"attributes\": [\"Teak wood\", \"Bali style\", \"Outdoor furniture\"]\n",
      "}\n"
     ]
    },
    {
     "name": "stderr",
     "output_type": "stream",
     "text": [
      " 34%|███▍      | 78/231 [03:49<06:29,  2.55s/it]"
     ]
    },
    {
     "name": "stdout",
     "output_type": "stream",
     "text": [
      "213 {\n",
      "  \"product_name\": \"Dress\",\n",
      "  \"product_type\": \"Clothing\",\n",
      "  \"product_color\": \"Black\",\n",
      "  \"attributes\": [\"Fast Search\", \"List of 3 Attributes\"]\n",
      "}\n"
     ]
    },
    {
     "name": "stderr",
     "output_type": "stream",
     "text": [
      " 34%|███▍      | 79/231 [03:52<06:40,  2.64s/it]"
     ]
    },
    {
     "name": "stdout",
     "output_type": "stream",
     "text": [
      "216 {\n",
      "  \"product_name\": \"Fenwick Dining Chair\",\n",
      "  \"product_type\": \"Dining Chair\",\n",
      "  \"product_color\": \"Tan\",\n",
      "  \"attributes\": [\"Solid Wood\", \"100% Genuine Leather\", \"Brass stud rear detailing\"]\n",
      "}\n"
     ]
    },
    {
     "name": "stderr",
     "output_type": "stream",
     "text": [
      " 35%|███▍      | 80/231 [03:55<07:01,  2.79s/it]"
     ]
    },
    {
     "name": "stdout",
     "output_type": "stream",
     "text": [
      "220 {\n",
      "  \"product_name\": \"Teak Wood Furniture Outlet\",\n",
      "  \"product_type\": \"Furniture\",\n",
      "  \"product_color\": \"N/A\",\n",
      "  \"attributes\": [\"Ready Stock\", \"Wednesday to Sunday 10 am to 7 pm\", \"Open to Public, No Appointment Needed\"]\n",
      "}\n"
     ]
    },
    {
     "name": "stderr",
     "output_type": "stream",
     "text": [
      " 35%|███▌      | 81/231 [03:58<06:45,  2.70s/it]"
     ]
    },
    {
     "name": "stdout",
     "output_type": "stream",
     "text": [
      "221 {\n",
      "  \"product_name\": \"Scandinavian Lamp Table\",\n",
      "  \"product_type\": \"Furniture\",\n",
      "  \"product_color\": \"Teak\",\n",
      "  \"attributes\": [\"Scandinavian\", \"Lamp\", \"Table\"]\n",
      "}\n"
     ]
    },
    {
     "name": "stderr",
     "output_type": "stream",
     "text": [
      " 35%|███▌      | 82/231 [04:10<13:37,  5.49s/it]"
     ]
    },
    {
     "name": "stdout",
     "output_type": "stream",
     "text": [
      "222 {\n",
      "  \"product_name\": \"Bass Lake 3-Door TV Stand\",\n",
      "  \"product_type\": \"Furniture\",\n",
      "  \"product_color\": \"Cherry\",\n",
      "  \"attributes\": [\"Soft closing drawers\", \"Glass doors\", \"Adjustable shelving\"]\n",
      "}\n",
      "{\n",
      "  \"product_name\": \"Cancun 4-Door Media Console\",\n",
      "  \"product_type\": \"Furniture\",\n",
      "  \"product_color\": \"Walnut\",\n",
      "  \"attributes\": [\"Spectacular\", \"Aluminum hardware\", \"Free form top\"]\n",
      "}\n",
      "{\n",
      "  \"product_name\": \"Danby 2-Drawer Corner TV Cabinet\",\n",
      "  \"product_type\": \"Furniture\",\n",
      "  \"product_color\": \"Maple\",\n",
      "  \"attributes\": [\"Intricate rope molding\", \"Mitered drawer fronts\", \"Lightly smoked glass cabinet doors\"]\n",
      "}\n",
      "{\n",
      "  \"product_name\": \"Dorsey 3-Door TV Stand\",\n",
      "  \"product_type\": \"Furniture\",\n",
      "  \"product_color\": \"Terra Cotta\",\n",
      "  \"attributes\": [\"Solid Quartersawn White Oak hardwood\", \"Full-extension drawers\", \"Sidemounted soft-close slides\"]\n",
      "}\n"
     ]
    },
    {
     "name": "stderr",
     "output_type": "stream",
     "text": [
      " 36%|███▌      | 83/231 [04:13<12:00,  4.87s/it]"
     ]
    },
    {
     "name": "stdout",
     "output_type": "stream",
     "text": [
      "223 {\n",
      "  \"product_name\": \"Two's Company Sunburst Antiqued Gold Wall Mirror\",\n",
      "  \"product_type\": \"Wall Mirror\",\n",
      "  \"product_color\": \"Antiqued Gold\",\n",
      "  \"attributes\": [\"Steel/MDF/Glass\", \"Sunburst Shape\", \"Reflective\"]\n",
      "}\n"
     ]
    },
    {
     "name": "stderr",
     "output_type": "stream",
     "text": [
      " 36%|███▋      | 84/231 [04:16<10:26,  4.26s/it]"
     ]
    },
    {
     "name": "stdout",
     "output_type": "stream",
     "text": [
      "225 {\n",
      "  \"product_name\": \"Black Chair\",\n",
      "  \"product_type\": \"Furniture\",\n",
      "  \"product_color\": \"Black\",\n",
      "  \"attributes\": [\"Loft\", \"Translation missing: en.general.accessibility.promo_bar_label\", \"Free Shipping\"]\n",
      "}\n"
     ]
    },
    {
     "name": "stderr",
     "output_type": "stream",
     "text": [
      " 37%|███▋      | 85/231 [04:24<13:08,  5.40s/it]"
     ]
    },
    {
     "name": "stdout",
     "output_type": "stream",
     "text": [
      "226 {\n",
      "  \"product_name\": \"MP - Amsterdam 2 Drawer Bedside Table\",\n",
      "  \"product_type\": \"Furniture\",\n",
      "  \"product_color\": \"Wood\",\n",
      "  \"attributes\": [\"Made in Indonesia\", \"Handcrafted\", \"Natural Wood\"]\n",
      "}\n",
      "\n",
      "{\n",
      "  \"product_name\": \"Side Table\",\n",
      "  \"product_type\": \"Furniture\",\n",
      "  \"product_color\": \"Wood\",\n",
      "  \"attributes\": [\"Made in Indonesia\", \"Handcrafted\", \"Natural Wood\"]\n",
      "}\n",
      "\n",
      "{\n",
      "  \"product_name\": \"Tek168 BS 002 TA Side Table\",\n",
      "  \"product_type\": \"Furniture\",\n",
      "  \"product_color\": \"Wood\",\n",
      "  \"attributes\": [\"Made in Indonesia\", \"Handcrafted\", \"Natural Wood\"]\n",
      "}\n"
     ]
    },
    {
     "name": "stderr",
     "output_type": "stream",
     "text": [
      " 37%|███▋      | 86/231 [04:27<11:13,  4.64s/it]"
     ]
    },
    {
     "name": "stdout",
     "output_type": "stream",
     "text": [
      "229 {\n",
      "  \"product_name\": \"Amsterdam Bench\",\n",
      "  \"product_type\": \"Furniture\",\n",
      "  \"product_color\": \"Chocolate Colour\",\n",
      "  \"attributes\": [\"Big-Sale-Furniture.com\", \"Giant Sale\", \"No GST\"]\n",
      "}\n"
     ]
    },
    {
     "name": "stderr",
     "output_type": "stream",
     "text": [
      " 38%|███▊      | 87/231 [04:34<13:13,  5.51s/it]"
     ]
    },
    {
     "name": "stdout",
     "output_type": "stream",
     "text": [
      "230 {\n",
      "  \"product_name\": \"Turn Chair\",\n",
      "  \"product_type\": \"Furniture\",\n",
      "  \"product_color\": \"Black\",\n",
      "  \"attributes\": [\"High-quality design\", \"More people\", \"Sustainable\"]\n",
      "}\n",
      "\n",
      "{\n",
      "  \"product_name\": \"Spoke Sofa\",\n",
      "  \"product_type\": \"Furniture\",\n",
      "  \"product_color\": \"Beige\",\n",
      "  \"attributes\": [\"Modern design\", \"Comfortable seating\", \"Easy to assemble\"]\n",
      "}\n",
      "\n",
      "{\n",
      "  \"product_name\": \"Curve Coat Rack\",\n",
      "  \"product_type\": \"Home Decor\",\n",
      "  \"product_color\": \"Natural Wood\",\n",
      "  \"attributes\": [\"Unique design\", \"Functional storage\", \"Made from sustainable materials\"]\n",
      "}\n"
     ]
    },
    {
     "name": "stderr",
     "output_type": "stream",
     "text": [
      " 38%|███▊      | 88/231 [04:37<11:14,  4.71s/it]"
     ]
    },
    {
     "name": "stdout",
     "output_type": "stream",
     "text": [
      "231 {\n",
      "  \"product_name\": \"Black Mango Gift Card\",\n",
      "  \"product_type\": \"Gift Card\",\n",
      "  \"product_color\": \"N/A\",\n",
      "  \"attributes\": [\"Hassle-free returns\", \"30-day no question returns\", \"SAA Approved\"]\n",
      "}\n"
     ]
    },
    {
     "name": "stderr",
     "output_type": "stream",
     "text": [
      " 39%|███▊      | 89/231 [04:40<09:45,  4.12s/it]"
     ]
    },
    {
     "name": "stdout",
     "output_type": "stream",
     "text": [
      "233 {\n",
      "  \"product_name\": \"Memory Foam Mattress\",\n",
      "  \"product_type\": \"Furniture\",\n",
      "  \"product_color\": \"Brown\",\n",
      "  \"attributes\": [\"Made in Canada\", \"Gel Infused\", \"Adjustable Firmness\"]\n",
      "}\n"
     ]
    },
    {
     "name": "stderr",
     "output_type": "stream",
     "text": [
      " 39%|███▉      | 90/231 [04:42<08:29,  3.61s/it]"
     ]
    },
    {
     "name": "stdout",
     "output_type": "stream",
     "text": [
      "236 {\n",
      "  \"product_name\": \"Slimming Tea\",\n",
      "  \"product_type\": \"Beverage\",\n",
      "  \"product_color\": \"Green\",\n",
      "  \"attributes\": [\"Low calories\", \"Natural ingredients\", \"Aids in weight loss\"]\n",
      "}\n"
     ]
    },
    {
     "name": "stderr",
     "output_type": "stream",
     "text": [
      " 39%|███▉      | 91/231 [04:45<07:23,  3.17s/it]"
     ]
    },
    {
     "name": "stdout",
     "output_type": "stream",
     "text": [
      "241 {\n",
      "  \"product_name\": \"Taeillo\",\n",
      "  \"product_type\": \"Furniture\",\n",
      "  \"product_color\": \"Black\",\n",
      "  \"attributes\": [\"Leather\", \"Wooden\", \"Modern\"]\n",
      "}\n"
     ]
    },
    {
     "name": "stderr",
     "output_type": "stream",
     "text": [
      " 40%|███▉      | 92/231 [04:47<06:38,  2.87s/it]"
     ]
    },
    {
     "name": "stdout",
     "output_type": "stream",
     "text": [
      "244 {\n",
      "  \"product_name\": \"Ubike Home Lock\",\n",
      "  \"product_type\": \"Home\",\n",
      "  \"product_color\": \"Black\",\n",
      "  \"attributes\": [\"Keyless entry\", \"Waterproof\", \"Durable\"]\n",
      "}\n"
     ]
    },
    {
     "name": "stderr",
     "output_type": "stream",
     "text": [
      " 40%|████      | 93/231 [04:49<06:18,  2.74s/it]"
     ]
    },
    {
     "name": "stdout",
     "output_type": "stream",
     "text": [
      "245 {\n",
      "  \"product_name\": \"Custom Made Wooden Towel Rack\",\n",
      "  \"product_type\": \"Furniture\",\n",
      "  \"product_color\": \"Natural\",\n",
      "  \"attributes\": [\"Reclaimed wood\", \"Custom made\", \"Durable\"]\n",
      "}\n"
     ]
    },
    {
     "name": "stderr",
     "output_type": "stream",
     "text": [
      " 41%|████      | 94/231 [04:52<06:09,  2.69s/it]"
     ]
    },
    {
     "name": "stdout",
     "output_type": "stream",
     "text": [
      "247 {\n",
      "  \"product_name\": \"Hamac\",\n",
      "  \"product_type\": \"Furniture\",\n",
      "  \"product_color\": \"Vert\",\n",
      "  \"attributes\": [\"100% coton\", \"380 cm distance suspendus\", \"180 kg capacité\"]\n",
      "}\n"
     ]
    },
    {
     "name": "stderr",
     "output_type": "stream",
     "text": [
      " 41%|████      | 95/231 [04:55<06:25,  2.83s/it]"
     ]
    },
    {
     "name": "stdout",
     "output_type": "stream",
     "text": [
      "249 {\n",
      "  \"product_name\": \"Chieut Table\",\n",
      "  \"product_type\": \"Furniture\",\n",
      "  \"product_color\": \"Powder Coating Colour Finishes\",\n",
      "  \"attributes\": [\"Entirely handcrafted in Italy\", \"Limited edition of 200 pieces\", \"Unique and not mass produced\"]\n",
      "}\n"
     ]
    },
    {
     "name": "stderr",
     "output_type": "stream",
     "text": [
      " 42%|████▏     | 96/231 [04:57<06:09,  2.74s/it]"
     ]
    },
    {
     "name": "stdout",
     "output_type": "stream",
     "text": [
      "254 {\n",
      "  \"product_name\": \"Walter Cox Ltd\",\n",
      "  \"product_type\": \"Furniture\",\n",
      "  \"product_color\": \"N/A\",\n",
      "  \"attributes\": [\"Watchmaker\", \"Rental Videos\", \"Household Furniture\"]\n",
      "}\n"
     ]
    },
    {
     "name": "stderr",
     "output_type": "stream",
     "text": [
      " 42%|████▏     | 97/231 [05:01<06:39,  2.98s/it]"
     ]
    },
    {
     "name": "stdout",
     "output_type": "stream",
     "text": [
      "258 {\n",
      "  \"product_name\": \"Rich Plywood Wood Frame Luxury Sofa\",\n",
      "  \"product_type\": \"Furniture\",\n",
      "  \"product_color\": \"Wood frame, plywood seat and backrest\",\n",
      "  \"attributes\": [\"Modern design\", \"High-density foam cushions\", \"Upholstered in fabric or leather\"]\n",
      "}\n"
     ]
    },
    {
     "name": "stderr",
     "output_type": "stream",
     "text": [
      " 42%|████▏     | 98/231 [05:04<06:30,  2.94s/it]"
     ]
    },
    {
     "name": "stdout",
     "output_type": "stream",
     "text": [
      "260 {\n",
      "  \"product_name\": \"Zinolin Teak Oil\",\n",
      "  \"product_type\": \"Furniture Care\",\n",
      "  \"product_color\": null,\n",
      "  \"attributes\": [\"Teak Oil\", \"For Furniture\", \"Fully Insured\"]\n",
      "}\n"
     ]
    },
    {
     "name": "stderr",
     "output_type": "stream",
     "text": [
      " 43%|████▎     | 99/231 [05:07<06:17,  2.86s/it]"
     ]
    },
    {
     "name": "stdout",
     "output_type": "stream",
     "text": [
      "262 {\n",
      "  \"product_name\": \"Ro Armchair\",\n",
      "  \"product_type\": \"Furniture\",\n",
      "  \"product_color\": \"Natural\",\n",
      "  \"attributes\": [\"Elegant design\", \"High back\", \"Soft upholstery\"]\n",
      "}\n"
     ]
    },
    {
     "name": "stderr",
     "output_type": "stream",
     "text": [
      " 43%|████▎     | 100/231 [05:09<06:08,  2.82s/it]"
     ]
    },
    {
     "name": "stdout",
     "output_type": "stream",
     "text": [
      "265 {\n",
      "  \"product_name\": \"Wooden Coffee Table\",\n",
      "  \"product_type\": \"Furniture\",\n",
      "  \"product_color\": \"Natural\",\n",
      "  \"attributes\": [\"Solid pine construction\", \"Handcrafted\", \"Storage drawer\"]\n",
      "}\n"
     ]
    },
    {
     "name": "stderr",
     "output_type": "stream",
     "text": [
      " 44%|████▎     | 101/231 [05:12<06:04,  2.81s/it]"
     ]
    },
    {
     "name": "stdout",
     "output_type": "stream",
     "text": [
      "267 {\n",
      "  \"product_name\": \"Carved Sideboard\",\n",
      "  \"product_type\": \"Furniture\",\n",
      "  \"product_color\": \"Black\",\n",
      "  \"attributes\": [\"Designed by Out of the Sandbox\", \"Imports\", \"Noir Havana\"]\n",
      "}\n"
     ]
    },
    {
     "name": "stderr",
     "output_type": "stream",
     "text": [
      " 44%|████▍     | 102/231 [05:16<06:39,  3.10s/it]"
     ]
    },
    {
     "name": "stdout",
     "output_type": "stream",
     "text": [
      "275 {\n",
      "  \"product_name\": \"Versailles Collection\",\n",
      "  \"product_type\": \"Bed\",\n",
      "  \"product_color\": \"Ivory Velvet/Bone White\",\n",
      "  \"attributes\": [\"Crafted from poplar wood and aspen wood\", \"Two-tone Ivory Bone White finish\", \"Ivory Velvet upholstery\"]\n",
      "}\n"
     ]
    },
    {
     "name": "stderr",
     "output_type": "stream",
     "text": [
      " 45%|████▍     | 103/231 [05:19<06:21,  2.98s/it]"
     ]
    },
    {
     "name": "stdout",
     "output_type": "stream",
     "text": [
      "276 {\n",
      "  \"product_name\": \"Foldable Closet\",\n",
      "  \"product_type\": \"Home Decor\",\n",
      "  \"product_color\": \"Black\",\n",
      "  \"attributes\": [\"Easy to assemble\", \"Strong and durable\", \"Stores up to 5kg\"]\n",
      "}\n"
     ]
    },
    {
     "name": "stderr",
     "output_type": "stream",
     "text": [
      " 45%|████▌     | 104/231 [05:21<06:09,  2.91s/it]"
     ]
    },
    {
     "name": "stdout",
     "output_type": "stream",
     "text": [
      "278 {\n",
      "  \"product_name\": \"CUP HOLDER 2 TIER 33136\",\n",
      "  \"product_type\": \"Cupholder\",\n",
      "  \"product_color\": \"N/A\",\n",
      "  \"attributes\": [\"2 tier\", \"sturdy\", \"space-saving\"]\n",
      "}\n"
     ]
    },
    {
     "name": "stderr",
     "output_type": "stream",
     "text": [
      " 45%|████▌     | 105/231 [05:24<05:48,  2.77s/it]"
     ]
    },
    {
     "name": "stdout",
     "output_type": "stream",
     "text": [
      "279 {\n",
      "  \"product_name\": \"Myrtlewood Lazy Susan\",\n",
      "  \"product_type\": \"Kitchen\",\n",
      "  \"product_color\": \"Natural\",\n",
      "  \"attributes\": [\"Solid Wood\", \"Handcrafted\", \"Unique Characteristics\"]\n",
      "}\n"
     ]
    },
    {
     "name": "stderr",
     "output_type": "stream",
     "text": [
      " 46%|████▌     | 106/231 [05:27<06:10,  2.96s/it]"
     ]
    },
    {
     "name": "stdout",
     "output_type": "stream",
     "text": [
      "281 {\n",
      "  \"product_name\": \"Willow Creek Designs Teak Outdoor Furniture\",\n",
      "  \"product_type\": \"Furniture\",\n",
      "  \"product_color\": \"Natural\",\n",
      "  \"attributes\": [\"Handcrafted from top-grade teak\", \"Finely sanded and polished for high-end feel\", \"Non-marking protective feet\"]\n",
      "}\n"
     ]
    },
    {
     "name": "stderr",
     "output_type": "stream",
     "text": [
      " 46%|████▋     | 107/231 [05:30<05:58,  2.89s/it]"
     ]
    },
    {
     "name": "stdout",
     "output_type": "stream",
     "text": [
      "283 {\n",
      "  \"product_name\": \"Concrete Marble Board\",\n",
      "  \"product_type\": \"Home Decor\",\n",
      "  \"product_color\": \"Multicolored\",\n",
      "  \"attributes\": [\"Handmade\", \"Food Safe\", \"Not Suitable for Microwave or Dishwasher\"]\n",
      "}\n"
     ]
    },
    {
     "name": "stderr",
     "output_type": "stream",
     "text": [
      " 47%|████▋     | 108/231 [05:35<07:10,  3.50s/it]"
     ]
    },
    {
     "name": "stdout",
     "output_type": "stream",
     "text": [
      "285 {\n",
      "  \"product_name\": \"Grasshopper Storage Bin\",\n",
      "  \"product_type\": \"Furniture\",\n",
      "  \"product_color\": \"Default Title\",\n",
      "  \"attributes\": [\"Storage bin has enough room to store all of your patio cushions and covers\", \"Made with half round wicker, aluminium frame, dual pistons for soft close and a water resistant inner cover\", \"Customize our furniture to suit your patio needs; with over 100 colour and design combinations we have something to match your style\"]\n",
      "}\n"
     ]
    },
    {
     "name": "stderr",
     "output_type": "stream",
     "text": [
      " 47%|████▋     | 109/231 [05:37<06:30,  3.20s/it]"
     ]
    },
    {
     "name": "stdout",
     "output_type": "stream",
     "text": [
      "290 {\n",
      "  \"product_name\": \"Argea\",\n",
      "  \"product_type\": \"Home Decor\",\n",
      "  \"product_color\": \"Multiple colors available\",\n",
      "  \"attributes\": [\"Modern design\", \"Metallic coating\", \"Food safe\"]\n",
      "}\n"
     ]
    },
    {
     "name": "stderr",
     "output_type": "stream",
     "text": [
      " 48%|████▊     | 110/231 [05:41<06:37,  3.28s/it]"
     ]
    },
    {
     "name": "stdout",
     "output_type": "stream",
     "text": [
      "299 {\n",
      "  \"product_name\": \"Treacle George\",\n",
      "  \"product_type\": \"Fashion\",\n",
      "  \"product_color\": \"N/A\",\n",
      "  \"attributes\": [\"Hi Everyone\", \"All existing orders will be delivered in the next few working days\", \"If you'd like to contact me for any reason, then please email: laurence@treaclegeorge.com\"]\n",
      "}\n"
     ]
    },
    {
     "name": "stderr",
     "output_type": "stream",
     "text": [
      " 48%|████▊     | 111/231 [05:43<06:14,  3.12s/it]"
     ]
    },
    {
     "name": "stdout",
     "output_type": "stream",
     "text": [
      "306 {\n",
      "  \"product_name\": \"Solid Wood Coasters\",\n",
      "  \"product_type\": \"Furniture\",\n",
      "  \"product_color\": \"Solid Sheesham Wood\",\n",
      "  \"attributes\": [\"Solid Wood\", \"Finished\", \"Assembled\"]\n",
      "}\n"
     ]
    },
    {
     "name": "stderr",
     "output_type": "stream",
     "text": [
      " 48%|████▊     | 112/231 [05:46<05:54,  2.98s/it]"
     ]
    },
    {
     "name": "stdout",
     "output_type": "stream",
     "text": [
      "310 {\n",
      "  \"product_name\": \"Odin\",\n",
      "  \"product_type\": \"Side Table\",\n",
      "  \"product_color\": \"Mahogany Polish, Gold [Metal Paint]\"\n",
      "  \"attributes\": [\"Solid Wood\", \"Iron Rod\", \"Mahogany Polish\"]\n",
      "}\n"
     ]
    },
    {
     "name": "stderr",
     "output_type": "stream",
     "text": [
      " 49%|████▉     | 113/231 [05:49<05:41,  2.89s/it]"
     ]
    },
    {
     "name": "stdout",
     "output_type": "stream",
     "text": [
      "311 {\n",
      "  \"product_name\": \"Collector's Spinning Top\",\n",
      "  \"product_type\": \"Furniture\",\n",
      "  \"product_color\": \"Turquoise\",\n",
      "  \"attributes\": [\"Classic design\", \"Handcrafted\", \"Unique\"]\n",
      "}\n"
     ]
    },
    {
     "name": "stderr",
     "output_type": "stream",
     "text": [
      " 49%|████▉     | 114/231 [05:51<05:24,  2.78s/it]"
     ]
    },
    {
     "name": "stdout",
     "output_type": "stream",
     "text": [
      "314 {\n",
      "  \"product_name\": \"APEN Bookcase\",\n",
      "  \"product_type\": \"Furniture\",\n",
      "  \"product_color\": \"Natural Teak\",\n",
      "  \"attributes\": [\"Handmade\", \"Solid teak\", \"Uncluttered designs\"]\n",
      "}\n"
     ]
    },
    {
     "name": "stderr",
     "output_type": "stream",
     "text": [
      " 50%|████▉     | 115/231 [05:54<05:23,  2.79s/it]"
     ]
    },
    {
     "name": "stdout",
     "output_type": "stream",
     "text": [
      "316 {\n",
      "  \"product_name\": \"Modern Minimalist Scandinavian Furniture\",\n",
      "  \"product_type\": \"Furniture\",\n",
      "  \"product_color\": \"Various\",\n",
      "  \"attributes\": [\"Affordable\", \"Contemporary\", \"Scandinavian\"]\n",
      "}\n"
     ]
    },
    {
     "name": "stderr",
     "output_type": "stream",
     "text": [
      " 50%|█████     | 116/231 [05:57<05:22,  2.80s/it]"
     ]
    },
    {
     "name": "stdout",
     "output_type": "stream",
     "text": [
      "317 {\n",
      "  \"product_name\": \"Finn Avenue\",\n",
      "  \"product_type\": \"Furniture\",\n",
      "  \"product_color\": \"Grey\",\n",
      "  \"attributes\": [\"Modern Luxury\", \"Gold & White\", \"Meticulously carved wood details\"]\n",
      "}\n"
     ]
    },
    {
     "name": "stderr",
     "output_type": "stream",
     "text": [
      " 51%|█████     | 117/231 [06:00<05:23,  2.84s/it]"
     ]
    },
    {
     "name": "stdout",
     "output_type": "stream",
     "text": [
      "319 {\n",
      "  \"product_name\": \"Naples Teak Coffee Table\",\n",
      "  \"product_type\": \"Furniture\",\n",
      "  \"product_color\": \"Teak\",\n",
      "  \"attributes\": [\"40x60x100\", \"SFS638CT\", \"000\"]\n",
      "}\n"
     ]
    },
    {
     "name": "stderr",
     "output_type": "stream",
     "text": [
      " 51%|█████     | 118/231 [06:03<05:18,  2.82s/it]"
     ]
    },
    {
     "name": "stdout",
     "output_type": "stream",
     "text": [
      "321 {\n",
      "  \"product_name\": \"ASMUND Outdoor Console Table with 2 Sink Set\",\n",
      "  \"product_type\": \"Furniture\",\n",
      "  \"product_color\": \"N/A\",\n",
      "  \"attributes\": [\"Outdoor furniture\", \"Console table\", \"Sink set\"]\n",
      "}\n"
     ]
    },
    {
     "name": "stderr",
     "output_type": "stream",
     "text": [
      " 52%|█████▏    | 119/231 [06:05<05:02,  2.70s/it]"
     ]
    },
    {
     "name": "stdout",
     "output_type": "stream",
     "text": [
      "322 {\n",
      "  \"product_name\": \"Wholesale Classic Furniture\",\n",
      "  \"product_type\": \"Furniture\",\n",
      "  \"product_color\": \"Various\",\n",
      "  \"attributes\": [\"Modern\", \"Minimalist\", \"Victorian\"]\n",
      "}\n"
     ]
    },
    {
     "name": "stderr",
     "output_type": "stream",
     "text": [
      " 52%|█████▏    | 120/231 [06:07<04:29,  2.43s/it]"
     ]
    },
    {
     "name": "stdout",
     "output_type": "stream",
     "text": [
      "323 {\n",
      "  \"product_name\": \"My Dream Mattress\",\n",
      "  \"product_type\": \"Furniture\",\n",
      "  \"product_color\": \"Natural\n"
     ]
    },
    {
     "name": "stderr",
     "output_type": "stream",
     "text": [
      " 52%|█████▏    | 121/231 [06:11<05:07,  2.80s/it]"
     ]
    },
    {
     "name": "stdout",
     "output_type": "stream",
     "text": [
      "325 {\n",
      "  \"product_name\": \"Gift Voucher\",\n",
      "  \"product_type\": \"Gift Card\",\n",
      "  \"product_color\": null,\n",
      "  \"attributes\": [\"Denominations available: $50, $100 and $250\", \"Valid for purchases within 3 months from purchased date\", \"Not refundable or exchangeable for cash\"]\n",
      "}\n"
     ]
    },
    {
     "name": "stderr",
     "output_type": "stream",
     "text": [
      " 53%|█████▎    | 122/231 [06:15<05:45,  3.17s/it]"
     ]
    },
    {
     "name": "stdout",
     "output_type": "stream",
     "text": [
      "326 {\n",
      "  \"product_name\": \"Wicker Planters\",\n",
      "  \"product_type\": \"Furniture\",\n",
      "  \"product_color\": \"N/A\",\n",
      "  \"attributes\": [\"Synthetic wicker planter stand\", \"Comes in a set of 3\", \"H45x45x40 cm h\", \"H45x45x60 cm h\", \"H45x45x80 cm h\"]\n",
      "}\n"
     ]
    },
    {
     "name": "stderr",
     "output_type": "stream",
     "text": [
      " 53%|█████▎    | 123/231 [06:17<05:25,  3.02s/it]"
     ]
    },
    {
     "name": "stdout",
     "output_type": "stream",
     "text": [
      "327 {\n",
      "  \"product_name\": \"Teak Wood Dining Table\",\n",
      "  \"product_type\": \"Furniture\",\n",
      "  \"product_color\": \"Natural\",\n",
      "  \"attributes\": [\"Free Grab, Taxi Ride\", \"Free Delivery for Big Items\", \"Free Installation\"]\n",
      "}\n"
     ]
    },
    {
     "name": "stderr",
     "output_type": "stream",
     "text": [
      " 54%|█████▎    | 124/231 [06:20<05:04,  2.85s/it]"
     ]
    },
    {
     "name": "stdout",
     "output_type": "stream",
     "text": [
      "333 {\n",
      "  \"product_name\": \"Women's T-Shirt\",\n",
      "  \"product_type\": \"Clothing\",\n",
      "  \"product_color\": \"Black\",\n",
      "  \"attributes\": [\"100% cotton\", \"Fitted style\", \"Machine washable\"]\n",
      "}\n"
     ]
    },
    {
     "name": "stderr",
     "output_type": "stream",
     "text": [
      " 54%|█████▍    | 125/231 [06:22<04:52,  2.76s/it]"
     ]
    },
    {
     "name": "stdout",
     "output_type": "stream",
     "text": [
      "336 {\n",
      "  \"product_name\": \"Furniture\",\n",
      "  \"product_type\": \"Furniture\",\n",
      "  \"product_color\": \"Multiple colors available\",\n",
      "  \"attributes\": [\"Multiple colors available\", \"Made from high-quality materials\", \"Designed for durability\"]\n",
      "}\n"
     ]
    },
    {
     "name": "stderr",
     "output_type": "stream",
     "text": [
      " 55%|█████▍    | 126/231 [06:25<04:39,  2.66s/it]"
     ]
    },
    {
     "name": "stdout",
     "output_type": "stream",
     "text": [
      "337 {\n",
      "  \"product_name\": \"Cooks Sofa\",\n",
      "  \"product_type\": \"Furniture\",\n",
      "  \"product_color\": \"N/A\",\n",
      "  \"attributes\": [\"Tufting detail\", \"Classic comfort\", \"Customizable\"]\n",
      "}\n"
     ]
    },
    {
     "name": "stderr",
     "output_type": "stream",
     "text": [
      " 55%|█████▍    | 127/231 [06:29<05:30,  3.18s/it]"
     ]
    },
    {
     "name": "stdout",
     "output_type": "stream",
     "text": [
      "338 {\n",
      "  \"product_name\": \"Nelson Saucer Bubble Pendant\",\n",
      "  \"product_type\": \"Lighting\",\n",
      "  \"product_color\": \"Brushed, nickel-plated steel ceiling plate (5.25\")\",\n",
      "  \"attributes\": [\"Made to order\", \"Pendant comes with a 10-foot or 20-foot cord\", \"Accommodates incandescent, florescent, and LED bulb\"]\n",
      "}\n"
     ]
    },
    {
     "name": "stderr",
     "output_type": "stream",
     "text": [
      " 55%|█████▌    | 128/231 [06:32<05:26,  3.17s/it]"
     ]
    },
    {
     "name": "stdout",
     "output_type": "stream",
     "text": [
      "342 {\n",
      "  \"product_name\": \"Novaluna - Parigi Platform Bed- Made In Italy\",\n",
      "  \"product_type\": \"Bed\",\n",
      "  \"product_color\": \"white, butter, grey\",\n",
      "  \"attributes\": [\"Made in Italy\", \"Modern tufted headboard\", \"Single-movement lift up mechanism\"]\n",
      "}\n"
     ]
    },
    {
     "name": "stderr",
     "output_type": "stream",
     "text": [
      " 56%|█████▌    | 129/231 [06:34<04:55,  2.89s/it]"
     ]
    },
    {
     "name": "stdout",
     "output_type": "stream",
     "text": [
      "343 {\n",
      "  \"product_name\": \"Wall Light\",\n",
      "  \"product_type\": \"Lighting\",\n",
      "  \"product_color\": \"Black\",\n",
      "  \"attributes\": [\"Finish options/colours available\", \"Powered by Shopify\"]\n",
      "}\n"
     ]
    },
    {
     "name": "stderr",
     "output_type": "stream",
     "text": [
      " 56%|█████▋    | 130/231 [06:38<05:02,  2.99s/it]"
     ]
    },
    {
     "name": "stdout",
     "output_type": "stream",
     "text": [
      "345 {\n",
      "  \"product_name\": \"SOHO HOOK 50\",\n",
      "  \"product_type\": \"Wall Hook\",\n",
      "  \"product_color\": \"Matte black anodising\",\n",
      "  \"attributes\": [\"Solid Brass\", \"Diameter: 50mm\", \"Grooved edge detailing\"]\n",
      "}\n"
     ]
    },
    {
     "name": "stderr",
     "output_type": "stream",
     "text": [
      " 57%|█████▋    | 131/231 [06:40<04:51,  2.91s/it]"
     ]
    },
    {
     "name": "stdout",
     "output_type": "stream",
     "text": [
      "352 {\n",
      "  \"product_name\": \"Costa Chair\",\n",
      "  \"product_type\": \"Outdoor Furniture\",\n",
      "  \"product_color\": \"Verbena\",\n",
      "  \"attributes\": [\"Minimalist silhouette\", \"Wired handle\", \"Unique charm\"]\n",
      "}\n"
     ]
    },
    {
     "name": "stderr",
     "output_type": "stream",
     "text": [
      " 57%|█████▋    | 132/231 [06:43<04:38,  2.81s/it]"
     ]
    },
    {
     "name": "stdout",
     "output_type": "stream",
     "text": [
      "353 {\n",
      "  \"product_name\": \"Kea Sofa\",\n",
      "  \"product_type\": \"Furniture\",\n",
      "  \"product_color\": \"N/A\",\n",
      "  \"attributes\": [\"Generous size\", \"Handmade teak wood frame\", \"Made to order\"]\n",
      "}\n"
     ]
    },
    {
     "name": "stderr",
     "output_type": "stream",
     "text": [
      " 58%|█████▊    | 133/231 [06:46<04:42,  2.88s/it]"
     ]
    },
    {
     "name": "stdout",
     "output_type": "stream",
     "text": [
      "354 {\n",
      "  \"product_name\": \"Kyoto XL Bean Bag Holder\",\n",
      "  \"product_type\": \"Home Decor\",\n",
      "  \"product_color\": \"Black\",\n",
      "  \"attributes\": [\"Stainless Steel\", \"Powder Coated\", \"Screw Into Wall Or Fence\"]\n",
      "}\n"
     ]
    },
    {
     "name": "stderr",
     "output_type": "stream",
     "text": [
      " 58%|█████▊    | 134/231 [06:50<05:01,  3.11s/it]"
     ]
    },
    {
     "name": "stdout",
     "output_type": "stream",
     "text": [
      "355 {\n",
      "  \"product_name\": \"Kyoto XL Bean Bag Holder\",\n",
      "  \"product_type\": \"Home Decor\",\n",
      "  \"product_color\": \"N/A\",\n",
      "  \"attributes\": [\"Easy installation on fences or walls\", \"Ideal for hanging bean bags for space saving and keeping clean\", \"Made of powder-coated stainless steel\"]\n",
      "}\n"
     ]
    },
    {
     "name": "stderr",
     "output_type": "stream",
     "text": [
      " 58%|█████▊    | 135/231 [06:58<07:35,  4.75s/it]"
     ]
    },
    {
     "name": "stdout",
     "output_type": "stream",
     "text": [
      "365 {\n",
      "  \"product_name\": \"Addington\",\n",
      "  \"product_type\": \"Sofa\",\n",
      "  \"product_color\": \"Navy Blue\",\n",
      "  \"attributes\": [\"Made to order in a range of fabric colors\", \"Allow 10-12 weeks for delivery\", \"Quality craftsmanship and attention to detail\"]\n",
      "}\n",
      "\n",
      "{\n",
      "  \"product_name\": \"Angelina\",\n",
      "  \"product_type\": \"Accent Chair\",\n",
      "  \"product_color\": \"Grey\",\n",
      "  \"attributes\": [\"Electric recliner function\", \"High resilient foams\", \"Solid timber frame\"]\n",
      "}\n",
      "\n",
      "{\n",
      "  \"product_name\": \"Aria\",\n",
      "  \"product_type\": \"Accent Chair\",\n",
      "  \"product_color\": \"Beige\",\n",
      "  \"attributes\": [\"Upholstered in 100% polyester velvet\", \"No sag springs\", \"Attention to detail\"]\n",
      "}\n"
     ]
    },
    {
     "name": "stderr",
     "output_type": "stream",
     "text": [
      " 59%|█████▉    | 136/231 [07:01<06:37,  4.18s/it]"
     ]
    },
    {
     "name": "stdout",
     "output_type": "stream",
     "text": [
      "373 {\n",
      "  \"product_name\": \"Stealth Recliner\",\n",
      "  \"product_type\": \"Furniture\",\n",
      "  \"product_color\": \"Black\",\n",
      "  \"attributes\": [\"Manual recline feature\", \"Commercial-grade quality\", \"Easy to clean\"]\n",
      "}\n"
     ]
    },
    {
     "name": "stderr",
     "output_type": "stream",
     "text": [
      " 59%|█████▉    | 137/231 [07:04<05:53,  3.76s/it]"
     ]
    },
    {
     "name": "stdout",
     "output_type": "stream",
     "text": [
      "380 {\n",
      "  \"product_name\": \"Modern Coffee Table\",\n",
      "  \"product_type\": \"Furniture\",\n",
      "  \"product_color\": \"Walnut\",\n",
      "  \"attributes\": [\"Wooden legs\", \"Black or white powder coated steel base\", \"Spacious storage\"]\n",
      "}\n"
     ]
    },
    {
     "name": "stderr",
     "output_type": "stream",
     "text": [
      " 60%|█████▉    | 138/231 [07:06<05:13,  3.37s/it]"
     ]
    },
    {
     "name": "stdout",
     "output_type": "stream",
     "text": [
      "383 {\n",
      "  \"product_name\": \"Cel Collection\",\n",
      "  \"product_type\": \"Furniture\",\n",
      "  \"product_color\": \"Multiple colors\",\n",
      "  \"attributes\": [\"Berrii Collection\", \"Priy Collection\", \"Patala Floor Lamp\"]\n",
      "}\n"
     ]
    },
    {
     "name": "stderr",
     "output_type": "stream",
     "text": [
      "/home/ubuntu/.local/lib/python3.10/site-packages/transformers/generation/utils.py:1268: UserWarning: Input length of input_ids is 1178, but `max_length` is set to 1000. This can lead to unexpected behavior. You should consider increasing `max_new_tokens`.\n",
      "  warnings.warn(\n",
      " 60%|██████    | 139/231 [07:07<03:48,  2.49s/it]"
     ]
    },
    {
     "name": "stdout",
     "output_type": "stream",
     "text": [
      "388 {\n"
     ]
    },
    {
     "name": "stderr",
     "output_type": "stream",
     "text": [
      " 61%|██████    | 140/231 [07:09<03:45,  2.48s/it]"
     ]
    },
    {
     "name": "stdout",
     "output_type": "stream",
     "text": [
      "389 {\n",
      "  \"product_name\": \"Slimming Tea\",\n",
      "  \"product_type\": \"Beverage\",\n",
      "  \"product_color\": \"Green\",\n",
      "  \"attributes\": [\"Low calories\", \"Natural ingredients\", \"Aids in weight loss\"]\n",
      "}\n"
     ]
    },
    {
     "name": "stderr",
     "output_type": "stream",
     "text": [
      " 61%|██████    | 141/231 [07:12<03:50,  2.57s/it]"
     ]
    },
    {
     "name": "stdout",
     "output_type": "stream",
     "text": [
      "391 {\n",
      "  \"product_name\": \"Mirrored Furniture\",\n",
      "  \"product_type\": \"Furniture\",\n",
      "  \"product_color\": \"Silver Colour Finish\",\n",
      "  \"attributes\": [\"Living Room\", \"Bedroom\", \"Garden\"]\n",
      "}\n"
     ]
    },
    {
     "name": "stderr",
     "output_type": "stream",
     "text": [
      " 61%|██████▏   | 142/231 [07:14<03:40,  2.48s/it]"
     ]
    },
    {
     "name": "stdout",
     "output_type": "stream",
     "text": [
      "400 {\n",
      "  \"product_name\": \"Royal Garden\",\n",
      "  \"product_type\": \"Furniture\",\n",
      "  \"product_color\": \"Multiple Colors\",\n",
      "  \"attributes\": [\"Wholesale\", \"Retail\", \"Online\"]\n",
      "}\n"
     ]
    },
    {
     "name": "stderr",
     "output_type": "stream",
     "text": [
      " 62%|██████▏   | 143/231 [07:18<04:06,  2.81s/it]"
     ]
    },
    {
     "name": "stdout",
     "output_type": "stream",
     "text": [
      "406 {\n",
      "  \"product_name\": \"Central Coast Furniture\",\n",
      "  \"product_type\": \"Furniture\",\n",
      "  \"product_color\": \"N/A\",\n",
      "  \"attributes\": [\"Furniture availability is extremely limited with wait times up to 4 Months.\", \"Manufacturers are discontinuing many items and increasing prices sometimes daily.\", \"Temporarily suspending new orders\"]\n",
      "}\n"
     ]
    },
    {
     "name": "stderr",
     "output_type": "stream",
     "text": [
      " 62%|██████▏   | 144/231 [07:20<03:52,  2.67s/it]"
     ]
    },
    {
     "name": "stdout",
     "output_type": "stream",
     "text": [
      "410 {\n",
      "  \"product_name\": \"Henry & Oliver Co.\",\n",
      "  \"product_type\": \"Furniture\",\n",
      "  \"product_color\": \"Various\",\n",
      "  \"attributes\": [\"Australian Made\", \"Australian Designed\", \"Local Stock\"]\n",
      "}\n"
     ]
    },
    {
     "name": "stderr",
     "output_type": "stream",
     "text": [
      " 63%|██████▎   | 145/231 [07:22<03:36,  2.52s/it]"
     ]
    },
    {
     "name": "stdout",
     "output_type": "stream",
     "text": [
      "412 {\n",
      "  \"product_name\": \"Ave Raw Desk\",\n",
      "  \"product_type\": \"Furniture\",\n",
      "  \"product_color\": \"Walnut\",\n",
      "  \"attributes\": [\"Storage\", \"Desk\", \"Durable\"]\n",
      "}\n"
     ]
    },
    {
     "name": "stderr",
     "output_type": "stream",
     "text": [
      " 63%|██████▎   | 146/231 [07:25<03:33,  2.51s/it]"
     ]
    },
    {
     "name": "stdout",
     "output_type": "stream",
     "text": [
      "413 {\n",
      "  \"product_name\": \"Colourful Markers\",\n",
      "  \"product_type\": \"Cushion Cover\",\n",
      "  \"product_color\": \"Multicolor\",\n",
      "  \"attributes\": [\"Embroidered\", \"Handmade\", \"Unique\"]\n",
      "}\n"
     ]
    },
    {
     "name": "stderr",
     "output_type": "stream",
     "text": [
      " 64%|██████▎   | 147/231 [07:27<03:34,  2.55s/it]"
     ]
    },
    {
     "name": "stdout",
     "output_type": "stream",
     "text": [
      "415 {\n",
      "  \"product_name\": \"Modern Dining Table\",\n",
      "  \"product_type\": \"Furniture\",\n",
      "  \"product_color\": \"White\",\n",
      "  \"attributes\": [\"Contemporary design\", \"Stylish glossy white finish\", \"Elevated look\"]\n",
      "}\n"
     ]
    },
    {
     "name": "stderr",
     "output_type": "stream",
     "text": [
      " 64%|██████▍   | 148/231 [07:31<03:53,  2.81s/it]"
     ]
    },
    {
     "name": "stdout",
     "output_type": "stream",
     "text": [
      "422 {\n",
      "  \"product_name\": \"French Round Back Dining Chair\",\n",
      "  \"product_type\": \"Dining Chairs\",\n",
      "  \"product_color\": \"Walnut\",\n",
      "  \"attributes\": [\"No GST\", \"Save 9% / Extra 10% OFF\", \"OPEN January 23 to 28, 2024\"]\n",
      "}\n"
     ]
    },
    {
     "name": "stderr",
     "output_type": "stream",
     "text": [
      " 65%|██████▍   | 149/231 [07:33<03:41,  2.70s/it]"
     ]
    },
    {
     "name": "stdout",
     "output_type": "stream",
     "text": [
      "423 {\n",
      "  \"product_name\": \"Model 5 Oak\",\n",
      "  \"product_type\": \"Furniture\",\n",
      "  \"product_color\": \"Oak\",\n",
      "  \"attributes\": [\"Asymmetrical shape\", \"Rounded edges\", \"Solid oak legs\"]\n",
      "}\n"
     ]
    },
    {
     "name": "stderr",
     "output_type": "stream",
     "text": [
      " 65%|██████▍   | 150/231 [07:36<03:39,  2.71s/it]"
     ]
    },
    {
     "name": "stdout",
     "output_type": "stream",
     "text": [
      "428 {\n",
      "  \"product_name\": \"Copper Pipe Clothes Hanger Hooks\",\n",
      "  \"product_type\": \"Furniture\",\n",
      "  \"product_color\": \"Copper\",\n",
      "  \"attributes\": [\"Made to Order\", \"Customisable\", \"Handmade\"]\n",
      "}\n"
     ]
    },
    {
     "name": "stderr",
     "output_type": "stream",
     "text": [
      " 65%|██████▌   | 151/231 [07:39<03:36,  2.71s/it]"
     ]
    },
    {
     "name": "stdout",
     "output_type": "stream",
     "text": [
      "430 {\n",
      "  \"product_name\": \"Adirondack Chair\",\n",
      "  \"product_type\": \"Outdoor Furniture\",\n",
      "  \"product_color\": \"Natural\",\n",
      "  \"attributes\": [\"Waterproof\", \"Weatherproof\", \"Environmentally Friendly\"]\n",
      "}\n"
     ]
    },
    {
     "name": "stderr",
     "output_type": "stream",
     "text": [
      "/home/ubuntu/.local/lib/python3.10/site-packages/transformers/generation/utils.py:1268: UserWarning: Input length of input_ids is 1213, but `max_length` is set to 1000. This can lead to unexpected behavior. You should consider increasing `max_new_tokens`.\n",
      "  warnings.warn(\n",
      " 66%|██████▌   | 152/231 [07:39<02:40,  2.03s/it]"
     ]
    },
    {
     "name": "stdout",
     "output_type": "stream",
     "text": [
      "439 {\n"
     ]
    },
    {
     "name": "stderr",
     "output_type": "stream",
     "text": [
      " 66%|██████▌   | 153/231 [07:43<03:29,  2.69s/it]"
     ]
    },
    {
     "name": "stdout",
     "output_type": "stream",
     "text": [
      "440 {\n",
      "  \"product_name\": \"Newstart Furniture\",\n",
      "  \"product_type\": \"Furniture\",\n",
      "  \"product_color\": \"Various\",\n",
      "  \"attributes\": [\"Furniture for Home and Office\", \"Shop Furniture and Buy Now Pay Later with Afterpay, ZipPay, ZipMoney and LayBuy\", \"Living Room, Dining, Bedroom, Office Furniture, Outdoor Living, Kids Furniture, Bathroom\"]\n",
      "}\n"
     ]
    },
    {
     "name": "stderr",
     "output_type": "stream",
     "text": [
      " 67%|██████▋   | 154/231 [07:45<03:06,  2.43s/it]"
     ]
    },
    {
     "name": "stdout",
     "output_type": "stream",
     "text": [
      "447 {\n",
      "  \"product_name\": \"N/A\",\n",
      "  \"product_type\": \"N/A\",\n",
      "  \"product_color\": \"N/A\",\n",
      "  \"attributes\": []\n",
      "}\n"
     ]
    },
    {
     "name": "stderr",
     "output_type": "stream",
     "text": [
      " 67%|██████▋   | 155/231 [07:48<03:16,  2.59s/it]"
     ]
    },
    {
     "name": "stdout",
     "output_type": "stream",
     "text": [
      "451 {\n",
      "  \"product_name\": \"Primavera Bed 200x200\",\n",
      "  \"product_type\": \"Furniture\",\n",
      "  \"product_color\": \"Antique gold paint\",\n",
      "  \"attributes\": [\"Headboard\", \"Steel bed frame\", \"Wooden slats\"]\n",
      "}\n"
     ]
    },
    {
     "name": "stderr",
     "output_type": "stream",
     "text": [
      " 68%|██████▊   | 156/231 [07:51<03:10,  2.54s/it]"
     ]
    },
    {
     "name": "stdout",
     "output_type": "stream",
     "text": [
      "452 {\n",
      "  \"product_name\": \"Copper Barn Home\",\n",
      "  \"product_type\": \"Furniture\",\n",
      "  \"product_color\": \"Natural\",\n",
      "  \"attributes\": [\"Gift Card\", \"Durable\", \"Handcrafted\"]\n",
      "}\n"
     ]
    },
    {
     "name": "stderr",
     "output_type": "stream",
     "text": [
      " 68%|██████▊   | 157/231 [07:53<03:08,  2.55s/it]"
     ]
    },
    {
     "name": "stdout",
     "output_type": "stream",
     "text": [
      "454 {\n",
      "  \"product_name\": \"Outdoor Hanging Pod Chair Grey\",\n",
      "  \"product_type\": \"Furniture\",\n",
      "  \"product_color\": \"Grey\",\n",
      "  \"attributes\": [\"Seat\", \"Back Cushion\", \"Frame\"]\n",
      "}\n"
     ]
    },
    {
     "name": "stderr",
     "output_type": "stream",
     "text": [
      " 68%|██████▊   | 158/231 [07:56<03:02,  2.50s/it]"
     ]
    },
    {
     "name": "stdout",
     "output_type": "stream",
     "text": [
      "457 {\n",
      "  \"product_name\": \"Slimming Tea\",\n",
      "  \"product_type\": \"Beverage\",\n",
      "  \"product_color\": \"Green\",\n",
      "  \"attributes\": [\"Low calories\", \"Natural ingredients\", \"Aids in weight loss\"]\n",
      "}\n"
     ]
    },
    {
     "name": "stderr",
     "output_type": "stream",
     "text": [
      " 69%|██████▉   | 159/231 [07:58<03:06,  2.60s/it]"
     ]
    },
    {
     "name": "stdout",
     "output_type": "stream",
     "text": [
      "463 {\n",
      "  \"product_name\": \"Modern Abstract Area Rug\",\n",
      "  \"product_type\": \"Area Rug\",\n",
      "  \"product_color\": \"Multiple Colors\",\n",
      "  \"attributes\": [\"Machine-Woven\", \"High Quality Polypropylene\", \"Comfortable Underfoot\"]\n",
      "}\n"
     ]
    },
    {
     "name": "stderr",
     "output_type": "stream",
     "text": [
      " 69%|██████▉   | 160/231 [08:06<04:57,  4.19s/it]"
     ]
    },
    {
     "name": "stdout",
     "output_type": "stream",
     "text": [
      "465 {\n",
      "  \"product_name\": \"Hamptons Style Potato Sack\",\n",
      "  \"product_type\": \"Home Decor\",\n",
      "  \"product_color\": \"Natural\",\n",
      "  \"attributes\": [\"Natural\", \"Home Decor\", \"Potato Sack\"]\n",
      "}\n",
      "\n",
      "{\n",
      "  \"product_name\": \"Hamptons Style Blue Sapphire Cushion\",\n",
      "  \"product_type\": \"Furniture\",\n",
      "  \"product_color\": \"Blue Sapphire\",\n",
      "  \"attributes\": [\"Blue Sapphire\", \"Furniture\", \"Cushion\"]\n",
      "}\n",
      "\n",
      "{\n",
      "  \"product_name\": \"Hamptons Style Portsea Cushion\",\n",
      "  \"product_type\": \"Furniture\",\n",
      "  \"product_color\": \"Beige\",\n",
      "  \"attributes\": [\"Beige\", \"Furniture\", \"Cushion\"]\n",
      "}\n"
     ]
    },
    {
     "name": "stderr",
     "output_type": "stream",
     "text": [
      " 70%|██████▉   | 161/231 [08:10<04:33,  3.90s/it]"
     ]
    },
    {
     "name": "stdout",
     "output_type": "stream",
     "text": [
      "466 {\n",
      "  \"product_name\": \"Kaona Dining Table\",\n",
      "  \"product_type\": \"Furniture\",\n",
      "  \"product_color\": \"Solid Iroko wood, oil and natural wax finish\",\n",
      "  \"attributes\": [\"Circular and elliptical geometries\", \"Stretching transformations\", \"Signed and numbered copies\"]\n",
      "}\n"
     ]
    },
    {
     "name": "stderr",
     "output_type": "stream",
     "text": [
      " 70%|███████   | 162/231 [08:12<03:54,  3.40s/it]"
     ]
    },
    {
     "name": "stdout",
     "output_type": "stream",
     "text": [
      "469 {\n",
      "  \"product_name\": \"Block & Chisel\",\n",
      "  \"product_type\": \"Furniture\",\n",
      "  \"product_color\": \"N/A\",\n",
      "  \"attributes\": [\"Furniture\", \"Home Decor\", \"Handmade\"]\n",
      "}\n"
     ]
    },
    {
     "name": "stderr",
     "output_type": "stream",
     "text": [
      " 71%|███████   | 163/231 [08:15<03:39,  3.23s/it]"
     ]
    },
    {
     "name": "stdout",
     "output_type": "stream",
     "text": [
      "481 {\n",
      "  \"product_name\": \"Nike Air Max\",\n",
      "  \"product_type\": \"Shoes\",\n",
      "  \"product_color\": \"Black/White\",\n",
      "  \"attributes\": [\"Air Max technology for maximum impact protection\", \"Lightweight and breathable mesh upper\", \"Cushioned insole for added comfort\"]\n",
      "}\n"
     ]
    },
    {
     "name": "stderr",
     "output_type": "stream",
     "text": [
      " 71%|███████   | 164/231 [08:17<03:28,  3.12s/it]"
     ]
    },
    {
     "name": "stdout",
     "output_type": "stream",
     "text": [
      "483 {\n",
      "  \"product_name\": \"Vintage Teak Extending Dining Table\",\n",
      "  \"product_type\": \"Furniture\",\n",
      "  \"product_color\": \"Wooden\",\n",
      "  \"attributes\": [\"Vintage\", \"Extending\", \"Teak\"]\n",
      "}\n"
     ]
    },
    {
     "name": "stderr",
     "output_type": "stream",
     "text": [
      " 71%|███████▏  | 165/231 [08:21<03:36,  3.28s/it]"
     ]
    },
    {
     "name": "stdout",
     "output_type": "stream",
     "text": [
      "485 {\n",
      "  \"product_name\": \"S-Cube Ottoman\",\n",
      "  \"product_type\": \"Furniture\",\n",
      "  \"product_color\": \"Black or Grey\",\n",
      "  \"attributes\": [\"Versatile seating\", \"Beautiful ottoman with PU cushioned seating\", \"Ideal for home office, kitchen, kid's room, dining room, living room\"]\n",
      "}\n"
     ]
    },
    {
     "name": "stderr",
     "output_type": "stream",
     "text": [
      " 72%|███████▏  | 166/231 [08:28<04:33,  4.21s/it]"
     ]
    },
    {
     "name": "stdout",
     "output_type": "stream",
     "text": [
      "489 {\n",
      "  \"product_name\": \"Lagos Bed\",\n",
      "  \"product_type\": \"Furniture\",\n",
      "  \"product_color\": \"Multiple colors available\",\n",
      "  \"attributes\": [\"Sustainable\", \"Fully sustainable\", \"FSC® certified\"]\n",
      "}\n",
      "\n",
      "{\n",
      "  \"product_name\": \"Lagos Bedside\",\n",
      "  \"product_type\": \"Furniture\",\n",
      "  \"product_color\": \"Multiple colors available\",\n",
      "  \"attributes\": [\"Sustainable\", \"Fully sustainable\", \"FSC® certified\"]\n",
      "}\n",
      "\n",
      "{\n",
      "  \"product_name\": \"Maebry Entertainment Unit\",\n",
      " \n"
     ]
    },
    {
     "name": "stderr",
     "output_type": "stream",
     "text": [
      " 72%|███████▏  | 167/231 [08:30<03:55,  3.68s/it]"
     ]
    },
    {
     "name": "stdout",
     "output_type": "stream",
     "text": [
      "491 {\n",
      "  \"product_name\": \"Customizable Sofa\",\n",
      "  \"product_type\": \"Furniture\",\n",
      "  \"product_color\": \"Various\",\n",
      "  \"attributes\": [\"Customizable\", \"Leather or Fabric\", \"Sofa\"]\n",
      "}\n"
     ]
    },
    {
     "name": "stderr",
     "output_type": "stream",
     "text": [
      " 73%|███████▎  | 168/231 [08:32<03:25,  3.27s/it]"
     ]
    },
    {
     "name": "stdout",
     "output_type": "stream",
     "text": [
      "494 {\n",
      "  \"product_name\": \"Penelope's Garden\",\n",
      "  \"product_type\": \"Garden\",\n",
      "  \"product_color\": null,\n",
      "  \"attributes\": [\"Opening Soon\", \"New Ventures\", \"Exciting\"]\n",
      "}\n"
     ]
    },
    {
     "name": "stderr",
     "output_type": "stream",
     "text": [
      " 73%|███████▎  | 169/231 [08:35<03:04,  2.97s/it]"
     ]
    },
    {
     "name": "stdout",
     "output_type": "stream",
     "text": [
      "501 {\n",
      "  \"product_name\": \"Brown Leather Wallet\",\n",
      "  \"product_type\": \"Wallet\",\n",
      "  \"product_color\": \"Brown\",\n",
      "  \"attributes\": [\"Leather\", \"Wallet\", \"Brown\"]\n",
      "}\n"
     ]
    },
    {
     "name": "stderr",
     "output_type": "stream",
     "text": [
      " 74%|███████▎  | 170/231 [08:37<02:54,  2.86s/it]"
     ]
    },
    {
     "name": "stdout",
     "output_type": "stream",
     "text": [
      "502 {\n",
      "  \"product_name\": \"Hanging Chair\",\n",
      "  \"product_type\": \"Furniture\",\n",
      "  \"product_color\": \"Natural\",\n",
      "  \"attributes\": [\"Handcrafted\", \"Adjustable recline\", \"Made of natural rattan\"]\n",
      "}\n"
     ]
    },
    {
     "name": "stderr",
     "output_type": "stream",
     "text": [
      " 74%|███████▍  | 171/231 [08:40<02:58,  2.97s/it]"
     ]
    },
    {
     "name": "stdout",
     "output_type": "stream",
     "text": [
      "503 {\n",
      "  \"product_name\": \"Niagara Bar\",\n",
      "  \"product_type\": \"Bars\",\n",
      "  \"product_color\": \"Rustic Cherry\",\n",
      "  \"attributes\": [\"Removable laminated marble top\", \"Adjustable wood shelves\", \"Hanging stemware rack\"]\n",
      "}\n"
     ]
    },
    {
     "name": "stderr",
     "output_type": "stream",
     "text": [
      " 74%|███████▍  | 172/231 [08:43<02:48,  2.86s/it]"
     ]
    },
    {
     "name": "stdout",
     "output_type": "stream",
     "text": [
      "504 {\n",
      "  \"product_name\": \"Mexican Hammock\",\n",
      "  \"product_type\": \"Hammock\",\n",
      "  \"product_color\": \"Multicolored\",\n",
      "  \"attributes\": [\"Traditional\", \"Strong\", \"Comfortable\"]\n",
      "}\n"
     ]
    },
    {
     "name": "stderr",
     "output_type": "stream",
     "text": [
      " 75%|███████▍  | 173/231 [08:46<02:42,  2.81s/it]"
     ]
    },
    {
     "name": "stdout",
     "output_type": "stream",
     "text": [
      "507 {\n",
      "  \"product_name\": \"Nine Drawer Credenza\",\n",
      "  \"product_type\": \"Furniture\",\n",
      "  \"product_color\": \"Black\",\n",
      "  \"attributes\": [\"Ground up restoration\", \"Ebonized finish\", \"Silver leaf drawer fronts\"]\n",
      "}\n"
     ]
    },
    {
     "name": "stderr",
     "output_type": "stream",
     "text": [
      " 75%|███████▌  | 174/231 [08:49<02:48,  2.95s/it]"
     ]
    },
    {
     "name": "stdout",
     "output_type": "stream",
     "text": [
      "509 {\n",
      "  \"product_name\": \"Mid-Century Modernist Inspired Sputnik Chandelier\",\n",
      "  \"product_type\": \"Lighting\",\n",
      "  \"product_color\": \"Brushed Brass\",\n",
      "  \"attributes\": [\"Large Textured Murano Glass Spikes\", \"Fixed Directly to Central Sphere\", \"29 Bulbs\"]\n",
      "}\n"
     ]
    },
    {
     "name": "stderr",
     "output_type": "stream",
     "text": [
      " 76%|███████▌  | 175/231 [08:51<02:37,  2.82s/it]"
     ]
    },
    {
     "name": "stdout",
     "output_type": "stream",
     "text": [
      "510 {\n",
      "  \"product_name\": \"100 Classic Leather Sofa\",\n",
      "  \"product_type\": \"Furniture\",\n",
      "  \"product_color\": \"Natural\",\n",
      "  \"attributes\": [\"Timeless beauty\", \"Inviting appeal\", \"Comfort\"]\n",
      "}\n"
     ]
    },
    {
     "name": "stderr",
     "output_type": "stream",
     "text": [
      " 76%|███████▌  | 176/231 [08:55<02:40,  2.92s/it]"
     ]
    },
    {
     "name": "stdout",
     "output_type": "stream",
     "text": [
      "511 {\n",
      "  \"product_name\": \"Mr and Mrs White Furniture\",\n",
      "  \"product_type\": \"Furniture\",\n",
      "  \"product_color\": null,\n",
      "  \"attributes\": [\"Designed and handcrafted in Australia\", \"Trusted partnerships for professional furniture freight locally and Australia wide\", \"No additional processing fees\"]\n",
      "}\n"
     ]
    },
    {
     "name": "stderr",
     "output_type": "stream",
     "text": [
      " 77%|███████▋  | 177/231 [08:57<02:29,  2.77s/it]"
     ]
    },
    {
     "name": "stdout",
     "output_type": "stream",
     "text": [
      "514 {\n",
      "  \"product_name\": \"Bench\",\n",
      "  \"product_type\": \"Furniture\",\n",
      "  \"product_color\": \"Black\",\n",
      "  \"attributes\": [\"Sunproof textile\", \"UV proof\", \"Water resistant\"]\n",
      "}\n"
     ]
    },
    {
     "name": "stderr",
     "output_type": "stream",
     "text": [
      " 77%|███████▋  | 178/231 [08:59<02:20,  2.65s/it]"
     ]
    },
    {
     "name": "stdout",
     "output_type": "stream",
     "text": [
      "516 {\n",
      "  \"product_name\": \"Modern Decor\",\n",
      "  \"product_type\": \"Furniture\",\n",
      "  \"product_color\": \"N/A\",\n",
      "  \"attributes\": [\"Temporarily Disabled\", \"Please Check Back Shortly\", \"Log In\"]\n",
      "}\n"
     ]
    },
    {
     "name": "stderr",
     "output_type": "stream",
     "text": [
      " 77%|███████▋  | 179/231 [09:08<03:54,  4.51s/it]"
     ]
    },
    {
     "name": "stdout",
     "output_type": "stream",
     "text": [
      "522 {\n",
      "  \"product_name\": \"Accent Furniture\",\n",
      "  \"product_type\": \"Furniture\",\n",
      "  \"product_color\": \"Various\",\n",
      "  \"attributes\": [\"Accent\", \"Chests\", \"Tables\"]\n",
      "}\n",
      "\n",
      "{\n",
      "  \"product_name\": \"Accent Chairs\",\n",
      "  \"product_type\": \"Furniture\",\n",
      "  \"product_color\": \"Various\",\n",
      "  \"attributes\": [\"Accent\", \"Chairs\", \"Occasional\"]\n",
      "}\n",
      "\n",
      "{\n",
      "  \"product_name\": \"Accent Consoles\",\n",
      "  \"product_type\": \"Furniture\",\n",
      "  \"product_color\": \"Various\",\n",
      "  \"attributes\": [\"Accent\", \"Consoles\", \"Decorative\"]\n",
      "}\n",
      "\n",
      "{\n",
      "  \"product_name\": \"Accent Tables\",\n",
      "  \"product_type\": \"Furniture\",\n",
      "  \"product_color\": \"Various\",\n",
      "  \"attributes\": [\"Accent\", \"Tables\", \"Decorative\"]\n",
      "}\n"
     ]
    },
    {
     "name": "stderr",
     "output_type": "stream",
     "text": [
      " 78%|███████▊  | 180/231 [09:11<03:29,  4.10s/it]"
     ]
    },
    {
     "name": "stdout",
     "output_type": "stream",
     "text": [
      "525 {\n",
      "  \"product_name\": \"Arcos Chair\",\n",
      "  \"product_type\": \"Furniture\",\n",
      "  \"product_color\": \"Default Title\",\n",
      "  \"attributes\": [\"CNC cut from high quality Ash plywood\", \"Seat height - 18 inches (46 cm)\", \"Total height - 30 inches (76 cm)\"],\n",
      "}\n"
     ]
    },
    {
     "name": "stderr",
     "output_type": "stream",
     "text": [
      " 78%|███████▊  | 181/231 [09:14<03:05,  3.71s/it]"
     ]
    },
    {
     "name": "stdout",
     "output_type": "stream",
     "text": [
      "526 {\n",
      "  \"product_name\": \"Wishbone Chair\",\n",
      "  \"product_type\": \"Furniture\",\n",
      "  \"product_color\": \"Black\",\n",
      "  \"attributes\": [\"Inspired by Hans Wegner\", \"Solid wood construction\", \"Elegant and minimalistic design\"]\n",
      "}\n"
     ]
    },
    {
     "name": "stderr",
     "output_type": "stream",
     "text": [
      " 79%|███████▉  | 182/231 [09:17<02:44,  3.35s/it]"
     ]
    },
    {
     "name": "stdout",
     "output_type": "stream",
     "text": [
      "528 {\n",
      "  \"product_name\": \"Self Planner\",\n",
      "  \"product_type\": \"Notebook\",\n",
      "  \"product_color\": null,\n",
      "  \"attributes\": [\"Environmentally Tree-Free Paper\", \"Inspirational Quotes\", \"Journaling\"]\n",
      "}\n"
     ]
    },
    {
     "name": "stderr",
     "output_type": "stream",
     "text": [
      " 79%|███████▉  | 183/231 [09:19<02:24,  3.00s/it]"
     ]
    },
    {
     "name": "stdout",
     "output_type": "stream",
     "text": [
      "530 {\n",
      "  \"product_name\": \"WB Jamieson Lock\",\n",
      "  \"product_type\": \"Furniture\",\n",
      "  \"product_color\": \"Black\",\n",
      "  \"attributes\": [\"Lockable\", \"Secure\", \"Stylish\"]\n",
      "}\n"
     ]
    },
    {
     "name": "stderr",
     "output_type": "stream",
     "text": [
      " 80%|███████▉  | 184/231 [09:21<02:12,  2.82s/it]"
     ]
    },
    {
     "name": "stdout",
     "output_type": "stream",
     "text": [
      "533 {\n",
      "  \"product_name\": \"Grey Wool Rug\",\n",
      "  \"product_type\": \"Rug\",\n",
      "  \"product_color\": \"Grey\",\n",
      "  \"attributes\": [\"Wool\", \"Handmade\", \"Scandinavian Design\"]\n",
      "}\n"
     ]
    },
    {
     "name": "stderr",
     "output_type": "stream",
     "text": [
      " 80%|████████  | 185/231 [09:24<02:06,  2.75s/it]"
     ]
    },
    {
     "name": "stdout",
     "output_type": "stream",
     "text": [
      "536 {\n",
      "  \"product_name\": \"Modern Theatre Lounge\",\n",
      "  \"product_type\": \"Furniture\",\n",
      "  \"product_color\": \"Black\",\n",
      "  \"attributes\": [\"Made to order\", \"Solid timber frame\", \"No sag springs\"]\n",
      "}\n"
     ]
    },
    {
     "name": "stderr",
     "output_type": "stream",
     "text": [
      " 81%|████████  | 186/231 [09:27<02:04,  2.77s/it]"
     ]
    },
    {
     "name": "stdout",
     "output_type": "stream",
     "text": [
      "539 {\n",
      "  \"product_name\": \"Satin Napkins\",\n",
      "  \"product_type\": \"Party Supplies\",\n",
      "  \"product_color\": \"N/A\",\n",
      "  \"attributes\": [\"18 x 18 Inch\", \"Satin\", \"Rhinestone\"]\n",
      "}\n"
     ]
    }
   ],
   "source": [
    "f = open('./Untitled Folder/untitled&titled_data.json')\n",
    "dtst = json.load(f)\n",
    "for d in tqdm(dtst):\n",
    "    try:\n",
    "        prompt = f\"\"\"[INST]{d['text_short']}\\nExtract product name, product type, product color, list of 3 attributes. [/INST]\\n\"\"\"\n",
    "        result = pipe(prompt)\n",
    "        print(d['n'], result[0]['generated_text'])\n",
    "        d['result'] = result[0]['generated_text']\n",
    "    except Exception as e:\n",
    "        print(\"Error OTHER: \", e)\n",
    "        d['result'] = None\n",
    "    # break"
   ]
  },
  {
   "cell_type": "markdown",
   "id": "7ddd7b4b-18dc-4eba-9998-b7362b9f4301",
   "metadata": {},
   "source": [
    "this would be good score, if it was tested on representative set of evaluation data, but there was not enough data."
   ]
  },
  {
   "cell_type": "code",
   "execution_count": 344,
   "id": "21e64806-52ed-4cf3-a418-3c03f0514669",
   "metadata": {},
   "outputs": [
    {
     "data": {
      "text/plain": [
       "0.5647831741610471"
      ]
     },
     "execution_count": 344,
     "metadata": {},
     "output_type": "execute_result"
    }
   ],
   "source": [
    "\n",
    "from evaluate import load\n",
    "import evaluate\n",
    "rouge = evaluate.load('rouge')\n",
    "validate_res = []\n",
    "for d in dat:\n",
    "    if 'processed' in d.keys():\n",
    "\n",
    "        validate_res.append(rouge.compute(predictions=[d['result']], references=[d['processed']]))\n",
    "    # break\n",
    "\n",
    "np.mean([v['rougeLsum'] for v in validate_res])"
   ]
  },
  {
   "cell_type": "markdown",
   "id": "e0d5be1b-ab08-4b94-9ddd-94642fc49d84",
   "metadata": {},
   "source": [
    "Method for extraction, task solution"
   ]
  },
  {
   "cell_type": "code",
   "execution_count": null,
   "id": "6d385833-366e-499b-8d40-147d95a436cd",
   "metadata": {},
   "outputs": [],
   "source": [
    "class Extractor:\n",
    "def __init__():\n",
    "    new_model = \"llama-2-7b-product-parse2\"\n",
    "    base_model = AutoModelForCausalLM.from_pretrained(\n",
    "        model_name,\n",
    "        low_cpu_mem_usage=True,\n",
    "        return_dict=True,\n",
    "        # quantization_config=bnb_config,\n",
    "        torch_dtype=torch.float16,\n",
    "        device_map='auto',\n",
    "        cache_dir=\"./data/models/\"\n",
    "    )\n",
    "    self.model = PeftModel.from_pretrained(base_model, new_model)\n",
    "    self.model = model.merge_and_unload()\n",
    "    \n",
    "    # Reload tokenizer to save it\n",
    "    self.tokenizer = AutoTokenizer.from_pretrained(model_name, trust_remote_code=True)\n",
    "    self.tokenizer.pad_token = tokenizer.eos_token\n",
    "    self.tokenizer.padding_side = \"right\"\n",
    "\n",
    "    self.pipe = pipeline(task=\"text-generation\", model=self.model, tokenizer=self.tokenizer, max_length=1000, return_full_text=False, repetition_penalty=1.1)\n",
    "\n",
    "def clean(self, text: str) -> str:\n",
    "    text = re.sub('<.*>','',text)\n",
    "    text = re.sub('\\n+','',text)\n",
    "    text = re.sub(' +',' ',text)\n",
    "    return text.strip()\n",
    "    \n",
    "def parse_url(self, url: str) -> Dict[Any, Any]:#this is a bit of a pseudocode :)\n",
    "    print(i,\">>\",url)\n",
    "    # try:\n",
    "    s = requests.Session()\n",
    "    s.mount(url, HTTPAdapter(max_retries=3))\n",
    "    page = requests.get(url, allow_redirects=True)\n",
    "    # if page.status_code == 404:\n",
    "        \n",
    "    print(page.status_code)\n",
    "    \n",
    "    soup = BeautifulSoup(page.content, \"lxml\")\n",
    "    title = str(soup.title)\n",
    "    title = clean(title)\n",
    "\n",
    "    # print(dir(soup))\n",
    "    text = str(soup.text)\n",
    "    if len(text)<100:\n",
    "\n",
    "        return None #probably domain for sale\n",
    "    else:    \n",
    "        text = [i for i in np.unique(sent_tokenize(text)) if len(i)<1000]\n",
    "        text = [clean(i) for i in text]\n",
    "        return {\"n\":i,\"url\":url,\"title\":title,\"text\":text}\n",
    "        \n",
    "def extract(self, url: str) -> Dict[Any, Any]:\n",
    "    data= self.parse_url(url)\n",
    "\n",
    "    prompt = f\"\"\"[INST]{d['text_short']}\\nExtract product name, product type, product color, list of 3 attributes. [/INST]\\n\"\"\"\n",
    "    result = self.pipe(prompt)\n",
    "    data['result'] = result[0]['generated_text']\n",
    "    return data"
   ]
  },
  {
   "cell_type": "code",
   "execution_count": 157,
   "id": "f5ce6a5f-fc29-40a8-b6c6-9c0151b11cdd",
   "metadata": {
    "scrolled": true
   },
   "outputs": [],
   "source": [
    "# with open('final_res.json', 'w') as f:\n",
    "#     json.dump(dtst, f)"
   ]
  },
  {
   "cell_type": "code",
   "execution_count": 160,
   "id": "69a9df5e-45de-41c4-8b0b-64d6093ad148",
   "metadata": {},
   "outputs": [],
   "source": [
    "\n",
    "for d in dtst:\n",
    "    try:\n",
    "        d['res_fixed'] = json.loads(d['result'])\n",
    "    except Exception as e:\n",
    "        # print(d['n'],d['result'])\n",
    "        multiple = re.sub('}\\n?{','}~{',re.sub('\\n','',d['result'])).split('~')\n",
    "        multiple = [m for m in multiple if re.findall(r'^ ?\\{.*\\} ?$',m)]\n",
    "        try:\n",
    "            multiple = [json.loads(m) for m in multiple]\n",
    "            d['res_fixed'] = multiple\n",
    "        except Exception as e:\n",
    "            d['res_fixed'] = None\n",
    "        # print(\"===\")"
   ]
  },
  {
   "cell_type": "code",
   "execution_count": 187,
   "id": "21076449-673a-4afa-b822-3ae7e9f40095",
   "metadata": {
    "scrolled": true
   },
   "outputs": [],
   "source": [
    "results_ok = [d['res_fixed'] for d in dtst if d['res_fixed'] != None]"
   ]
  },
  {
   "cell_type": "markdown",
   "id": "6948f9e1-ab9c-45da-88d7-7a6515b0b452",
   "metadata": {},
   "source": [
    "would be a good idea to filter out non furniture objects during parsing, or use classifier (instead of zero shot) to do cleaning, but I had no time"
   ]
  },
  {
   "cell_type": "code",
   "execution_count": 302,
   "id": "0ea7b7e7-0d3a-4a64-a44b-091f3ead869a",
   "metadata": {
    "scrolled": true
   },
   "outputs": [],
   "source": [
    "# pipe = pipeline(model=\"facebook/bart-large-mnli\")\n",
    "res_analysis = []\n",
    "for res in results_ok:\n",
    "    if isinstance(res, dict):\n",
    "        res_analysis.append(res)\n",
    "        # check_res = res\n",
    "        # label = pipe(check_res['product_type'], candidate_labels=[\"furniture\", \"not furniture\"])\n",
    "        # print(label['labels'][0],check_res['product_type'])\n",
    "    elif isinstance(res, list) and len(res)>=1:\n",
    "        for r in res:\n",
    "            if isinstance(r, dict):\n",
    "                res_analysis.append(r)\n",
    "                # check_res = r\n",
    "                # label = pipe(check_res['product_type'], candidate_labels=[\"furniture\", \"not furniture\"])\n",
    "                # print(label['labels'][0],check_res['product_type'])\n"
   ]
  },
  {
   "cell_type": "code",
   "execution_count": 205,
   "id": "909a2024-abd2-454c-a42a-1c6f2c46d492",
   "metadata": {},
   "outputs": [],
   "source": [
    "names = [r['product_name'] for r in res_analysis]\n",
    "types = [r['product_type'] for r in res_analysis]\n",
    "colors = [r['product_color'] for r in res_analysis]\n",
    "attributes = [r['attributes'] for r in res_analysis]"
   ]
  },
  {
   "cell_type": "code",
   "execution_count": 81,
   "id": "806eb50f-93e0-42f8-b051-ba55fb029b6d",
   "metadata": {},
   "outputs": [
    {
     "data": {
      "text/html": [
       "    <style>\n",
       "        .bk-notebook-logo {\n",
       "            display: block;\n",
       "            width: 20px;\n",
       "            height: 20px;\n",
       "            background-image: url(data:image/png;base64,iVBORw0KGgoAAAANSUhEUgAAABQAAAAUCAYAAACNiR0NAAAABHNCSVQICAgIfAhkiAAAAAlwSFlzAAALEgAACxIB0t1+/AAAABx0RVh0U29mdHdhcmUAQWRvYmUgRmlyZXdvcmtzIENTNui8sowAAAOkSURBVDiNjZRtaJVlGMd/1/08zzln5zjP1LWcU9N0NkN8m2CYjpgQYQXqSs0I84OLIC0hkEKoPtiH3gmKoiJDU7QpLgoLjLIQCpEsNJ1vqUOdO7ppbuec5+V+rj4ctwzd8IIbbi6u+8f1539dt3A78eXC7QizUF7gyV1fD1Yqg4JWz84yffhm0qkFqBogB9rM8tZdtwVsPUhWhGcFJngGeWrPzHm5oaMmkfEg1usvLFyc8jLRqDOMru7AyC8saQr7GG7f5fvDeH7Ej8CM66nIF+8yngt6HWaKh7k49Soy9nXurCi1o3qUbS3zWfrYeQDTB/Qj6kX6Ybhw4B+bOYoLKCC9H3Nu/leUTZ1JdRWkkn2ldcCamzrcf47KKXdAJllSlxAOkRgyHsGC/zRday5Qld9DyoM4/q/rUoy/CXh3jzOu3bHUVZeU+DEn8FInkPBFlu3+nW3Nw0mk6vCDiWg8CeJaxEwuHS3+z5RgY+YBR6V1Z1nxSOfoaPa4LASWxxdNp+VWTk7+4vzaou8v8PN+xo+KY2xsw6une2frhw05CTYOmQvsEhjhWjn0bmXPjpE1+kplmmkP3suftwTubK9Vq22qKmrBhpY4jvd5afdRA3wGjFAgcnTK2s4hY0/GPNIb0nErGMCRxWOOX64Z8RAC4oCXdklmEvcL8o0BfkNK4lUg9HTl+oPlQxdNo3Mg4Nv175e/1LDGzZen30MEjRUtmXSfiTVu1kK8W4txyV6BMKlbgk3lMwYCiusNy9fVfvvwMxv8Ynl6vxoByANLTWplvuj/nF9m2+PDtt1eiHPBr1oIfhCChQMBw6Aw0UulqTKZdfVvfG7VcfIqLG9bcldL/+pdWTLxLUy8Qq38heUIjh4XlzZxzQm19lLFlr8vdQ97rjZVOLf8nclzckbcD4wxXMidpX30sFd37Fv/GtwwhzhxGVAprjbg0gCAEeIgwCZyTV2Z1REEW8O4py0wsjeloKoMr6iCY6dP92H6Vw/oTyICIthibxjm/DfN9lVz8IqtqKYLUXfoKVMVQVVJOElGjrnnUt9T9wbgp8AyYKaGlqingHZU/uG2NTZSVqwHQTWkx9hxjkpWDaCg6Ckj5qebgBVbT3V3NNXMSiWSDdGV3hrtzla7J+duwPOToIg42ChPQOQjspnSlp1V+Gjdged7+8UN5CRAV7a5EdFNwCjEaBR27b3W890TE7g24NAP/mMDXRWrGoFPQI9ls/MWO2dWFAar/xcOIImbbpA3zgAAAABJRU5ErkJggg==);\n",
       "        }\n",
       "    </style>\n",
       "    <div>\n",
       "        <a href=\"https://bokeh.org\" target=\"_blank\" class=\"bk-notebook-logo\"></a>\n",
       "        <span id=\"a6b41b51-162a-4c3d-a1d2-ab4bf60f9ff1\">Loading BokehJS ...</span>\n",
       "    </div>\n"
      ]
     },
     "metadata": {},
     "output_type": "display_data"
    },
    {
     "data": {
      "application/javascript": [
       "(function(root) {\n",
       "  function now() {\n",
       "    return new Date();\n",
       "  }\n",
       "\n",
       "  const force = true;\n",
       "\n",
       "  if (typeof root._bokeh_onload_callbacks === \"undefined\" || force === true) {\n",
       "    root._bokeh_onload_callbacks = [];\n",
       "    root._bokeh_is_loading = undefined;\n",
       "  }\n",
       "\n",
       "const JS_MIME_TYPE = 'application/javascript';\n",
       "  const HTML_MIME_TYPE = 'text/html';\n",
       "  const EXEC_MIME_TYPE = 'application/vnd.bokehjs_exec.v0+json';\n",
       "  const CLASS_NAME = 'output_bokeh rendered_html';\n",
       "\n",
       "  /**\n",
       "   * Render data to the DOM node\n",
       "   */\n",
       "  function render(props, node) {\n",
       "    const script = document.createElement(\"script\");\n",
       "    node.appendChild(script);\n",
       "  }\n",
       "\n",
       "  /**\n",
       "   * Handle when an output is cleared or removed\n",
       "   */\n",
       "  function handleClearOutput(event, handle) {\n",
       "    function drop(id) {\n",
       "      const view = Bokeh.index.get_by_id(id)\n",
       "      if (view != null) {\n",
       "        view.model.document.clear()\n",
       "        Bokeh.index.delete(view)\n",
       "      }\n",
       "    }\n",
       "\n",
       "    const cell = handle.cell;\n",
       "\n",
       "    const id = cell.output_area._bokeh_element_id;\n",
       "    const server_id = cell.output_area._bokeh_server_id;\n",
       "\n",
       "    // Clean up Bokeh references\n",
       "    if (id != null) {\n",
       "      drop(id)\n",
       "    }\n",
       "\n",
       "    if (server_id !== undefined) {\n",
       "      // Clean up Bokeh references\n",
       "      const cmd_clean = \"from bokeh.io.state import curstate; print(curstate().uuid_to_server['\" + server_id + \"'].get_sessions()[0].document.roots[0]._id)\";\n",
       "      cell.notebook.kernel.execute(cmd_clean, {\n",
       "        iopub: {\n",
       "          output: function(msg) {\n",
       "            const id = msg.content.text.trim()\n",
       "            drop(id)\n",
       "          }\n",
       "        }\n",
       "      });\n",
       "      // Destroy server and session\n",
       "      const cmd_destroy = \"import bokeh.io.notebook as ion; ion.destroy_server('\" + server_id + \"')\";\n",
       "      cell.notebook.kernel.execute(cmd_destroy);\n",
       "    }\n",
       "  }\n",
       "\n",
       "  /**\n",
       "   * Handle when a new output is added\n",
       "   */\n",
       "  function handleAddOutput(event, handle) {\n",
       "    const output_area = handle.output_area;\n",
       "    const output = handle.output;\n",
       "\n",
       "    // limit handleAddOutput to display_data with EXEC_MIME_TYPE content only\n",
       "    if ((output.output_type != \"display_data\") || (!Object.prototype.hasOwnProperty.call(output.data, EXEC_MIME_TYPE))) {\n",
       "      return\n",
       "    }\n",
       "\n",
       "    const toinsert = output_area.element.find(\".\" + CLASS_NAME.split(' ')[0]);\n",
       "\n",
       "    if (output.metadata[EXEC_MIME_TYPE][\"id\"] !== undefined) {\n",
       "      toinsert[toinsert.length - 1].firstChild.textContent = output.data[JS_MIME_TYPE];\n",
       "      // store reference to embed id on output_area\n",
       "      output_area._bokeh_element_id = output.metadata[EXEC_MIME_TYPE][\"id\"];\n",
       "    }\n",
       "    if (output.metadata[EXEC_MIME_TYPE][\"server_id\"] !== undefined) {\n",
       "      const bk_div = document.createElement(\"div\");\n",
       "      bk_div.innerHTML = output.data[HTML_MIME_TYPE];\n",
       "      const script_attrs = bk_div.children[0].attributes;\n",
       "      for (let i = 0; i < script_attrs.length; i++) {\n",
       "        toinsert[toinsert.length - 1].firstChild.setAttribute(script_attrs[i].name, script_attrs[i].value);\n",
       "        toinsert[toinsert.length - 1].firstChild.textContent = bk_div.children[0].textContent\n",
       "      }\n",
       "      // store reference to server id on output_area\n",
       "      output_area._bokeh_server_id = output.metadata[EXEC_MIME_TYPE][\"server_id\"];\n",
       "    }\n",
       "  }\n",
       "\n",
       "  function register_renderer(events, OutputArea) {\n",
       "\n",
       "    function append_mime(data, metadata, element) {\n",
       "      // create a DOM node to render to\n",
       "      const toinsert = this.create_output_subarea(\n",
       "        metadata,\n",
       "        CLASS_NAME,\n",
       "        EXEC_MIME_TYPE\n",
       "      );\n",
       "      this.keyboard_manager.register_events(toinsert);\n",
       "      // Render to node\n",
       "      const props = {data: data, metadata: metadata[EXEC_MIME_TYPE]};\n",
       "      render(props, toinsert[toinsert.length - 1]);\n",
       "      element.append(toinsert);\n",
       "      return toinsert\n",
       "    }\n",
       "\n",
       "    /* Handle when an output is cleared or removed */\n",
       "    events.on('clear_output.CodeCell', handleClearOutput);\n",
       "    events.on('delete.Cell', handleClearOutput);\n",
       "\n",
       "    /* Handle when a new output is added */\n",
       "    events.on('output_added.OutputArea', handleAddOutput);\n",
       "\n",
       "    /**\n",
       "     * Register the mime type and append_mime function with output_area\n",
       "     */\n",
       "    OutputArea.prototype.register_mime_type(EXEC_MIME_TYPE, append_mime, {\n",
       "      /* Is output safe? */\n",
       "      safe: true,\n",
       "      /* Index of renderer in `output_area.display_order` */\n",
       "      index: 0\n",
       "    });\n",
       "  }\n",
       "\n",
       "  // register the mime type if in Jupyter Notebook environment and previously unregistered\n",
       "  if (root.Jupyter !== undefined) {\n",
       "    const events = require('base/js/events');\n",
       "    const OutputArea = require('notebook/js/outputarea').OutputArea;\n",
       "\n",
       "    if (OutputArea.prototype.mime_types().indexOf(EXEC_MIME_TYPE) == -1) {\n",
       "      register_renderer(events, OutputArea);\n",
       "    }\n",
       "  }\n",
       "  if (typeof (root._bokeh_timeout) === \"undefined\" || force === true) {\n",
       "    root._bokeh_timeout = Date.now() + 5000;\n",
       "    root._bokeh_failed_load = false;\n",
       "  }\n",
       "\n",
       "  const NB_LOAD_WARNING = {'data': {'text/html':\n",
       "     \"<div style='background-color: #fdd'>\\n\"+\n",
       "     \"<p>\\n\"+\n",
       "     \"BokehJS does not appear to have successfully loaded. If loading BokehJS from CDN, this \\n\"+\n",
       "     \"may be due to a slow or bad network connection. Possible fixes:\\n\"+\n",
       "     \"</p>\\n\"+\n",
       "     \"<ul>\\n\"+\n",
       "     \"<li>re-rerun `output_notebook()` to attempt to load from CDN again, or</li>\\n\"+\n",
       "     \"<li>use INLINE resources instead, as so:</li>\\n\"+\n",
       "     \"</ul>\\n\"+\n",
       "     \"<code>\\n\"+\n",
       "     \"from bokeh.resources import INLINE\\n\"+\n",
       "     \"output_notebook(resources=INLINE)\\n\"+\n",
       "     \"</code>\\n\"+\n",
       "     \"</div>\"}};\n",
       "\n",
       "  function display_loaded() {\n",
       "    const el = document.getElementById(\"a6b41b51-162a-4c3d-a1d2-ab4bf60f9ff1\");\n",
       "    if (el != null) {\n",
       "      el.textContent = \"BokehJS is loading...\";\n",
       "    }\n",
       "    if (root.Bokeh !== undefined) {\n",
       "      if (el != null) {\n",
       "        el.textContent = \"BokehJS \" + root.Bokeh.version + \" successfully loaded.\";\n",
       "      }\n",
       "    } else if (Date.now() < root._bokeh_timeout) {\n",
       "      setTimeout(display_loaded, 100)\n",
       "    }\n",
       "  }\n",
       "\n",
       "  function run_callbacks() {\n",
       "    try {\n",
       "      root._bokeh_onload_callbacks.forEach(function(callback) {\n",
       "        if (callback != null)\n",
       "          callback();\n",
       "      });\n",
       "    } finally {\n",
       "      delete root._bokeh_onload_callbacks\n",
       "    }\n",
       "    console.debug(\"Bokeh: all callbacks have finished\");\n",
       "  }\n",
       "\n",
       "  function load_libs(css_urls, js_urls, callback) {\n",
       "    if (css_urls == null) css_urls = [];\n",
       "    if (js_urls == null) js_urls = [];\n",
       "\n",
       "    root._bokeh_onload_callbacks.push(callback);\n",
       "    if (root._bokeh_is_loading > 0) {\n",
       "      console.debug(\"Bokeh: BokehJS is being loaded, scheduling callback at\", now());\n",
       "      return null;\n",
       "    }\n",
       "    if (js_urls == null || js_urls.length === 0) {\n",
       "      run_callbacks();\n",
       "      return null;\n",
       "    }\n",
       "    console.debug(\"Bokeh: BokehJS not loaded, scheduling load and callback at\", now());\n",
       "    root._bokeh_is_loading = css_urls.length + js_urls.length;\n",
       "\n",
       "    function on_load() {\n",
       "      root._bokeh_is_loading--;\n",
       "      if (root._bokeh_is_loading === 0) {\n",
       "        console.debug(\"Bokeh: all BokehJS libraries/stylesheets loaded\");\n",
       "        run_callbacks()\n",
       "      }\n",
       "    }\n",
       "\n",
       "    function on_error(url) {\n",
       "      console.error(\"failed to load \" + url);\n",
       "    }\n",
       "\n",
       "    for (let i = 0; i < css_urls.length; i++) {\n",
       "      const url = css_urls[i];\n",
       "      const element = document.createElement(\"link\");\n",
       "      element.onload = on_load;\n",
       "      element.onerror = on_error.bind(null, url);\n",
       "      element.rel = \"stylesheet\";\n",
       "      element.type = \"text/css\";\n",
       "      element.href = url;\n",
       "      console.debug(\"Bokeh: injecting link tag for BokehJS stylesheet: \", url);\n",
       "      document.body.appendChild(element);\n",
       "    }\n",
       "\n",
       "    for (let i = 0; i < js_urls.length; i++) {\n",
       "      const url = js_urls[i];\n",
       "      const element = document.createElement('script');\n",
       "      element.onload = on_load;\n",
       "      element.onerror = on_error.bind(null, url);\n",
       "      element.async = false;\n",
       "      element.src = url;\n",
       "      console.debug(\"Bokeh: injecting script tag for BokehJS library: \", url);\n",
       "      document.head.appendChild(element);\n",
       "    }\n",
       "  };\n",
       "\n",
       "  function inject_raw_css(css) {\n",
       "    const element = document.createElement(\"style\");\n",
       "    element.appendChild(document.createTextNode(css));\n",
       "    document.body.appendChild(element);\n",
       "  }\n",
       "\n",
       "  const js_urls = [\"https://cdn.bokeh.org/bokeh/release/bokeh-3.3.4.min.js\", \"https://cdn.bokeh.org/bokeh/release/bokeh-gl-3.3.4.min.js\", \"https://cdn.bokeh.org/bokeh/release/bokeh-widgets-3.3.4.min.js\", \"https://cdn.bokeh.org/bokeh/release/bokeh-tables-3.3.4.min.js\", \"https://cdn.bokeh.org/bokeh/release/bokeh-mathjax-3.3.4.min.js\"];\n",
       "  const css_urls = [];\n",
       "\n",
       "  const inline_js = [    function(Bokeh) {\n",
       "      Bokeh.set_log_level(\"info\");\n",
       "    },\n",
       "function(Bokeh) {\n",
       "    }\n",
       "  ];\n",
       "\n",
       "  function run_inline_js() {\n",
       "    if (root.Bokeh !== undefined || force === true) {\n",
       "          for (let i = 0; i < inline_js.length; i++) {\n",
       "      inline_js[i].call(root, root.Bokeh);\n",
       "    }\n",
       "if (force === true) {\n",
       "        display_loaded();\n",
       "      }} else if (Date.now() < root._bokeh_timeout) {\n",
       "      setTimeout(run_inline_js, 100);\n",
       "    } else if (!root._bokeh_failed_load) {\n",
       "      console.log(\"Bokeh: BokehJS failed to load within specified timeout.\");\n",
       "      root._bokeh_failed_load = true;\n",
       "    } else if (force !== true) {\n",
       "      const cell = $(document.getElementById(\"a6b41b51-162a-4c3d-a1d2-ab4bf60f9ff1\")).parents('.cell').data().cell;\n",
       "      cell.output_area.append_execute_result(NB_LOAD_WARNING)\n",
       "    }\n",
       "  }\n",
       "\n",
       "  if (root._bokeh_is_loading === 0) {\n",
       "    console.debug(\"Bokeh: BokehJS loaded, going straight to plotting\");\n",
       "    run_inline_js();\n",
       "  } else {\n",
       "    load_libs(css_urls, js_urls, function() {\n",
       "      console.debug(\"Bokeh: BokehJS plotting callback run at\", now());\n",
       "      run_inline_js();\n",
       "    });\n",
       "  }\n",
       "}(window));"
      ],
      "application/vnd.bokehjs_load.v0+json": "(function(root) {\n  function now() {\n    return new Date();\n  }\n\n  const force = true;\n\n  if (typeof root._bokeh_onload_callbacks === \"undefined\" || force === true) {\n    root._bokeh_onload_callbacks = [];\n    root._bokeh_is_loading = undefined;\n  }\n\n\n  if (typeof (root._bokeh_timeout) === \"undefined\" || force === true) {\n    root._bokeh_timeout = Date.now() + 5000;\n    root._bokeh_failed_load = false;\n  }\n\n  const NB_LOAD_WARNING = {'data': {'text/html':\n     \"<div style='background-color: #fdd'>\\n\"+\n     \"<p>\\n\"+\n     \"BokehJS does not appear to have successfully loaded. If loading BokehJS from CDN, this \\n\"+\n     \"may be due to a slow or bad network connection. Possible fixes:\\n\"+\n     \"</p>\\n\"+\n     \"<ul>\\n\"+\n     \"<li>re-rerun `output_notebook()` to attempt to load from CDN again, or</li>\\n\"+\n     \"<li>use INLINE resources instead, as so:</li>\\n\"+\n     \"</ul>\\n\"+\n     \"<code>\\n\"+\n     \"from bokeh.resources import INLINE\\n\"+\n     \"output_notebook(resources=INLINE)\\n\"+\n     \"</code>\\n\"+\n     \"</div>\"}};\n\n  function display_loaded() {\n    const el = document.getElementById(\"a6b41b51-162a-4c3d-a1d2-ab4bf60f9ff1\");\n    if (el != null) {\n      el.textContent = \"BokehJS is loading...\";\n    }\n    if (root.Bokeh !== undefined) {\n      if (el != null) {\n        el.textContent = \"BokehJS \" + root.Bokeh.version + \" successfully loaded.\";\n      }\n    } else if (Date.now() < root._bokeh_timeout) {\n      setTimeout(display_loaded, 100)\n    }\n  }\n\n  function run_callbacks() {\n    try {\n      root._bokeh_onload_callbacks.forEach(function(callback) {\n        if (callback != null)\n          callback();\n      });\n    } finally {\n      delete root._bokeh_onload_callbacks\n    }\n    console.debug(\"Bokeh: all callbacks have finished\");\n  }\n\n  function load_libs(css_urls, js_urls, callback) {\n    if (css_urls == null) css_urls = [];\n    if (js_urls == null) js_urls = [];\n\n    root._bokeh_onload_callbacks.push(callback);\n    if (root._bokeh_is_loading > 0) {\n      console.debug(\"Bokeh: BokehJS is being loaded, scheduling callback at\", now());\n      return null;\n    }\n    if (js_urls == null || js_urls.length === 0) {\n      run_callbacks();\n      return null;\n    }\n    console.debug(\"Bokeh: BokehJS not loaded, scheduling load and callback at\", now());\n    root._bokeh_is_loading = css_urls.length + js_urls.length;\n\n    function on_load() {\n      root._bokeh_is_loading--;\n      if (root._bokeh_is_loading === 0) {\n        console.debug(\"Bokeh: all BokehJS libraries/stylesheets loaded\");\n        run_callbacks()\n      }\n    }\n\n    function on_error(url) {\n      console.error(\"failed to load \" + url);\n    }\n\n    for (let i = 0; i < css_urls.length; i++) {\n      const url = css_urls[i];\n      const element = document.createElement(\"link\");\n      element.onload = on_load;\n      element.onerror = on_error.bind(null, url);\n      element.rel = \"stylesheet\";\n      element.type = \"text/css\";\n      element.href = url;\n      console.debug(\"Bokeh: injecting link tag for BokehJS stylesheet: \", url);\n      document.body.appendChild(element);\n    }\n\n    for (let i = 0; i < js_urls.length; i++) {\n      const url = js_urls[i];\n      const element = document.createElement('script');\n      element.onload = on_load;\n      element.onerror = on_error.bind(null, url);\n      element.async = false;\n      element.src = url;\n      console.debug(\"Bokeh: injecting script tag for BokehJS library: \", url);\n      document.head.appendChild(element);\n    }\n  };\n\n  function inject_raw_css(css) {\n    const element = document.createElement(\"style\");\n    element.appendChild(document.createTextNode(css));\n    document.body.appendChild(element);\n  }\n\n  const js_urls = [\"https://cdn.bokeh.org/bokeh/release/bokeh-3.3.4.min.js\", \"https://cdn.bokeh.org/bokeh/release/bokeh-gl-3.3.4.min.js\", \"https://cdn.bokeh.org/bokeh/release/bokeh-widgets-3.3.4.min.js\", \"https://cdn.bokeh.org/bokeh/release/bokeh-tables-3.3.4.min.js\", \"https://cdn.bokeh.org/bokeh/release/bokeh-mathjax-3.3.4.min.js\"];\n  const css_urls = [];\n\n  const inline_js = [    function(Bokeh) {\n      Bokeh.set_log_level(\"info\");\n    },\nfunction(Bokeh) {\n    }\n  ];\n\n  function run_inline_js() {\n    if (root.Bokeh !== undefined || force === true) {\n          for (let i = 0; i < inline_js.length; i++) {\n      inline_js[i].call(root, root.Bokeh);\n    }\nif (force === true) {\n        display_loaded();\n      }} else if (Date.now() < root._bokeh_timeout) {\n      setTimeout(run_inline_js, 100);\n    } else if (!root._bokeh_failed_load) {\n      console.log(\"Bokeh: BokehJS failed to load within specified timeout.\");\n      root._bokeh_failed_load = true;\n    } else if (force !== true) {\n      const cell = $(document.getElementById(\"a6b41b51-162a-4c3d-a1d2-ab4bf60f9ff1\")).parents('.cell').data().cell;\n      cell.output_area.append_execute_result(NB_LOAD_WARNING)\n    }\n  }\n\n  if (root._bokeh_is_loading === 0) {\n    console.debug(\"Bokeh: BokehJS loaded, going straight to plotting\");\n    run_inline_js();\n  } else {\n    load_libs(css_urls, js_urls, function() {\n      console.debug(\"Bokeh: BokehJS plotting callback run at\", now());\n      run_inline_js();\n    });\n  }\n}(window));"
     },
     "metadata": {},
     "output_type": "display_data"
    }
   ],
   "source": [
    "from bokeh.plotting import figure, show\n",
    "from bokeh.io import output_notebook\n",
    "output_notebook()"
   ]
  },
  {
   "cell_type": "code",
   "execution_count": 272,
   "id": "5448c9ec-3348-48d3-8cdf-1bb6c85db2d8",
   "metadata": {},
   "outputs": [],
   "source": [
    "def plot_vals(vals, name, thr = 1):\n",
    "    vals =pd.DataFrame(vals)[0].value_counts()\n",
    "    vals = dict(vals[vals>thr])\n",
    "    output_notebook()\n",
    "    fruits = list(vals.keys())\n",
    "    counts = list(vals.values())\n",
    "    \n",
    "    p = figure(x_range=fruits, height=350, width=1900, title=name,\n",
    "               toolbar_location=None, tools=\"\")\n",
    "    \n",
    "    p.vbar(x=fruits, top=counts, width=0.9)\n",
    "    \n",
    "    p.xgrid.grid_line_color = None\n",
    "    p.y_range.start = 0\n",
    "    \n",
    "    show(p)"
   ]
  },
  {
   "cell_type": "markdown",
   "id": "0c915ef5-66d4-4351-a9b7-3cbdb8cac3a6",
   "metadata": {},
   "source": [
    "Should have made the dataset better to specify, what type of furniture it is, if not assign other label to"
   ]
  },
  {
   "cell_type": "code",
   "execution_count": 273,
   "id": "a0a2ff89-5373-43ac-9486-0467dc1912c9",
   "metadata": {},
   "outputs": [
    {
     "data": {
      "text/html": [
       "    <style>\n",
       "        .bk-notebook-logo {\n",
       "            display: block;\n",
       "            width: 20px;\n",
       "            height: 20px;\n",
       "            background-image: url(data:image/png;base64,iVBORw0KGgoAAAANSUhEUgAAABQAAAAUCAYAAACNiR0NAAAABHNCSVQICAgIfAhkiAAAAAlwSFlzAAALEgAACxIB0t1+/AAAABx0RVh0U29mdHdhcmUAQWRvYmUgRmlyZXdvcmtzIENTNui8sowAAAOkSURBVDiNjZRtaJVlGMd/1/08zzln5zjP1LWcU9N0NkN8m2CYjpgQYQXqSs0I84OLIC0hkEKoPtiH3gmKoiJDU7QpLgoLjLIQCpEsNJ1vqUOdO7ppbuec5+V+rj4ctwzd8IIbbi6u+8f1539dt3A78eXC7QizUF7gyV1fD1Yqg4JWz84yffhm0qkFqBogB9rM8tZdtwVsPUhWhGcFJngGeWrPzHm5oaMmkfEg1usvLFyc8jLRqDOMru7AyC8saQr7GG7f5fvDeH7Ej8CM66nIF+8yngt6HWaKh7k49Soy9nXurCi1o3qUbS3zWfrYeQDTB/Qj6kX6Ybhw4B+bOYoLKCC9H3Nu/leUTZ1JdRWkkn2ldcCamzrcf47KKXdAJllSlxAOkRgyHsGC/zRday5Qld9DyoM4/q/rUoy/CXh3jzOu3bHUVZeU+DEn8FInkPBFlu3+nW3Nw0mk6vCDiWg8CeJaxEwuHS3+z5RgY+YBR6V1Z1nxSOfoaPa4LASWxxdNp+VWTk7+4vzaou8v8PN+xo+KY2xsw6une2frhw05CTYOmQvsEhjhWjn0bmXPjpE1+kplmmkP3suftwTubK9Vq22qKmrBhpY4jvd5afdRA3wGjFAgcnTK2s4hY0/GPNIb0nErGMCRxWOOX64Z8RAC4oCXdklmEvcL8o0BfkNK4lUg9HTl+oPlQxdNo3Mg4Nv175e/1LDGzZen30MEjRUtmXSfiTVu1kK8W4txyV6BMKlbgk3lMwYCiusNy9fVfvvwMxv8Ynl6vxoByANLTWplvuj/nF9m2+PDtt1eiHPBr1oIfhCChQMBw6Aw0UulqTKZdfVvfG7VcfIqLG9bcldL/+pdWTLxLUy8Qq38heUIjh4XlzZxzQm19lLFlr8vdQ97rjZVOLf8nclzckbcD4wxXMidpX30sFd37Fv/GtwwhzhxGVAprjbg0gCAEeIgwCZyTV2Z1REEW8O4py0wsjeloKoMr6iCY6dP92H6Vw/oTyICIthibxjm/DfN9lVz8IqtqKYLUXfoKVMVQVVJOElGjrnnUt9T9wbgp8AyYKaGlqingHZU/uG2NTZSVqwHQTWkx9hxjkpWDaCg6Ckj5qebgBVbT3V3NNXMSiWSDdGV3hrtzla7J+duwPOToIg42ChPQOQjspnSlp1V+Gjdged7+8UN5CRAV7a5EdFNwCjEaBR27b3W890TE7g24NAP/mMDXRWrGoFPQI9ls/MWO2dWFAar/xcOIImbbpA3zgAAAABJRU5ErkJggg==);\n",
       "        }\n",
       "    </style>\n",
       "    <div>\n",
       "        <a href=\"https://bokeh.org\" target=\"_blank\" class=\"bk-notebook-logo\"></a>\n",
       "        <span id=\"efd37421-7540-4318-83f8-a7a2ccf512a7\">Loading BokehJS ...</span>\n",
       "    </div>\n"
      ]
     },
     "metadata": {},
     "output_type": "display_data"
    },
    {
     "data": {
      "application/javascript": [
       "(function(root) {\n",
       "  function now() {\n",
       "    return new Date();\n",
       "  }\n",
       "\n",
       "  const force = true;\n",
       "\n",
       "  if (typeof root._bokeh_onload_callbacks === \"undefined\" || force === true) {\n",
       "    root._bokeh_onload_callbacks = [];\n",
       "    root._bokeh_is_loading = undefined;\n",
       "  }\n",
       "\n",
       "const JS_MIME_TYPE = 'application/javascript';\n",
       "  const HTML_MIME_TYPE = 'text/html';\n",
       "  const EXEC_MIME_TYPE = 'application/vnd.bokehjs_exec.v0+json';\n",
       "  const CLASS_NAME = 'output_bokeh rendered_html';\n",
       "\n",
       "  /**\n",
       "   * Render data to the DOM node\n",
       "   */\n",
       "  function render(props, node) {\n",
       "    const script = document.createElement(\"script\");\n",
       "    node.appendChild(script);\n",
       "  }\n",
       "\n",
       "  /**\n",
       "   * Handle when an output is cleared or removed\n",
       "   */\n",
       "  function handleClearOutput(event, handle) {\n",
       "    function drop(id) {\n",
       "      const view = Bokeh.index.get_by_id(id)\n",
       "      if (view != null) {\n",
       "        view.model.document.clear()\n",
       "        Bokeh.index.delete(view)\n",
       "      }\n",
       "    }\n",
       "\n",
       "    const cell = handle.cell;\n",
       "\n",
       "    const id = cell.output_area._bokeh_element_id;\n",
       "    const server_id = cell.output_area._bokeh_server_id;\n",
       "\n",
       "    // Clean up Bokeh references\n",
       "    if (id != null) {\n",
       "      drop(id)\n",
       "    }\n",
       "\n",
       "    if (server_id !== undefined) {\n",
       "      // Clean up Bokeh references\n",
       "      const cmd_clean = \"from bokeh.io.state import curstate; print(curstate().uuid_to_server['\" + server_id + \"'].get_sessions()[0].document.roots[0]._id)\";\n",
       "      cell.notebook.kernel.execute(cmd_clean, {\n",
       "        iopub: {\n",
       "          output: function(msg) {\n",
       "            const id = msg.content.text.trim()\n",
       "            drop(id)\n",
       "          }\n",
       "        }\n",
       "      });\n",
       "      // Destroy server and session\n",
       "      const cmd_destroy = \"import bokeh.io.notebook as ion; ion.destroy_server('\" + server_id + \"')\";\n",
       "      cell.notebook.kernel.execute(cmd_destroy);\n",
       "    }\n",
       "  }\n",
       "\n",
       "  /**\n",
       "   * Handle when a new output is added\n",
       "   */\n",
       "  function handleAddOutput(event, handle) {\n",
       "    const output_area = handle.output_area;\n",
       "    const output = handle.output;\n",
       "\n",
       "    // limit handleAddOutput to display_data with EXEC_MIME_TYPE content only\n",
       "    if ((output.output_type != \"display_data\") || (!Object.prototype.hasOwnProperty.call(output.data, EXEC_MIME_TYPE))) {\n",
       "      return\n",
       "    }\n",
       "\n",
       "    const toinsert = output_area.element.find(\".\" + CLASS_NAME.split(' ')[0]);\n",
       "\n",
       "    if (output.metadata[EXEC_MIME_TYPE][\"id\"] !== undefined) {\n",
       "      toinsert[toinsert.length - 1].firstChild.textContent = output.data[JS_MIME_TYPE];\n",
       "      // store reference to embed id on output_area\n",
       "      output_area._bokeh_element_id = output.metadata[EXEC_MIME_TYPE][\"id\"];\n",
       "    }\n",
       "    if (output.metadata[EXEC_MIME_TYPE][\"server_id\"] !== undefined) {\n",
       "      const bk_div = document.createElement(\"div\");\n",
       "      bk_div.innerHTML = output.data[HTML_MIME_TYPE];\n",
       "      const script_attrs = bk_div.children[0].attributes;\n",
       "      for (let i = 0; i < script_attrs.length; i++) {\n",
       "        toinsert[toinsert.length - 1].firstChild.setAttribute(script_attrs[i].name, script_attrs[i].value);\n",
       "        toinsert[toinsert.length - 1].firstChild.textContent = bk_div.children[0].textContent\n",
       "      }\n",
       "      // store reference to server id on output_area\n",
       "      output_area._bokeh_server_id = output.metadata[EXEC_MIME_TYPE][\"server_id\"];\n",
       "    }\n",
       "  }\n",
       "\n",
       "  function register_renderer(events, OutputArea) {\n",
       "\n",
       "    function append_mime(data, metadata, element) {\n",
       "      // create a DOM node to render to\n",
       "      const toinsert = this.create_output_subarea(\n",
       "        metadata,\n",
       "        CLASS_NAME,\n",
       "        EXEC_MIME_TYPE\n",
       "      );\n",
       "      this.keyboard_manager.register_events(toinsert);\n",
       "      // Render to node\n",
       "      const props = {data: data, metadata: metadata[EXEC_MIME_TYPE]};\n",
       "      render(props, toinsert[toinsert.length - 1]);\n",
       "      element.append(toinsert);\n",
       "      return toinsert\n",
       "    }\n",
       "\n",
       "    /* Handle when an output is cleared or removed */\n",
       "    events.on('clear_output.CodeCell', handleClearOutput);\n",
       "    events.on('delete.Cell', handleClearOutput);\n",
       "\n",
       "    /* Handle when a new output is added */\n",
       "    events.on('output_added.OutputArea', handleAddOutput);\n",
       "\n",
       "    /**\n",
       "     * Register the mime type and append_mime function with output_area\n",
       "     */\n",
       "    OutputArea.prototype.register_mime_type(EXEC_MIME_TYPE, append_mime, {\n",
       "      /* Is output safe? */\n",
       "      safe: true,\n",
       "      /* Index of renderer in `output_area.display_order` */\n",
       "      index: 0\n",
       "    });\n",
       "  }\n",
       "\n",
       "  // register the mime type if in Jupyter Notebook environment and previously unregistered\n",
       "  if (root.Jupyter !== undefined) {\n",
       "    const events = require('base/js/events');\n",
       "    const OutputArea = require('notebook/js/outputarea').OutputArea;\n",
       "\n",
       "    if (OutputArea.prototype.mime_types().indexOf(EXEC_MIME_TYPE) == -1) {\n",
       "      register_renderer(events, OutputArea);\n",
       "    }\n",
       "  }\n",
       "  if (typeof (root._bokeh_timeout) === \"undefined\" || force === true) {\n",
       "    root._bokeh_timeout = Date.now() + 5000;\n",
       "    root._bokeh_failed_load = false;\n",
       "  }\n",
       "\n",
       "  const NB_LOAD_WARNING = {'data': {'text/html':\n",
       "     \"<div style='background-color: #fdd'>\\n\"+\n",
       "     \"<p>\\n\"+\n",
       "     \"BokehJS does not appear to have successfully loaded. If loading BokehJS from CDN, this \\n\"+\n",
       "     \"may be due to a slow or bad network connection. Possible fixes:\\n\"+\n",
       "     \"</p>\\n\"+\n",
       "     \"<ul>\\n\"+\n",
       "     \"<li>re-rerun `output_notebook()` to attempt to load from CDN again, or</li>\\n\"+\n",
       "     \"<li>use INLINE resources instead, as so:</li>\\n\"+\n",
       "     \"</ul>\\n\"+\n",
       "     \"<code>\\n\"+\n",
       "     \"from bokeh.resources import INLINE\\n\"+\n",
       "     \"output_notebook(resources=INLINE)\\n\"+\n",
       "     \"</code>\\n\"+\n",
       "     \"</div>\"}};\n",
       "\n",
       "  function display_loaded() {\n",
       "    const el = document.getElementById(\"efd37421-7540-4318-83f8-a7a2ccf512a7\");\n",
       "    if (el != null) {\n",
       "      el.textContent = \"BokehJS is loading...\";\n",
       "    }\n",
       "    if (root.Bokeh !== undefined) {\n",
       "      if (el != null) {\n",
       "        el.textContent = \"BokehJS \" + root.Bokeh.version + \" successfully loaded.\";\n",
       "      }\n",
       "    } else if (Date.now() < root._bokeh_timeout) {\n",
       "      setTimeout(display_loaded, 100)\n",
       "    }\n",
       "  }\n",
       "\n",
       "  function run_callbacks() {\n",
       "    try {\n",
       "      root._bokeh_onload_callbacks.forEach(function(callback) {\n",
       "        if (callback != null)\n",
       "          callback();\n",
       "      });\n",
       "    } finally {\n",
       "      delete root._bokeh_onload_callbacks\n",
       "    }\n",
       "    console.debug(\"Bokeh: all callbacks have finished\");\n",
       "  }\n",
       "\n",
       "  function load_libs(css_urls, js_urls, callback) {\n",
       "    if (css_urls == null) css_urls = [];\n",
       "    if (js_urls == null) js_urls = [];\n",
       "\n",
       "    root._bokeh_onload_callbacks.push(callback);\n",
       "    if (root._bokeh_is_loading > 0) {\n",
       "      console.debug(\"Bokeh: BokehJS is being loaded, scheduling callback at\", now());\n",
       "      return null;\n",
       "    }\n",
       "    if (js_urls == null || js_urls.length === 0) {\n",
       "      run_callbacks();\n",
       "      return null;\n",
       "    }\n",
       "    console.debug(\"Bokeh: BokehJS not loaded, scheduling load and callback at\", now());\n",
       "    root._bokeh_is_loading = css_urls.length + js_urls.length;\n",
       "\n",
       "    function on_load() {\n",
       "      root._bokeh_is_loading--;\n",
       "      if (root._bokeh_is_loading === 0) {\n",
       "        console.debug(\"Bokeh: all BokehJS libraries/stylesheets loaded\");\n",
       "        run_callbacks()\n",
       "      }\n",
       "    }\n",
       "\n",
       "    function on_error(url) {\n",
       "      console.error(\"failed to load \" + url);\n",
       "    }\n",
       "\n",
       "    for (let i = 0; i < css_urls.length; i++) {\n",
       "      const url = css_urls[i];\n",
       "      const element = document.createElement(\"link\");\n",
       "      element.onload = on_load;\n",
       "      element.onerror = on_error.bind(null, url);\n",
       "      element.rel = \"stylesheet\";\n",
       "      element.type = \"text/css\";\n",
       "      element.href = url;\n",
       "      console.debug(\"Bokeh: injecting link tag for BokehJS stylesheet: \", url);\n",
       "      document.body.appendChild(element);\n",
       "    }\n",
       "\n",
       "    for (let i = 0; i < js_urls.length; i++) {\n",
       "      const url = js_urls[i];\n",
       "      const element = document.createElement('script');\n",
       "      element.onload = on_load;\n",
       "      element.onerror = on_error.bind(null, url);\n",
       "      element.async = false;\n",
       "      element.src = url;\n",
       "      console.debug(\"Bokeh: injecting script tag for BokehJS library: \", url);\n",
       "      document.head.appendChild(element);\n",
       "    }\n",
       "  };\n",
       "\n",
       "  function inject_raw_css(css) {\n",
       "    const element = document.createElement(\"style\");\n",
       "    element.appendChild(document.createTextNode(css));\n",
       "    document.body.appendChild(element);\n",
       "  }\n",
       "\n",
       "  const js_urls = [\"https://cdn.bokeh.org/bokeh/release/bokeh-3.3.4.min.js\", \"https://cdn.bokeh.org/bokeh/release/bokeh-gl-3.3.4.min.js\", \"https://cdn.bokeh.org/bokeh/release/bokeh-widgets-3.3.4.min.js\", \"https://cdn.bokeh.org/bokeh/release/bokeh-tables-3.3.4.min.js\", \"https://cdn.bokeh.org/bokeh/release/bokeh-mathjax-3.3.4.min.js\"];\n",
       "  const css_urls = [];\n",
       "\n",
       "  const inline_js = [    function(Bokeh) {\n",
       "      Bokeh.set_log_level(\"info\");\n",
       "    },\n",
       "function(Bokeh) {\n",
       "    }\n",
       "  ];\n",
       "\n",
       "  function run_inline_js() {\n",
       "    if (root.Bokeh !== undefined || force === true) {\n",
       "          for (let i = 0; i < inline_js.length; i++) {\n",
       "      inline_js[i].call(root, root.Bokeh);\n",
       "    }\n",
       "if (force === true) {\n",
       "        display_loaded();\n",
       "      }} else if (Date.now() < root._bokeh_timeout) {\n",
       "      setTimeout(run_inline_js, 100);\n",
       "    } else if (!root._bokeh_failed_load) {\n",
       "      console.log(\"Bokeh: BokehJS failed to load within specified timeout.\");\n",
       "      root._bokeh_failed_load = true;\n",
       "    } else if (force !== true) {\n",
       "      const cell = $(document.getElementById(\"efd37421-7540-4318-83f8-a7a2ccf512a7\")).parents('.cell').data().cell;\n",
       "      cell.output_area.append_execute_result(NB_LOAD_WARNING)\n",
       "    }\n",
       "  }\n",
       "\n",
       "  if (root._bokeh_is_loading === 0) {\n",
       "    console.debug(\"Bokeh: BokehJS loaded, going straight to plotting\");\n",
       "    run_inline_js();\n",
       "  } else {\n",
       "    load_libs(css_urls, js_urls, function() {\n",
       "      console.debug(\"Bokeh: BokehJS plotting callback run at\", now());\n",
       "      run_inline_js();\n",
       "    });\n",
       "  }\n",
       "}(window));"
      ],
      "application/vnd.bokehjs_load.v0+json": "(function(root) {\n  function now() {\n    return new Date();\n  }\n\n  const force = true;\n\n  if (typeof root._bokeh_onload_callbacks === \"undefined\" || force === true) {\n    root._bokeh_onload_callbacks = [];\n    root._bokeh_is_loading = undefined;\n  }\n\n\n  if (typeof (root._bokeh_timeout) === \"undefined\" || force === true) {\n    root._bokeh_timeout = Date.now() + 5000;\n    root._bokeh_failed_load = false;\n  }\n\n  const NB_LOAD_WARNING = {'data': {'text/html':\n     \"<div style='background-color: #fdd'>\\n\"+\n     \"<p>\\n\"+\n     \"BokehJS does not appear to have successfully loaded. If loading BokehJS from CDN, this \\n\"+\n     \"may be due to a slow or bad network connection. Possible fixes:\\n\"+\n     \"</p>\\n\"+\n     \"<ul>\\n\"+\n     \"<li>re-rerun `output_notebook()` to attempt to load from CDN again, or</li>\\n\"+\n     \"<li>use INLINE resources instead, as so:</li>\\n\"+\n     \"</ul>\\n\"+\n     \"<code>\\n\"+\n     \"from bokeh.resources import INLINE\\n\"+\n     \"output_notebook(resources=INLINE)\\n\"+\n     \"</code>\\n\"+\n     \"</div>\"}};\n\n  function display_loaded() {\n    const el = document.getElementById(\"efd37421-7540-4318-83f8-a7a2ccf512a7\");\n    if (el != null) {\n      el.textContent = \"BokehJS is loading...\";\n    }\n    if (root.Bokeh !== undefined) {\n      if (el != null) {\n        el.textContent = \"BokehJS \" + root.Bokeh.version + \" successfully loaded.\";\n      }\n    } else if (Date.now() < root._bokeh_timeout) {\n      setTimeout(display_loaded, 100)\n    }\n  }\n\n  function run_callbacks() {\n    try {\n      root._bokeh_onload_callbacks.forEach(function(callback) {\n        if (callback != null)\n          callback();\n      });\n    } finally {\n      delete root._bokeh_onload_callbacks\n    }\n    console.debug(\"Bokeh: all callbacks have finished\");\n  }\n\n  function load_libs(css_urls, js_urls, callback) {\n    if (css_urls == null) css_urls = [];\n    if (js_urls == null) js_urls = [];\n\n    root._bokeh_onload_callbacks.push(callback);\n    if (root._bokeh_is_loading > 0) {\n      console.debug(\"Bokeh: BokehJS is being loaded, scheduling callback at\", now());\n      return null;\n    }\n    if (js_urls == null || js_urls.length === 0) {\n      run_callbacks();\n      return null;\n    }\n    console.debug(\"Bokeh: BokehJS not loaded, scheduling load and callback at\", now());\n    root._bokeh_is_loading = css_urls.length + js_urls.length;\n\n    function on_load() {\n      root._bokeh_is_loading--;\n      if (root._bokeh_is_loading === 0) {\n        console.debug(\"Bokeh: all BokehJS libraries/stylesheets loaded\");\n        run_callbacks()\n      }\n    }\n\n    function on_error(url) {\n      console.error(\"failed to load \" + url);\n    }\n\n    for (let i = 0; i < css_urls.length; i++) {\n      const url = css_urls[i];\n      const element = document.createElement(\"link\");\n      element.onload = on_load;\n      element.onerror = on_error.bind(null, url);\n      element.rel = \"stylesheet\";\n      element.type = \"text/css\";\n      element.href = url;\n      console.debug(\"Bokeh: injecting link tag for BokehJS stylesheet: \", url);\n      document.body.appendChild(element);\n    }\n\n    for (let i = 0; i < js_urls.length; i++) {\n      const url = js_urls[i];\n      const element = document.createElement('script');\n      element.onload = on_load;\n      element.onerror = on_error.bind(null, url);\n      element.async = false;\n      element.src = url;\n      console.debug(\"Bokeh: injecting script tag for BokehJS library: \", url);\n      document.head.appendChild(element);\n    }\n  };\n\n  function inject_raw_css(css) {\n    const element = document.createElement(\"style\");\n    element.appendChild(document.createTextNode(css));\n    document.body.appendChild(element);\n  }\n\n  const js_urls = [\"https://cdn.bokeh.org/bokeh/release/bokeh-3.3.4.min.js\", \"https://cdn.bokeh.org/bokeh/release/bokeh-gl-3.3.4.min.js\", \"https://cdn.bokeh.org/bokeh/release/bokeh-widgets-3.3.4.min.js\", \"https://cdn.bokeh.org/bokeh/release/bokeh-tables-3.3.4.min.js\", \"https://cdn.bokeh.org/bokeh/release/bokeh-mathjax-3.3.4.min.js\"];\n  const css_urls = [];\n\n  const inline_js = [    function(Bokeh) {\n      Bokeh.set_log_level(\"info\");\n    },\nfunction(Bokeh) {\n    }\n  ];\n\n  function run_inline_js() {\n    if (root.Bokeh !== undefined || force === true) {\n          for (let i = 0; i < inline_js.length; i++) {\n      inline_js[i].call(root, root.Bokeh);\n    }\nif (force === true) {\n        display_loaded();\n      }} else if (Date.now() < root._bokeh_timeout) {\n      setTimeout(run_inline_js, 100);\n    } else if (!root._bokeh_failed_load) {\n      console.log(\"Bokeh: BokehJS failed to load within specified timeout.\");\n      root._bokeh_failed_load = true;\n    } else if (force !== true) {\n      const cell = $(document.getElementById(\"efd37421-7540-4318-83f8-a7a2ccf512a7\")).parents('.cell').data().cell;\n      cell.output_area.append_execute_result(NB_LOAD_WARNING)\n    }\n  }\n\n  if (root._bokeh_is_loading === 0) {\n    console.debug(\"Bokeh: BokehJS loaded, going straight to plotting\");\n    run_inline_js();\n  } else {\n    load_libs(css_urls, js_urls, function() {\n      console.debug(\"Bokeh: BokehJS plotting callback run at\", now());\n      run_inline_js();\n    });\n  }\n}(window));"
     },
     "metadata": {},
     "output_type": "display_data"
    },
    {
     "data": {
      "text/html": [
       "\n",
       "  <div id=\"e49a2e24-49e8-4dd7-bed5-a757a1a6d08c\" data-root-id=\"p2315\" style=\"display: contents;\"></div>\n"
      ]
     },
     "metadata": {},
     "output_type": "display_data"
    },
    {
     "data": {
      "application/javascript": [
       "(function(root) {\n",
       "  function embed_document(root) {\n",
       "  const docs_json = {\"65aaae52-4694-44bf-9b77-c44413957c8f\":{\"version\":\"3.3.4\",\"title\":\"Bokeh Application\",\"roots\":[{\"type\":\"object\",\"name\":\"Figure\",\"id\":\"p2315\",\"attributes\":{\"width\":1900,\"height\":350,\"x_range\":{\"type\":\"object\",\"name\":\"FactorRange\",\"id\":\"p2325\",\"attributes\":{\"factors\":[\"Furniture\",\"Home Decor\",\"Gift Card\",\"Bed\",\"Lighting\",\"M\\u00f8bel\",\"Beverage\",\"Outdoor Furniture\",\"Accent Chair\",\"Fashion\",\"Clothing\",\"Hammock\",\"Platform Bed\"]}},\"y_range\":{\"type\":\"object\",\"name\":\"DataRange1d\",\"id\":\"p2317\",\"attributes\":{\"start\":0}},\"x_scale\":{\"type\":\"object\",\"name\":\"CategoricalScale\",\"id\":\"p2326\"},\"y_scale\":{\"type\":\"object\",\"name\":\"LinearScale\",\"id\":\"p2327\"},\"title\":{\"type\":\"object\",\"name\":\"Title\",\"id\":\"p2318\",\"attributes\":{\"text\":\"Product types\"}},\"renderers\":[{\"type\":\"object\",\"name\":\"GlyphRenderer\",\"id\":\"p2344\",\"attributes\":{\"data_source\":{\"type\":\"object\",\"name\":\"ColumnDataSource\",\"id\":\"p2338\",\"attributes\":{\"selected\":{\"type\":\"object\",\"name\":\"Selection\",\"id\":\"p2339\",\"attributes\":{\"indices\":[],\"line_indices\":[]}},\"selection_policy\":{\"type\":\"object\",\"name\":\"UnionRenderers\",\"id\":\"p2340\"},\"data\":{\"type\":\"map\",\"entries\":[[\"x\",[\"Furniture\",\"Home Decor\",\"Gift Card\",\"Bed\",\"Lighting\",\"M\\u00f8bel\",\"Beverage\",\"Outdoor Furniture\",\"Accent Chair\",\"Fashion\",\"Clothing\",\"Hammock\",\"Platform Bed\"]],[\"top\",[164,11,6,5,5,4,3,3,2,2,2,2,2]]]}}},\"view\":{\"type\":\"object\",\"name\":\"CDSView\",\"id\":\"p2345\",\"attributes\":{\"filter\":{\"type\":\"object\",\"name\":\"AllIndices\",\"id\":\"p2346\"}}},\"glyph\":{\"type\":\"object\",\"name\":\"VBar\",\"id\":\"p2341\",\"attributes\":{\"x\":{\"type\":\"field\",\"field\":\"x\"},\"width\":{\"type\":\"value\",\"value\":0.9},\"top\":{\"type\":\"field\",\"field\":\"top\"},\"line_color\":{\"type\":\"value\",\"value\":\"#1f77b4\"},\"fill_color\":{\"type\":\"value\",\"value\":\"#1f77b4\"}}},\"nonselection_glyph\":{\"type\":\"object\",\"name\":\"VBar\",\"id\":\"p2342\",\"attributes\":{\"x\":{\"type\":\"field\",\"field\":\"x\"},\"width\":{\"type\":\"value\",\"value\":0.9},\"top\":{\"type\":\"field\",\"field\":\"top\"},\"line_color\":{\"type\":\"value\",\"value\":\"#1f77b4\"},\"line_alpha\":{\"type\":\"value\",\"value\":0.1},\"fill_color\":{\"type\":\"value\",\"value\":\"#1f77b4\"},\"fill_alpha\":{\"type\":\"value\",\"value\":0.1},\"hatch_alpha\":{\"type\":\"value\",\"value\":0.1}}},\"muted_glyph\":{\"type\":\"object\",\"name\":\"VBar\",\"id\":\"p2343\",\"attributes\":{\"x\":{\"type\":\"field\",\"field\":\"x\"},\"width\":{\"type\":\"value\",\"value\":0.9},\"top\":{\"type\":\"field\",\"field\":\"top\"},\"line_color\":{\"type\":\"value\",\"value\":\"#1f77b4\"},\"line_alpha\":{\"type\":\"value\",\"value\":0.2},\"fill_color\":{\"type\":\"value\",\"value\":\"#1f77b4\"},\"fill_alpha\":{\"type\":\"value\",\"value\":0.2},\"hatch_alpha\":{\"type\":\"value\",\"value\":0.2}}}}}],\"toolbar\":{\"type\":\"object\",\"name\":\"Toolbar\",\"id\":\"p2324\"},\"toolbar_location\":null,\"left\":[{\"type\":\"object\",\"name\":\"LinearAxis\",\"id\":\"p2333\",\"attributes\":{\"ticker\":{\"type\":\"object\",\"name\":\"BasicTicker\",\"id\":\"p2334\",\"attributes\":{\"mantissas\":[1,2,5]}},\"formatter\":{\"type\":\"object\",\"name\":\"BasicTickFormatter\",\"id\":\"p2335\"},\"major_label_policy\":{\"type\":\"object\",\"name\":\"AllLabels\",\"id\":\"p2336\"}}}],\"below\":[{\"type\":\"object\",\"name\":\"CategoricalAxis\",\"id\":\"p2328\",\"attributes\":{\"ticker\":{\"type\":\"object\",\"name\":\"CategoricalTicker\",\"id\":\"p2329\"},\"formatter\":{\"type\":\"object\",\"name\":\"CategoricalTickFormatter\",\"id\":\"p2330\"},\"major_label_policy\":{\"type\":\"object\",\"name\":\"AllLabels\",\"id\":\"p2331\"}}}],\"center\":[{\"type\":\"object\",\"name\":\"Grid\",\"id\":\"p2332\",\"attributes\":{\"axis\":{\"id\":\"p2328\"},\"grid_line_color\":null}},{\"type\":\"object\",\"name\":\"Grid\",\"id\":\"p2337\",\"attributes\":{\"dimension\":1,\"axis\":{\"id\":\"p2333\"}}}]}}]}};\n",
       "  const render_items = [{\"docid\":\"65aaae52-4694-44bf-9b77-c44413957c8f\",\"roots\":{\"p2315\":\"e49a2e24-49e8-4dd7-bed5-a757a1a6d08c\"},\"root_ids\":[\"p2315\"]}];\n",
       "  root.Bokeh.embed.embed_items_notebook(docs_json, render_items);\n",
       "  }\n",
       "  if (root.Bokeh !== undefined) {\n",
       "    embed_document(root);\n",
       "  } else {\n",
       "    let attempts = 0;\n",
       "    const timer = setInterval(function(root) {\n",
       "      if (root.Bokeh !== undefined) {\n",
       "        clearInterval(timer);\n",
       "        embed_document(root);\n",
       "      } else {\n",
       "        attempts++;\n",
       "        if (attempts > 100) {\n",
       "          clearInterval(timer);\n",
       "          console.log(\"Bokeh: ERROR: Unable to run BokehJS code because BokehJS library is missing\");\n",
       "        }\n",
       "      }\n",
       "    }, 10, root)\n",
       "  }\n",
       "})(window);"
      ],
      "application/vnd.bokehjs_exec.v0+json": ""
     },
     "metadata": {
      "application/vnd.bokehjs_exec.v0+json": {
       "id": "p2315"
      }
     },
     "output_type": "display_data"
    },
    {
     "data": {
      "text/html": [
       "    <style>\n",
       "        .bk-notebook-logo {\n",
       "            display: block;\n",
       "            width: 20px;\n",
       "            height: 20px;\n",
       "            background-image: url(data:image/png;base64,iVBORw0KGgoAAAANSUhEUgAAABQAAAAUCAYAAACNiR0NAAAABHNCSVQICAgIfAhkiAAAAAlwSFlzAAALEgAACxIB0t1+/AAAABx0RVh0U29mdHdhcmUAQWRvYmUgRmlyZXdvcmtzIENTNui8sowAAAOkSURBVDiNjZRtaJVlGMd/1/08zzln5zjP1LWcU9N0NkN8m2CYjpgQYQXqSs0I84OLIC0hkEKoPtiH3gmKoiJDU7QpLgoLjLIQCpEsNJ1vqUOdO7ppbuec5+V+rj4ctwzd8IIbbi6u+8f1539dt3A78eXC7QizUF7gyV1fD1Yqg4JWz84yffhm0qkFqBogB9rM8tZdtwVsPUhWhGcFJngGeWrPzHm5oaMmkfEg1usvLFyc8jLRqDOMru7AyC8saQr7GG7f5fvDeH7Ej8CM66nIF+8yngt6HWaKh7k49Soy9nXurCi1o3qUbS3zWfrYeQDTB/Qj6kX6Ybhw4B+bOYoLKCC9H3Nu/leUTZ1JdRWkkn2ldcCamzrcf47KKXdAJllSlxAOkRgyHsGC/zRday5Qld9DyoM4/q/rUoy/CXh3jzOu3bHUVZeU+DEn8FInkPBFlu3+nW3Nw0mk6vCDiWg8CeJaxEwuHS3+z5RgY+YBR6V1Z1nxSOfoaPa4LASWxxdNp+VWTk7+4vzaou8v8PN+xo+KY2xsw6une2frhw05CTYOmQvsEhjhWjn0bmXPjpE1+kplmmkP3suftwTubK9Vq22qKmrBhpY4jvd5afdRA3wGjFAgcnTK2s4hY0/GPNIb0nErGMCRxWOOX64Z8RAC4oCXdklmEvcL8o0BfkNK4lUg9HTl+oPlQxdNo3Mg4Nv175e/1LDGzZen30MEjRUtmXSfiTVu1kK8W4txyV6BMKlbgk3lMwYCiusNy9fVfvvwMxv8Ynl6vxoByANLTWplvuj/nF9m2+PDtt1eiHPBr1oIfhCChQMBw6Aw0UulqTKZdfVvfG7VcfIqLG9bcldL/+pdWTLxLUy8Qq38heUIjh4XlzZxzQm19lLFlr8vdQ97rjZVOLf8nclzckbcD4wxXMidpX30sFd37Fv/GtwwhzhxGVAprjbg0gCAEeIgwCZyTV2Z1REEW8O4py0wsjeloKoMr6iCY6dP92H6Vw/oTyICIthibxjm/DfN9lVz8IqtqKYLUXfoKVMVQVVJOElGjrnnUt9T9wbgp8AyYKaGlqingHZU/uG2NTZSVqwHQTWkx9hxjkpWDaCg6Ckj5qebgBVbT3V3NNXMSiWSDdGV3hrtzla7J+duwPOToIg42ChPQOQjspnSlp1V+Gjdged7+8UN5CRAV7a5EdFNwCjEaBR27b3W890TE7g24NAP/mMDXRWrGoFPQI9ls/MWO2dWFAar/xcOIImbbpA3zgAAAABJRU5ErkJggg==);\n",
       "        }\n",
       "    </style>\n",
       "    <div>\n",
       "        <a href=\"https://bokeh.org\" target=\"_blank\" class=\"bk-notebook-logo\"></a>\n",
       "        <span id=\"e5132b4c-babe-483c-b686-043b999df519\">Loading BokehJS ...</span>\n",
       "    </div>\n"
      ]
     },
     "metadata": {},
     "output_type": "display_data"
    },
    {
     "data": {
      "application/javascript": [
       "(function(root) {\n",
       "  function now() {\n",
       "    return new Date();\n",
       "  }\n",
       "\n",
       "  const force = true;\n",
       "\n",
       "  if (typeof root._bokeh_onload_callbacks === \"undefined\" || force === true) {\n",
       "    root._bokeh_onload_callbacks = [];\n",
       "    root._bokeh_is_loading = undefined;\n",
       "  }\n",
       "\n",
       "const JS_MIME_TYPE = 'application/javascript';\n",
       "  const HTML_MIME_TYPE = 'text/html';\n",
       "  const EXEC_MIME_TYPE = 'application/vnd.bokehjs_exec.v0+json';\n",
       "  const CLASS_NAME = 'output_bokeh rendered_html';\n",
       "\n",
       "  /**\n",
       "   * Render data to the DOM node\n",
       "   */\n",
       "  function render(props, node) {\n",
       "    const script = document.createElement(\"script\");\n",
       "    node.appendChild(script);\n",
       "  }\n",
       "\n",
       "  /**\n",
       "   * Handle when an output is cleared or removed\n",
       "   */\n",
       "  function handleClearOutput(event, handle) {\n",
       "    function drop(id) {\n",
       "      const view = Bokeh.index.get_by_id(id)\n",
       "      if (view != null) {\n",
       "        view.model.document.clear()\n",
       "        Bokeh.index.delete(view)\n",
       "      }\n",
       "    }\n",
       "\n",
       "    const cell = handle.cell;\n",
       "\n",
       "    const id = cell.output_area._bokeh_element_id;\n",
       "    const server_id = cell.output_area._bokeh_server_id;\n",
       "\n",
       "    // Clean up Bokeh references\n",
       "    if (id != null) {\n",
       "      drop(id)\n",
       "    }\n",
       "\n",
       "    if (server_id !== undefined) {\n",
       "      // Clean up Bokeh references\n",
       "      const cmd_clean = \"from bokeh.io.state import curstate; print(curstate().uuid_to_server['\" + server_id + \"'].get_sessions()[0].document.roots[0]._id)\";\n",
       "      cell.notebook.kernel.execute(cmd_clean, {\n",
       "        iopub: {\n",
       "          output: function(msg) {\n",
       "            const id = msg.content.text.trim()\n",
       "            drop(id)\n",
       "          }\n",
       "        }\n",
       "      });\n",
       "      // Destroy server and session\n",
       "      const cmd_destroy = \"import bokeh.io.notebook as ion; ion.destroy_server('\" + server_id + \"')\";\n",
       "      cell.notebook.kernel.execute(cmd_destroy);\n",
       "    }\n",
       "  }\n",
       "\n",
       "  /**\n",
       "   * Handle when a new output is added\n",
       "   */\n",
       "  function handleAddOutput(event, handle) {\n",
       "    const output_area = handle.output_area;\n",
       "    const output = handle.output;\n",
       "\n",
       "    // limit handleAddOutput to display_data with EXEC_MIME_TYPE content only\n",
       "    if ((output.output_type != \"display_data\") || (!Object.prototype.hasOwnProperty.call(output.data, EXEC_MIME_TYPE))) {\n",
       "      return\n",
       "    }\n",
       "\n",
       "    const toinsert = output_area.element.find(\".\" + CLASS_NAME.split(' ')[0]);\n",
       "\n",
       "    if (output.metadata[EXEC_MIME_TYPE][\"id\"] !== undefined) {\n",
       "      toinsert[toinsert.length - 1].firstChild.textContent = output.data[JS_MIME_TYPE];\n",
       "      // store reference to embed id on output_area\n",
       "      output_area._bokeh_element_id = output.metadata[EXEC_MIME_TYPE][\"id\"];\n",
       "    }\n",
       "    if (output.metadata[EXEC_MIME_TYPE][\"server_id\"] !== undefined) {\n",
       "      const bk_div = document.createElement(\"div\");\n",
       "      bk_div.innerHTML = output.data[HTML_MIME_TYPE];\n",
       "      const script_attrs = bk_div.children[0].attributes;\n",
       "      for (let i = 0; i < script_attrs.length; i++) {\n",
       "        toinsert[toinsert.length - 1].firstChild.setAttribute(script_attrs[i].name, script_attrs[i].value);\n",
       "        toinsert[toinsert.length - 1].firstChild.textContent = bk_div.children[0].textContent\n",
       "      }\n",
       "      // store reference to server id on output_area\n",
       "      output_area._bokeh_server_id = output.metadata[EXEC_MIME_TYPE][\"server_id\"];\n",
       "    }\n",
       "  }\n",
       "\n",
       "  function register_renderer(events, OutputArea) {\n",
       "\n",
       "    function append_mime(data, metadata, element) {\n",
       "      // create a DOM node to render to\n",
       "      const toinsert = this.create_output_subarea(\n",
       "        metadata,\n",
       "        CLASS_NAME,\n",
       "        EXEC_MIME_TYPE\n",
       "      );\n",
       "      this.keyboard_manager.register_events(toinsert);\n",
       "      // Render to node\n",
       "      const props = {data: data, metadata: metadata[EXEC_MIME_TYPE]};\n",
       "      render(props, toinsert[toinsert.length - 1]);\n",
       "      element.append(toinsert);\n",
       "      return toinsert\n",
       "    }\n",
       "\n",
       "    /* Handle when an output is cleared or removed */\n",
       "    events.on('clear_output.CodeCell', handleClearOutput);\n",
       "    events.on('delete.Cell', handleClearOutput);\n",
       "\n",
       "    /* Handle when a new output is added */\n",
       "    events.on('output_added.OutputArea', handleAddOutput);\n",
       "\n",
       "    /**\n",
       "     * Register the mime type and append_mime function with output_area\n",
       "     */\n",
       "    OutputArea.prototype.register_mime_type(EXEC_MIME_TYPE, append_mime, {\n",
       "      /* Is output safe? */\n",
       "      safe: true,\n",
       "      /* Index of renderer in `output_area.display_order` */\n",
       "      index: 0\n",
       "    });\n",
       "  }\n",
       "\n",
       "  // register the mime type if in Jupyter Notebook environment and previously unregistered\n",
       "  if (root.Jupyter !== undefined) {\n",
       "    const events = require('base/js/events');\n",
       "    const OutputArea = require('notebook/js/outputarea').OutputArea;\n",
       "\n",
       "    if (OutputArea.prototype.mime_types().indexOf(EXEC_MIME_TYPE) == -1) {\n",
       "      register_renderer(events, OutputArea);\n",
       "    }\n",
       "  }\n",
       "  if (typeof (root._bokeh_timeout) === \"undefined\" || force === true) {\n",
       "    root._bokeh_timeout = Date.now() + 5000;\n",
       "    root._bokeh_failed_load = false;\n",
       "  }\n",
       "\n",
       "  const NB_LOAD_WARNING = {'data': {'text/html':\n",
       "     \"<div style='background-color: #fdd'>\\n\"+\n",
       "     \"<p>\\n\"+\n",
       "     \"BokehJS does not appear to have successfully loaded. If loading BokehJS from CDN, this \\n\"+\n",
       "     \"may be due to a slow or bad network connection. Possible fixes:\\n\"+\n",
       "     \"</p>\\n\"+\n",
       "     \"<ul>\\n\"+\n",
       "     \"<li>re-rerun `output_notebook()` to attempt to load from CDN again, or</li>\\n\"+\n",
       "     \"<li>use INLINE resources instead, as so:</li>\\n\"+\n",
       "     \"</ul>\\n\"+\n",
       "     \"<code>\\n\"+\n",
       "     \"from bokeh.resources import INLINE\\n\"+\n",
       "     \"output_notebook(resources=INLINE)\\n\"+\n",
       "     \"</code>\\n\"+\n",
       "     \"</div>\"}};\n",
       "\n",
       "  function display_loaded() {\n",
       "    const el = document.getElementById(\"e5132b4c-babe-483c-b686-043b999df519\");\n",
       "    if (el != null) {\n",
       "      el.textContent = \"BokehJS is loading...\";\n",
       "    }\n",
       "    if (root.Bokeh !== undefined) {\n",
       "      if (el != null) {\n",
       "        el.textContent = \"BokehJS \" + root.Bokeh.version + \" successfully loaded.\";\n",
       "      }\n",
       "    } else if (Date.now() < root._bokeh_timeout) {\n",
       "      setTimeout(display_loaded, 100)\n",
       "    }\n",
       "  }\n",
       "\n",
       "  function run_callbacks() {\n",
       "    try {\n",
       "      root._bokeh_onload_callbacks.forEach(function(callback) {\n",
       "        if (callback != null)\n",
       "          callback();\n",
       "      });\n",
       "    } finally {\n",
       "      delete root._bokeh_onload_callbacks\n",
       "    }\n",
       "    console.debug(\"Bokeh: all callbacks have finished\");\n",
       "  }\n",
       "\n",
       "  function load_libs(css_urls, js_urls, callback) {\n",
       "    if (css_urls == null) css_urls = [];\n",
       "    if (js_urls == null) js_urls = [];\n",
       "\n",
       "    root._bokeh_onload_callbacks.push(callback);\n",
       "    if (root._bokeh_is_loading > 0) {\n",
       "      console.debug(\"Bokeh: BokehJS is being loaded, scheduling callback at\", now());\n",
       "      return null;\n",
       "    }\n",
       "    if (js_urls == null || js_urls.length === 0) {\n",
       "      run_callbacks();\n",
       "      return null;\n",
       "    }\n",
       "    console.debug(\"Bokeh: BokehJS not loaded, scheduling load and callback at\", now());\n",
       "    root._bokeh_is_loading = css_urls.length + js_urls.length;\n",
       "\n",
       "    function on_load() {\n",
       "      root._bokeh_is_loading--;\n",
       "      if (root._bokeh_is_loading === 0) {\n",
       "        console.debug(\"Bokeh: all BokehJS libraries/stylesheets loaded\");\n",
       "        run_callbacks()\n",
       "      }\n",
       "    }\n",
       "\n",
       "    function on_error(url) {\n",
       "      console.error(\"failed to load \" + url);\n",
       "    }\n",
       "\n",
       "    for (let i = 0; i < css_urls.length; i++) {\n",
       "      const url = css_urls[i];\n",
       "      const element = document.createElement(\"link\");\n",
       "      element.onload = on_load;\n",
       "      element.onerror = on_error.bind(null, url);\n",
       "      element.rel = \"stylesheet\";\n",
       "      element.type = \"text/css\";\n",
       "      element.href = url;\n",
       "      console.debug(\"Bokeh: injecting link tag for BokehJS stylesheet: \", url);\n",
       "      document.body.appendChild(element);\n",
       "    }\n",
       "\n",
       "    for (let i = 0; i < js_urls.length; i++) {\n",
       "      const url = js_urls[i];\n",
       "      const element = document.createElement('script');\n",
       "      element.onload = on_load;\n",
       "      element.onerror = on_error.bind(null, url);\n",
       "      element.async = false;\n",
       "      element.src = url;\n",
       "      console.debug(\"Bokeh: injecting script tag for BokehJS library: \", url);\n",
       "      document.head.appendChild(element);\n",
       "    }\n",
       "  };\n",
       "\n",
       "  function inject_raw_css(css) {\n",
       "    const element = document.createElement(\"style\");\n",
       "    element.appendChild(document.createTextNode(css));\n",
       "    document.body.appendChild(element);\n",
       "  }\n",
       "\n",
       "  const js_urls = [\"https://cdn.bokeh.org/bokeh/release/bokeh-3.3.4.min.js\", \"https://cdn.bokeh.org/bokeh/release/bokeh-gl-3.3.4.min.js\", \"https://cdn.bokeh.org/bokeh/release/bokeh-widgets-3.3.4.min.js\", \"https://cdn.bokeh.org/bokeh/release/bokeh-tables-3.3.4.min.js\", \"https://cdn.bokeh.org/bokeh/release/bokeh-mathjax-3.3.4.min.js\"];\n",
       "  const css_urls = [];\n",
       "\n",
       "  const inline_js = [    function(Bokeh) {\n",
       "      Bokeh.set_log_level(\"info\");\n",
       "    },\n",
       "function(Bokeh) {\n",
       "    }\n",
       "  ];\n",
       "\n",
       "  function run_inline_js() {\n",
       "    if (root.Bokeh !== undefined || force === true) {\n",
       "          for (let i = 0; i < inline_js.length; i++) {\n",
       "      inline_js[i].call(root, root.Bokeh);\n",
       "    }\n",
       "if (force === true) {\n",
       "        display_loaded();\n",
       "      }} else if (Date.now() < root._bokeh_timeout) {\n",
       "      setTimeout(run_inline_js, 100);\n",
       "    } else if (!root._bokeh_failed_load) {\n",
       "      console.log(\"Bokeh: BokehJS failed to load within specified timeout.\");\n",
       "      root._bokeh_failed_load = true;\n",
       "    } else if (force !== true) {\n",
       "      const cell = $(document.getElementById(\"e5132b4c-babe-483c-b686-043b999df519\")).parents('.cell').data().cell;\n",
       "      cell.output_area.append_execute_result(NB_LOAD_WARNING)\n",
       "    }\n",
       "  }\n",
       "\n",
       "  if (root._bokeh_is_loading === 0) {\n",
       "    console.debug(\"Bokeh: BokehJS loaded, going straight to plotting\");\n",
       "    run_inline_js();\n",
       "  } else {\n",
       "    load_libs(css_urls, js_urls, function() {\n",
       "      console.debug(\"Bokeh: BokehJS plotting callback run at\", now());\n",
       "      run_inline_js();\n",
       "    });\n",
       "  }\n",
       "}(window));"
      ],
      "application/vnd.bokehjs_load.v0+json": "(function(root) {\n  function now() {\n    return new Date();\n  }\n\n  const force = true;\n\n  if (typeof root._bokeh_onload_callbacks === \"undefined\" || force === true) {\n    root._bokeh_onload_callbacks = [];\n    root._bokeh_is_loading = undefined;\n  }\n\n\n  if (typeof (root._bokeh_timeout) === \"undefined\" || force === true) {\n    root._bokeh_timeout = Date.now() + 5000;\n    root._bokeh_failed_load = false;\n  }\n\n  const NB_LOAD_WARNING = {'data': {'text/html':\n     \"<div style='background-color: #fdd'>\\n\"+\n     \"<p>\\n\"+\n     \"BokehJS does not appear to have successfully loaded. If loading BokehJS from CDN, this \\n\"+\n     \"may be due to a slow or bad network connection. Possible fixes:\\n\"+\n     \"</p>\\n\"+\n     \"<ul>\\n\"+\n     \"<li>re-rerun `output_notebook()` to attempt to load from CDN again, or</li>\\n\"+\n     \"<li>use INLINE resources instead, as so:</li>\\n\"+\n     \"</ul>\\n\"+\n     \"<code>\\n\"+\n     \"from bokeh.resources import INLINE\\n\"+\n     \"output_notebook(resources=INLINE)\\n\"+\n     \"</code>\\n\"+\n     \"</div>\"}};\n\n  function display_loaded() {\n    const el = document.getElementById(\"e5132b4c-babe-483c-b686-043b999df519\");\n    if (el != null) {\n      el.textContent = \"BokehJS is loading...\";\n    }\n    if (root.Bokeh !== undefined) {\n      if (el != null) {\n        el.textContent = \"BokehJS \" + root.Bokeh.version + \" successfully loaded.\";\n      }\n    } else if (Date.now() < root._bokeh_timeout) {\n      setTimeout(display_loaded, 100)\n    }\n  }\n\n  function run_callbacks() {\n    try {\n      root._bokeh_onload_callbacks.forEach(function(callback) {\n        if (callback != null)\n          callback();\n      });\n    } finally {\n      delete root._bokeh_onload_callbacks\n    }\n    console.debug(\"Bokeh: all callbacks have finished\");\n  }\n\n  function load_libs(css_urls, js_urls, callback) {\n    if (css_urls == null) css_urls = [];\n    if (js_urls == null) js_urls = [];\n\n    root._bokeh_onload_callbacks.push(callback);\n    if (root._bokeh_is_loading > 0) {\n      console.debug(\"Bokeh: BokehJS is being loaded, scheduling callback at\", now());\n      return null;\n    }\n    if (js_urls == null || js_urls.length === 0) {\n      run_callbacks();\n      return null;\n    }\n    console.debug(\"Bokeh: BokehJS not loaded, scheduling load and callback at\", now());\n    root._bokeh_is_loading = css_urls.length + js_urls.length;\n\n    function on_load() {\n      root._bokeh_is_loading--;\n      if (root._bokeh_is_loading === 0) {\n        console.debug(\"Bokeh: all BokehJS libraries/stylesheets loaded\");\n        run_callbacks()\n      }\n    }\n\n    function on_error(url) {\n      console.error(\"failed to load \" + url);\n    }\n\n    for (let i = 0; i < css_urls.length; i++) {\n      const url = css_urls[i];\n      const element = document.createElement(\"link\");\n      element.onload = on_load;\n      element.onerror = on_error.bind(null, url);\n      element.rel = \"stylesheet\";\n      element.type = \"text/css\";\n      element.href = url;\n      console.debug(\"Bokeh: injecting link tag for BokehJS stylesheet: \", url);\n      document.body.appendChild(element);\n    }\n\n    for (let i = 0; i < js_urls.length; i++) {\n      const url = js_urls[i];\n      const element = document.createElement('script');\n      element.onload = on_load;\n      element.onerror = on_error.bind(null, url);\n      element.async = false;\n      element.src = url;\n      console.debug(\"Bokeh: injecting script tag for BokehJS library: \", url);\n      document.head.appendChild(element);\n    }\n  };\n\n  function inject_raw_css(css) {\n    const element = document.createElement(\"style\");\n    element.appendChild(document.createTextNode(css));\n    document.body.appendChild(element);\n  }\n\n  const js_urls = [\"https://cdn.bokeh.org/bokeh/release/bokeh-3.3.4.min.js\", \"https://cdn.bokeh.org/bokeh/release/bokeh-gl-3.3.4.min.js\", \"https://cdn.bokeh.org/bokeh/release/bokeh-widgets-3.3.4.min.js\", \"https://cdn.bokeh.org/bokeh/release/bokeh-tables-3.3.4.min.js\", \"https://cdn.bokeh.org/bokeh/release/bokeh-mathjax-3.3.4.min.js\"];\n  const css_urls = [];\n\n  const inline_js = [    function(Bokeh) {\n      Bokeh.set_log_level(\"info\");\n    },\nfunction(Bokeh) {\n    }\n  ];\n\n  function run_inline_js() {\n    if (root.Bokeh !== undefined || force === true) {\n          for (let i = 0; i < inline_js.length; i++) {\n      inline_js[i].call(root, root.Bokeh);\n    }\nif (force === true) {\n        display_loaded();\n      }} else if (Date.now() < root._bokeh_timeout) {\n      setTimeout(run_inline_js, 100);\n    } else if (!root._bokeh_failed_load) {\n      console.log(\"Bokeh: BokehJS failed to load within specified timeout.\");\n      root._bokeh_failed_load = true;\n    } else if (force !== true) {\n      const cell = $(document.getElementById(\"e5132b4c-babe-483c-b686-043b999df519\")).parents('.cell').data().cell;\n      cell.output_area.append_execute_result(NB_LOAD_WARNING)\n    }\n  }\n\n  if (root._bokeh_is_loading === 0) {\n    console.debug(\"Bokeh: BokehJS loaded, going straight to plotting\");\n    run_inline_js();\n  } else {\n    load_libs(css_urls, js_urls, function() {\n      console.debug(\"Bokeh: BokehJS plotting callback run at\", now());\n      run_inline_js();\n    });\n  }\n}(window));"
     },
     "metadata": {},
     "output_type": "display_data"
    },
    {
     "data": {
      "text/html": [
       "\n",
       "  <div id=\"a0291fb0-1ab3-4cdf-9928-568fecefef6f\" data-root-id=\"p2347\" style=\"display: contents;\"></div>\n"
      ]
     },
     "metadata": {},
     "output_type": "display_data"
    },
    {
     "data": {
      "application/javascript": [
       "(function(root) {\n",
       "  function embed_document(root) {\n",
       "  const docs_json = {\"3c4dc55e-0cbf-4138-a035-42930de92bc5\":{\"version\":\"3.3.4\",\"title\":\"Bokeh Application\",\"roots\":[{\"type\":\"object\",\"name\":\"Figure\",\"id\":\"p2347\",\"attributes\":{\"width\":1900,\"height\":350,\"x_range\":{\"type\":\"object\",\"name\":\"FactorRange\",\"id\":\"p2357\",\"attributes\":{\"factors\":[\"N/A\",\"Black\",\"Natural\",\"Various\",\"Walnut\",\"Grey\",\"Beige\",\"Multiple colors available\",\"Warm Nordic\",\"Brown\",\"Multiple Colors\",\"Wood\",\"Green\",\"White\",\"Teak\",\"Wooden\",\"Oak\",\"Gray\",\"Light Oak\",\"Multicolored\",\"Default Title\"]}},\"y_range\":{\"type\":\"object\",\"name\":\"DataRange1d\",\"id\":\"p2349\",\"attributes\":{\"start\":0}},\"x_scale\":{\"type\":\"object\",\"name\":\"CategoricalScale\",\"id\":\"p2358\"},\"y_scale\":{\"type\":\"object\",\"name\":\"LinearScale\",\"id\":\"p2359\"},\"title\":{\"type\":\"object\",\"name\":\"Title\",\"id\":\"p2350\",\"attributes\":{\"text\":\"colors\"}},\"renderers\":[{\"type\":\"object\",\"name\":\"GlyphRenderer\",\"id\":\"p2376\",\"attributes\":{\"data_source\":{\"type\":\"object\",\"name\":\"ColumnDataSource\",\"id\":\"p2370\",\"attributes\":{\"selected\":{\"type\":\"object\",\"name\":\"Selection\",\"id\":\"p2371\",\"attributes\":{\"indices\":[],\"line_indices\":[]}},\"selection_policy\":{\"type\":\"object\",\"name\":\"UnionRenderers\",\"id\":\"p2372\"},\"data\":{\"type\":\"map\",\"entries\":[[\"x\",[\"N/A\",\"Black\",\"Natural\",\"Various\",\"Walnut\",\"Grey\",\"Beige\",\"Multiple colors available\",\"Warm Nordic\",\"Brown\",\"Multiple Colors\",\"Wood\",\"Green\",\"White\",\"Teak\",\"Wooden\",\"Oak\",\"Gray\",\"Light Oak\",\"Multicolored\",\"Default Title\"]],[\"top\",[36,22,19,14,7,6,5,5,4,4,4,3,3,3,2,2,2,2,2,2,2]]]}}},\"view\":{\"type\":\"object\",\"name\":\"CDSView\",\"id\":\"p2377\",\"attributes\":{\"filter\":{\"type\":\"object\",\"name\":\"AllIndices\",\"id\":\"p2378\"}}},\"glyph\":{\"type\":\"object\",\"name\":\"VBar\",\"id\":\"p2373\",\"attributes\":{\"x\":{\"type\":\"field\",\"field\":\"x\"},\"width\":{\"type\":\"value\",\"value\":0.9},\"top\":{\"type\":\"field\",\"field\":\"top\"},\"line_color\":{\"type\":\"value\",\"value\":\"#1f77b4\"},\"fill_color\":{\"type\":\"value\",\"value\":\"#1f77b4\"}}},\"nonselection_glyph\":{\"type\":\"object\",\"name\":\"VBar\",\"id\":\"p2374\",\"attributes\":{\"x\":{\"type\":\"field\",\"field\":\"x\"},\"width\":{\"type\":\"value\",\"value\":0.9},\"top\":{\"type\":\"field\",\"field\":\"top\"},\"line_color\":{\"type\":\"value\",\"value\":\"#1f77b4\"},\"line_alpha\":{\"type\":\"value\",\"value\":0.1},\"fill_color\":{\"type\":\"value\",\"value\":\"#1f77b4\"},\"fill_alpha\":{\"type\":\"value\",\"value\":0.1},\"hatch_alpha\":{\"type\":\"value\",\"value\":0.1}}},\"muted_glyph\":{\"type\":\"object\",\"name\":\"VBar\",\"id\":\"p2375\",\"attributes\":{\"x\":{\"type\":\"field\",\"field\":\"x\"},\"width\":{\"type\":\"value\",\"value\":0.9},\"top\":{\"type\":\"field\",\"field\":\"top\"},\"line_color\":{\"type\":\"value\",\"value\":\"#1f77b4\"},\"line_alpha\":{\"type\":\"value\",\"value\":0.2},\"fill_color\":{\"type\":\"value\",\"value\":\"#1f77b4\"},\"fill_alpha\":{\"type\":\"value\",\"value\":0.2},\"hatch_alpha\":{\"type\":\"value\",\"value\":0.2}}}}}],\"toolbar\":{\"type\":\"object\",\"name\":\"Toolbar\",\"id\":\"p2356\"},\"toolbar_location\":null,\"left\":[{\"type\":\"object\",\"name\":\"LinearAxis\",\"id\":\"p2365\",\"attributes\":{\"ticker\":{\"type\":\"object\",\"name\":\"BasicTicker\",\"id\":\"p2366\",\"attributes\":{\"mantissas\":[1,2,5]}},\"formatter\":{\"type\":\"object\",\"name\":\"BasicTickFormatter\",\"id\":\"p2367\"},\"major_label_policy\":{\"type\":\"object\",\"name\":\"AllLabels\",\"id\":\"p2368\"}}}],\"below\":[{\"type\":\"object\",\"name\":\"CategoricalAxis\",\"id\":\"p2360\",\"attributes\":{\"ticker\":{\"type\":\"object\",\"name\":\"CategoricalTicker\",\"id\":\"p2361\"},\"formatter\":{\"type\":\"object\",\"name\":\"CategoricalTickFormatter\",\"id\":\"p2362\"},\"major_label_policy\":{\"type\":\"object\",\"name\":\"AllLabels\",\"id\":\"p2363\"}}}],\"center\":[{\"type\":\"object\",\"name\":\"Grid\",\"id\":\"p2364\",\"attributes\":{\"axis\":{\"id\":\"p2360\"},\"grid_line_color\":null}},{\"type\":\"object\",\"name\":\"Grid\",\"id\":\"p2369\",\"attributes\":{\"dimension\":1,\"axis\":{\"id\":\"p2365\"}}}]}}]}};\n",
       "  const render_items = [{\"docid\":\"3c4dc55e-0cbf-4138-a035-42930de92bc5\",\"roots\":{\"p2347\":\"a0291fb0-1ab3-4cdf-9928-568fecefef6f\"},\"root_ids\":[\"p2347\"]}];\n",
       "  root.Bokeh.embed.embed_items_notebook(docs_json, render_items);\n",
       "  }\n",
       "  if (root.Bokeh !== undefined) {\n",
       "    embed_document(root);\n",
       "  } else {\n",
       "    let attempts = 0;\n",
       "    const timer = setInterval(function(root) {\n",
       "      if (root.Bokeh !== undefined) {\n",
       "        clearInterval(timer);\n",
       "        embed_document(root);\n",
       "      } else {\n",
       "        attempts++;\n",
       "        if (attempts > 100) {\n",
       "          clearInterval(timer);\n",
       "          console.log(\"Bokeh: ERROR: Unable to run BokehJS code because BokehJS library is missing\");\n",
       "        }\n",
       "      }\n",
       "    }, 10, root)\n",
       "  }\n",
       "})(window);"
      ],
      "application/vnd.bokehjs_exec.v0+json": ""
     },
     "metadata": {
      "application/vnd.bokehjs_exec.v0+json": {
       "id": "p2347"
      }
     },
     "output_type": "display_data"
    },
    {
     "data": {
      "text/html": [
       "    <style>\n",
       "        .bk-notebook-logo {\n",
       "            display: block;\n",
       "            width: 20px;\n",
       "            height: 20px;\n",
       "            background-image: url(data:image/png;base64,iVBORw0KGgoAAAANSUhEUgAAABQAAAAUCAYAAACNiR0NAAAABHNCSVQICAgIfAhkiAAAAAlwSFlzAAALEgAACxIB0t1+/AAAABx0RVh0U29mdHdhcmUAQWRvYmUgRmlyZXdvcmtzIENTNui8sowAAAOkSURBVDiNjZRtaJVlGMd/1/08zzln5zjP1LWcU9N0NkN8m2CYjpgQYQXqSs0I84OLIC0hkEKoPtiH3gmKoiJDU7QpLgoLjLIQCpEsNJ1vqUOdO7ppbuec5+V+rj4ctwzd8IIbbi6u+8f1539dt3A78eXC7QizUF7gyV1fD1Yqg4JWz84yffhm0qkFqBogB9rM8tZdtwVsPUhWhGcFJngGeWrPzHm5oaMmkfEg1usvLFyc8jLRqDOMru7AyC8saQr7GG7f5fvDeH7Ej8CM66nIF+8yngt6HWaKh7k49Soy9nXurCi1o3qUbS3zWfrYeQDTB/Qj6kX6Ybhw4B+bOYoLKCC9H3Nu/leUTZ1JdRWkkn2ldcCamzrcf47KKXdAJllSlxAOkRgyHsGC/zRday5Qld9DyoM4/q/rUoy/CXh3jzOu3bHUVZeU+DEn8FInkPBFlu3+nW3Nw0mk6vCDiWg8CeJaxEwuHS3+z5RgY+YBR6V1Z1nxSOfoaPa4LASWxxdNp+VWTk7+4vzaou8v8PN+xo+KY2xsw6une2frhw05CTYOmQvsEhjhWjn0bmXPjpE1+kplmmkP3suftwTubK9Vq22qKmrBhpY4jvd5afdRA3wGjFAgcnTK2s4hY0/GPNIb0nErGMCRxWOOX64Z8RAC4oCXdklmEvcL8o0BfkNK4lUg9HTl+oPlQxdNo3Mg4Nv175e/1LDGzZen30MEjRUtmXSfiTVu1kK8W4txyV6BMKlbgk3lMwYCiusNy9fVfvvwMxv8Ynl6vxoByANLTWplvuj/nF9m2+PDtt1eiHPBr1oIfhCChQMBw6Aw0UulqTKZdfVvfG7VcfIqLG9bcldL/+pdWTLxLUy8Qq38heUIjh4XlzZxzQm19lLFlr8vdQ97rjZVOLf8nclzckbcD4wxXMidpX30sFd37Fv/GtwwhzhxGVAprjbg0gCAEeIgwCZyTV2Z1REEW8O4py0wsjeloKoMr6iCY6dP92H6Vw/oTyICIthibxjm/DfN9lVz8IqtqKYLUXfoKVMVQVVJOElGjrnnUt9T9wbgp8AyYKaGlqingHZU/uG2NTZSVqwHQTWkx9hxjkpWDaCg6Ckj5qebgBVbT3V3NNXMSiWSDdGV3hrtzla7J+duwPOToIg42ChPQOQjspnSlp1V+Gjdged7+8UN5CRAV7a5EdFNwCjEaBR27b3W890TE7g24NAP/mMDXRWrGoFPQI9ls/MWO2dWFAar/xcOIImbbpA3zgAAAABJRU5ErkJggg==);\n",
       "        }\n",
       "    </style>\n",
       "    <div>\n",
       "        <a href=\"https://bokeh.org\" target=\"_blank\" class=\"bk-notebook-logo\"></a>\n",
       "        <span id=\"b880bcc7-008d-41cc-adbe-da55883d66d9\">Loading BokehJS ...</span>\n",
       "    </div>\n"
      ]
     },
     "metadata": {},
     "output_type": "display_data"
    },
    {
     "data": {
      "application/javascript": [
       "(function(root) {\n",
       "  function now() {\n",
       "    return new Date();\n",
       "  }\n",
       "\n",
       "  const force = true;\n",
       "\n",
       "  if (typeof root._bokeh_onload_callbacks === \"undefined\" || force === true) {\n",
       "    root._bokeh_onload_callbacks = [];\n",
       "    root._bokeh_is_loading = undefined;\n",
       "  }\n",
       "\n",
       "const JS_MIME_TYPE = 'application/javascript';\n",
       "  const HTML_MIME_TYPE = 'text/html';\n",
       "  const EXEC_MIME_TYPE = 'application/vnd.bokehjs_exec.v0+json';\n",
       "  const CLASS_NAME = 'output_bokeh rendered_html';\n",
       "\n",
       "  /**\n",
       "   * Render data to the DOM node\n",
       "   */\n",
       "  function render(props, node) {\n",
       "    const script = document.createElement(\"script\");\n",
       "    node.appendChild(script);\n",
       "  }\n",
       "\n",
       "  /**\n",
       "   * Handle when an output is cleared or removed\n",
       "   */\n",
       "  function handleClearOutput(event, handle) {\n",
       "    function drop(id) {\n",
       "      const view = Bokeh.index.get_by_id(id)\n",
       "      if (view != null) {\n",
       "        view.model.document.clear()\n",
       "        Bokeh.index.delete(view)\n",
       "      }\n",
       "    }\n",
       "\n",
       "    const cell = handle.cell;\n",
       "\n",
       "    const id = cell.output_area._bokeh_element_id;\n",
       "    const server_id = cell.output_area._bokeh_server_id;\n",
       "\n",
       "    // Clean up Bokeh references\n",
       "    if (id != null) {\n",
       "      drop(id)\n",
       "    }\n",
       "\n",
       "    if (server_id !== undefined) {\n",
       "      // Clean up Bokeh references\n",
       "      const cmd_clean = \"from bokeh.io.state import curstate; print(curstate().uuid_to_server['\" + server_id + \"'].get_sessions()[0].document.roots[0]._id)\";\n",
       "      cell.notebook.kernel.execute(cmd_clean, {\n",
       "        iopub: {\n",
       "          output: function(msg) {\n",
       "            const id = msg.content.text.trim()\n",
       "            drop(id)\n",
       "          }\n",
       "        }\n",
       "      });\n",
       "      // Destroy server and session\n",
       "      const cmd_destroy = \"import bokeh.io.notebook as ion; ion.destroy_server('\" + server_id + \"')\";\n",
       "      cell.notebook.kernel.execute(cmd_destroy);\n",
       "    }\n",
       "  }\n",
       "\n",
       "  /**\n",
       "   * Handle when a new output is added\n",
       "   */\n",
       "  function handleAddOutput(event, handle) {\n",
       "    const output_area = handle.output_area;\n",
       "    const output = handle.output;\n",
       "\n",
       "    // limit handleAddOutput to display_data with EXEC_MIME_TYPE content only\n",
       "    if ((output.output_type != \"display_data\") || (!Object.prototype.hasOwnProperty.call(output.data, EXEC_MIME_TYPE))) {\n",
       "      return\n",
       "    }\n",
       "\n",
       "    const toinsert = output_area.element.find(\".\" + CLASS_NAME.split(' ')[0]);\n",
       "\n",
       "    if (output.metadata[EXEC_MIME_TYPE][\"id\"] !== undefined) {\n",
       "      toinsert[toinsert.length - 1].firstChild.textContent = output.data[JS_MIME_TYPE];\n",
       "      // store reference to embed id on output_area\n",
       "      output_area._bokeh_element_id = output.metadata[EXEC_MIME_TYPE][\"id\"];\n",
       "    }\n",
       "    if (output.metadata[EXEC_MIME_TYPE][\"server_id\"] !== undefined) {\n",
       "      const bk_div = document.createElement(\"div\");\n",
       "      bk_div.innerHTML = output.data[HTML_MIME_TYPE];\n",
       "      const script_attrs = bk_div.children[0].attributes;\n",
       "      for (let i = 0; i < script_attrs.length; i++) {\n",
       "        toinsert[toinsert.length - 1].firstChild.setAttribute(script_attrs[i].name, script_attrs[i].value);\n",
       "        toinsert[toinsert.length - 1].firstChild.textContent = bk_div.children[0].textContent\n",
       "      }\n",
       "      // store reference to server id on output_area\n",
       "      output_area._bokeh_server_id = output.metadata[EXEC_MIME_TYPE][\"server_id\"];\n",
       "    }\n",
       "  }\n",
       "\n",
       "  function register_renderer(events, OutputArea) {\n",
       "\n",
       "    function append_mime(data, metadata, element) {\n",
       "      // create a DOM node to render to\n",
       "      const toinsert = this.create_output_subarea(\n",
       "        metadata,\n",
       "        CLASS_NAME,\n",
       "        EXEC_MIME_TYPE\n",
       "      );\n",
       "      this.keyboard_manager.register_events(toinsert);\n",
       "      // Render to node\n",
       "      const props = {data: data, metadata: metadata[EXEC_MIME_TYPE]};\n",
       "      render(props, toinsert[toinsert.length - 1]);\n",
       "      element.append(toinsert);\n",
       "      return toinsert\n",
       "    }\n",
       "\n",
       "    /* Handle when an output is cleared or removed */\n",
       "    events.on('clear_output.CodeCell', handleClearOutput);\n",
       "    events.on('delete.Cell', handleClearOutput);\n",
       "\n",
       "    /* Handle when a new output is added */\n",
       "    events.on('output_added.OutputArea', handleAddOutput);\n",
       "\n",
       "    /**\n",
       "     * Register the mime type and append_mime function with output_area\n",
       "     */\n",
       "    OutputArea.prototype.register_mime_type(EXEC_MIME_TYPE, append_mime, {\n",
       "      /* Is output safe? */\n",
       "      safe: true,\n",
       "      /* Index of renderer in `output_area.display_order` */\n",
       "      index: 0\n",
       "    });\n",
       "  }\n",
       "\n",
       "  // register the mime type if in Jupyter Notebook environment and previously unregistered\n",
       "  if (root.Jupyter !== undefined) {\n",
       "    const events = require('base/js/events');\n",
       "    const OutputArea = require('notebook/js/outputarea').OutputArea;\n",
       "\n",
       "    if (OutputArea.prototype.mime_types().indexOf(EXEC_MIME_TYPE) == -1) {\n",
       "      register_renderer(events, OutputArea);\n",
       "    }\n",
       "  }\n",
       "  if (typeof (root._bokeh_timeout) === \"undefined\" || force === true) {\n",
       "    root._bokeh_timeout = Date.now() + 5000;\n",
       "    root._bokeh_failed_load = false;\n",
       "  }\n",
       "\n",
       "  const NB_LOAD_WARNING = {'data': {'text/html':\n",
       "     \"<div style='background-color: #fdd'>\\n\"+\n",
       "     \"<p>\\n\"+\n",
       "     \"BokehJS does not appear to have successfully loaded. If loading BokehJS from CDN, this \\n\"+\n",
       "     \"may be due to a slow or bad network connection. Possible fixes:\\n\"+\n",
       "     \"</p>\\n\"+\n",
       "     \"<ul>\\n\"+\n",
       "     \"<li>re-rerun `output_notebook()` to attempt to load from CDN again, or</li>\\n\"+\n",
       "     \"<li>use INLINE resources instead, as so:</li>\\n\"+\n",
       "     \"</ul>\\n\"+\n",
       "     \"<code>\\n\"+\n",
       "     \"from bokeh.resources import INLINE\\n\"+\n",
       "     \"output_notebook(resources=INLINE)\\n\"+\n",
       "     \"</code>\\n\"+\n",
       "     \"</div>\"}};\n",
       "\n",
       "  function display_loaded() {\n",
       "    const el = document.getElementById(\"b880bcc7-008d-41cc-adbe-da55883d66d9\");\n",
       "    if (el != null) {\n",
       "      el.textContent = \"BokehJS is loading...\";\n",
       "    }\n",
       "    if (root.Bokeh !== undefined) {\n",
       "      if (el != null) {\n",
       "        el.textContent = \"BokehJS \" + root.Bokeh.version + \" successfully loaded.\";\n",
       "      }\n",
       "    } else if (Date.now() < root._bokeh_timeout) {\n",
       "      setTimeout(display_loaded, 100)\n",
       "    }\n",
       "  }\n",
       "\n",
       "  function run_callbacks() {\n",
       "    try {\n",
       "      root._bokeh_onload_callbacks.forEach(function(callback) {\n",
       "        if (callback != null)\n",
       "          callback();\n",
       "      });\n",
       "    } finally {\n",
       "      delete root._bokeh_onload_callbacks\n",
       "    }\n",
       "    console.debug(\"Bokeh: all callbacks have finished\");\n",
       "  }\n",
       "\n",
       "  function load_libs(css_urls, js_urls, callback) {\n",
       "    if (css_urls == null) css_urls = [];\n",
       "    if (js_urls == null) js_urls = [];\n",
       "\n",
       "    root._bokeh_onload_callbacks.push(callback);\n",
       "    if (root._bokeh_is_loading > 0) {\n",
       "      console.debug(\"Bokeh: BokehJS is being loaded, scheduling callback at\", now());\n",
       "      return null;\n",
       "    }\n",
       "    if (js_urls == null || js_urls.length === 0) {\n",
       "      run_callbacks();\n",
       "      return null;\n",
       "    }\n",
       "    console.debug(\"Bokeh: BokehJS not loaded, scheduling load and callback at\", now());\n",
       "    root._bokeh_is_loading = css_urls.length + js_urls.length;\n",
       "\n",
       "    function on_load() {\n",
       "      root._bokeh_is_loading--;\n",
       "      if (root._bokeh_is_loading === 0) {\n",
       "        console.debug(\"Bokeh: all BokehJS libraries/stylesheets loaded\");\n",
       "        run_callbacks()\n",
       "      }\n",
       "    }\n",
       "\n",
       "    function on_error(url) {\n",
       "      console.error(\"failed to load \" + url);\n",
       "    }\n",
       "\n",
       "    for (let i = 0; i < css_urls.length; i++) {\n",
       "      const url = css_urls[i];\n",
       "      const element = document.createElement(\"link\");\n",
       "      element.onload = on_load;\n",
       "      element.onerror = on_error.bind(null, url);\n",
       "      element.rel = \"stylesheet\";\n",
       "      element.type = \"text/css\";\n",
       "      element.href = url;\n",
       "      console.debug(\"Bokeh: injecting link tag for BokehJS stylesheet: \", url);\n",
       "      document.body.appendChild(element);\n",
       "    }\n",
       "\n",
       "    for (let i = 0; i < js_urls.length; i++) {\n",
       "      const url = js_urls[i];\n",
       "      const element = document.createElement('script');\n",
       "      element.onload = on_load;\n",
       "      element.onerror = on_error.bind(null, url);\n",
       "      element.async = false;\n",
       "      element.src = url;\n",
       "      console.debug(\"Bokeh: injecting script tag for BokehJS library: \", url);\n",
       "      document.head.appendChild(element);\n",
       "    }\n",
       "  };\n",
       "\n",
       "  function inject_raw_css(css) {\n",
       "    const element = document.createElement(\"style\");\n",
       "    element.appendChild(document.createTextNode(css));\n",
       "    document.body.appendChild(element);\n",
       "  }\n",
       "\n",
       "  const js_urls = [\"https://cdn.bokeh.org/bokeh/release/bokeh-3.3.4.min.js\", \"https://cdn.bokeh.org/bokeh/release/bokeh-gl-3.3.4.min.js\", \"https://cdn.bokeh.org/bokeh/release/bokeh-widgets-3.3.4.min.js\", \"https://cdn.bokeh.org/bokeh/release/bokeh-tables-3.3.4.min.js\", \"https://cdn.bokeh.org/bokeh/release/bokeh-mathjax-3.3.4.min.js\"];\n",
       "  const css_urls = [];\n",
       "\n",
       "  const inline_js = [    function(Bokeh) {\n",
       "      Bokeh.set_log_level(\"info\");\n",
       "    },\n",
       "function(Bokeh) {\n",
       "    }\n",
       "  ];\n",
       "\n",
       "  function run_inline_js() {\n",
       "    if (root.Bokeh !== undefined || force === true) {\n",
       "          for (let i = 0; i < inline_js.length; i++) {\n",
       "      inline_js[i].call(root, root.Bokeh);\n",
       "    }\n",
       "if (force === true) {\n",
       "        display_loaded();\n",
       "      }} else if (Date.now() < root._bokeh_timeout) {\n",
       "      setTimeout(run_inline_js, 100);\n",
       "    } else if (!root._bokeh_failed_load) {\n",
       "      console.log(\"Bokeh: BokehJS failed to load within specified timeout.\");\n",
       "      root._bokeh_failed_load = true;\n",
       "    } else if (force !== true) {\n",
       "      const cell = $(document.getElementById(\"b880bcc7-008d-41cc-adbe-da55883d66d9\")).parents('.cell').data().cell;\n",
       "      cell.output_area.append_execute_result(NB_LOAD_WARNING)\n",
       "    }\n",
       "  }\n",
       "\n",
       "  if (root._bokeh_is_loading === 0) {\n",
       "    console.debug(\"Bokeh: BokehJS loaded, going straight to plotting\");\n",
       "    run_inline_js();\n",
       "  } else {\n",
       "    load_libs(css_urls, js_urls, function() {\n",
       "      console.debug(\"Bokeh: BokehJS plotting callback run at\", now());\n",
       "      run_inline_js();\n",
       "    });\n",
       "  }\n",
       "}(window));"
      ],
      "application/vnd.bokehjs_load.v0+json": "(function(root) {\n  function now() {\n    return new Date();\n  }\n\n  const force = true;\n\n  if (typeof root._bokeh_onload_callbacks === \"undefined\" || force === true) {\n    root._bokeh_onload_callbacks = [];\n    root._bokeh_is_loading = undefined;\n  }\n\n\n  if (typeof (root._bokeh_timeout) === \"undefined\" || force === true) {\n    root._bokeh_timeout = Date.now() + 5000;\n    root._bokeh_failed_load = false;\n  }\n\n  const NB_LOAD_WARNING = {'data': {'text/html':\n     \"<div style='background-color: #fdd'>\\n\"+\n     \"<p>\\n\"+\n     \"BokehJS does not appear to have successfully loaded. If loading BokehJS from CDN, this \\n\"+\n     \"may be due to a slow or bad network connection. Possible fixes:\\n\"+\n     \"</p>\\n\"+\n     \"<ul>\\n\"+\n     \"<li>re-rerun `output_notebook()` to attempt to load from CDN again, or</li>\\n\"+\n     \"<li>use INLINE resources instead, as so:</li>\\n\"+\n     \"</ul>\\n\"+\n     \"<code>\\n\"+\n     \"from bokeh.resources import INLINE\\n\"+\n     \"output_notebook(resources=INLINE)\\n\"+\n     \"</code>\\n\"+\n     \"</div>\"}};\n\n  function display_loaded() {\n    const el = document.getElementById(\"b880bcc7-008d-41cc-adbe-da55883d66d9\");\n    if (el != null) {\n      el.textContent = \"BokehJS is loading...\";\n    }\n    if (root.Bokeh !== undefined) {\n      if (el != null) {\n        el.textContent = \"BokehJS \" + root.Bokeh.version + \" successfully loaded.\";\n      }\n    } else if (Date.now() < root._bokeh_timeout) {\n      setTimeout(display_loaded, 100)\n    }\n  }\n\n  function run_callbacks() {\n    try {\n      root._bokeh_onload_callbacks.forEach(function(callback) {\n        if (callback != null)\n          callback();\n      });\n    } finally {\n      delete root._bokeh_onload_callbacks\n    }\n    console.debug(\"Bokeh: all callbacks have finished\");\n  }\n\n  function load_libs(css_urls, js_urls, callback) {\n    if (css_urls == null) css_urls = [];\n    if (js_urls == null) js_urls = [];\n\n    root._bokeh_onload_callbacks.push(callback);\n    if (root._bokeh_is_loading > 0) {\n      console.debug(\"Bokeh: BokehJS is being loaded, scheduling callback at\", now());\n      return null;\n    }\n    if (js_urls == null || js_urls.length === 0) {\n      run_callbacks();\n      return null;\n    }\n    console.debug(\"Bokeh: BokehJS not loaded, scheduling load and callback at\", now());\n    root._bokeh_is_loading = css_urls.length + js_urls.length;\n\n    function on_load() {\n      root._bokeh_is_loading--;\n      if (root._bokeh_is_loading === 0) {\n        console.debug(\"Bokeh: all BokehJS libraries/stylesheets loaded\");\n        run_callbacks()\n      }\n    }\n\n    function on_error(url) {\n      console.error(\"failed to load \" + url);\n    }\n\n    for (let i = 0; i < css_urls.length; i++) {\n      const url = css_urls[i];\n      const element = document.createElement(\"link\");\n      element.onload = on_load;\n      element.onerror = on_error.bind(null, url);\n      element.rel = \"stylesheet\";\n      element.type = \"text/css\";\n      element.href = url;\n      console.debug(\"Bokeh: injecting link tag for BokehJS stylesheet: \", url);\n      document.body.appendChild(element);\n    }\n\n    for (let i = 0; i < js_urls.length; i++) {\n      const url = js_urls[i];\n      const element = document.createElement('script');\n      element.onload = on_load;\n      element.onerror = on_error.bind(null, url);\n      element.async = false;\n      element.src = url;\n      console.debug(\"Bokeh: injecting script tag for BokehJS library: \", url);\n      document.head.appendChild(element);\n    }\n  };\n\n  function inject_raw_css(css) {\n    const element = document.createElement(\"style\");\n    element.appendChild(document.createTextNode(css));\n    document.body.appendChild(element);\n  }\n\n  const js_urls = [\"https://cdn.bokeh.org/bokeh/release/bokeh-3.3.4.min.js\", \"https://cdn.bokeh.org/bokeh/release/bokeh-gl-3.3.4.min.js\", \"https://cdn.bokeh.org/bokeh/release/bokeh-widgets-3.3.4.min.js\", \"https://cdn.bokeh.org/bokeh/release/bokeh-tables-3.3.4.min.js\", \"https://cdn.bokeh.org/bokeh/release/bokeh-mathjax-3.3.4.min.js\"];\n  const css_urls = [];\n\n  const inline_js = [    function(Bokeh) {\n      Bokeh.set_log_level(\"info\");\n    },\nfunction(Bokeh) {\n    }\n  ];\n\n  function run_inline_js() {\n    if (root.Bokeh !== undefined || force === true) {\n          for (let i = 0; i < inline_js.length; i++) {\n      inline_js[i].call(root, root.Bokeh);\n    }\nif (force === true) {\n        display_loaded();\n      }} else if (Date.now() < root._bokeh_timeout) {\n      setTimeout(run_inline_js, 100);\n    } else if (!root._bokeh_failed_load) {\n      console.log(\"Bokeh: BokehJS failed to load within specified timeout.\");\n      root._bokeh_failed_load = true;\n    } else if (force !== true) {\n      const cell = $(document.getElementById(\"b880bcc7-008d-41cc-adbe-da55883d66d9\")).parents('.cell').data().cell;\n      cell.output_area.append_execute_result(NB_LOAD_WARNING)\n    }\n  }\n\n  if (root._bokeh_is_loading === 0) {\n    console.debug(\"Bokeh: BokehJS loaded, going straight to plotting\");\n    run_inline_js();\n  } else {\n    load_libs(css_urls, js_urls, function() {\n      console.debug(\"Bokeh: BokehJS plotting callback run at\", now());\n      run_inline_js();\n    });\n  }\n}(window));"
     },
     "metadata": {},
     "output_type": "display_data"
    },
    {
     "data": {
      "text/html": [
       "\n",
       "  <div id=\"c9fcf2b7-698c-44c5-b78b-1c6a301d168e\" data-root-id=\"p2379\" style=\"display: contents;\"></div>\n"
      ]
     },
     "metadata": {},
     "output_type": "display_data"
    },
    {
     "data": {
      "application/javascript": [
       "(function(root) {\n",
       "  function embed_document(root) {\n",
       "  const docs_json = {\"59ea4610-d690-406f-be27-d254955db071\":{\"version\":\"3.3.4\",\"title\":\"Bokeh Application\",\"roots\":[{\"type\":\"object\",\"name\":\"Figure\",\"id\":\"p2379\",\"attributes\":{\"width\":1900,\"height\":350,\"x_range\":{\"type\":\"object\",\"name\":\"FactorRange\",\"id\":\"p2389\",\"attributes\":{\"factors\":[\"Modern design\",\"Handmade\",\"Leather\",\"Wood\",\"Modern\",\"Accent\",\"Furniture\",\"Gift Card\",\"Solid Wood\",\"Low calories\",\"Handcrafted\",\"Made in Indonesia\",\"Storage\",\"Opening Soon\",\"Elegant design\",\"Sustainable\",\"Solid wood\"]}},\"y_range\":{\"type\":\"object\",\"name\":\"DataRange1d\",\"id\":\"p2381\",\"attributes\":{\"start\":0}},\"x_scale\":{\"type\":\"object\",\"name\":\"CategoricalScale\",\"id\":\"p2390\"},\"y_scale\":{\"type\":\"object\",\"name\":\"LinearScale\",\"id\":\"p2391\"},\"title\":{\"type\":\"object\",\"name\":\"Title\",\"id\":\"p2382\",\"attributes\":{\"text\":\"attributes\"}},\"renderers\":[{\"type\":\"object\",\"name\":\"GlyphRenderer\",\"id\":\"p2408\",\"attributes\":{\"data_source\":{\"type\":\"object\",\"name\":\"ColumnDataSource\",\"id\":\"p2402\",\"attributes\":{\"selected\":{\"type\":\"object\",\"name\":\"Selection\",\"id\":\"p2403\",\"attributes\":{\"indices\":[],\"line_indices\":[]}},\"selection_policy\":{\"type\":\"object\",\"name\":\"UnionRenderers\",\"id\":\"p2404\"},\"data\":{\"type\":\"map\",\"entries\":[[\"x\",[\"Modern design\",\"Handmade\",\"Leather\",\"Wood\",\"Modern\",\"Accent\",\"Furniture\",\"Gift Card\",\"Solid Wood\",\"Low calories\",\"Handcrafted\",\"Made in Indonesia\",\"Storage\",\"Opening Soon\",\"Elegant design\",\"Sustainable\",\"Solid wood\"]],[\"top\",[6,6,6,5,5,4,3,3,3,3,3,3,2,2,2,2,2]]]}}},\"view\":{\"type\":\"object\",\"name\":\"CDSView\",\"id\":\"p2409\",\"attributes\":{\"filter\":{\"type\":\"object\",\"name\":\"AllIndices\",\"id\":\"p2410\"}}},\"glyph\":{\"type\":\"object\",\"name\":\"VBar\",\"id\":\"p2405\",\"attributes\":{\"x\":{\"type\":\"field\",\"field\":\"x\"},\"width\":{\"type\":\"value\",\"value\":0.9},\"top\":{\"type\":\"field\",\"field\":\"top\"},\"line_color\":{\"type\":\"value\",\"value\":\"#1f77b4\"},\"fill_color\":{\"type\":\"value\",\"value\":\"#1f77b4\"}}},\"nonselection_glyph\":{\"type\":\"object\",\"name\":\"VBar\",\"id\":\"p2406\",\"attributes\":{\"x\":{\"type\":\"field\",\"field\":\"x\"},\"width\":{\"type\":\"value\",\"value\":0.9},\"top\":{\"type\":\"field\",\"field\":\"top\"},\"line_color\":{\"type\":\"value\",\"value\":\"#1f77b4\"},\"line_alpha\":{\"type\":\"value\",\"value\":0.1},\"fill_color\":{\"type\":\"value\",\"value\":\"#1f77b4\"},\"fill_alpha\":{\"type\":\"value\",\"value\":0.1},\"hatch_alpha\":{\"type\":\"value\",\"value\":0.1}}},\"muted_glyph\":{\"type\":\"object\",\"name\":\"VBar\",\"id\":\"p2407\",\"attributes\":{\"x\":{\"type\":\"field\",\"field\":\"x\"},\"width\":{\"type\":\"value\",\"value\":0.9},\"top\":{\"type\":\"field\",\"field\":\"top\"},\"line_color\":{\"type\":\"value\",\"value\":\"#1f77b4\"},\"line_alpha\":{\"type\":\"value\",\"value\":0.2},\"fill_color\":{\"type\":\"value\",\"value\":\"#1f77b4\"},\"fill_alpha\":{\"type\":\"value\",\"value\":0.2},\"hatch_alpha\":{\"type\":\"value\",\"value\":0.2}}}}}],\"toolbar\":{\"type\":\"object\",\"name\":\"Toolbar\",\"id\":\"p2388\"},\"toolbar_location\":null,\"left\":[{\"type\":\"object\",\"name\":\"LinearAxis\",\"id\":\"p2397\",\"attributes\":{\"ticker\":{\"type\":\"object\",\"name\":\"BasicTicker\",\"id\":\"p2398\",\"attributes\":{\"mantissas\":[1,2,5]}},\"formatter\":{\"type\":\"object\",\"name\":\"BasicTickFormatter\",\"id\":\"p2399\"},\"major_label_policy\":{\"type\":\"object\",\"name\":\"AllLabels\",\"id\":\"p2400\"}}}],\"below\":[{\"type\":\"object\",\"name\":\"CategoricalAxis\",\"id\":\"p2392\",\"attributes\":{\"ticker\":{\"type\":\"object\",\"name\":\"CategoricalTicker\",\"id\":\"p2393\"},\"formatter\":{\"type\":\"object\",\"name\":\"CategoricalTickFormatter\",\"id\":\"p2394\"},\"major_label_policy\":{\"type\":\"object\",\"name\":\"AllLabels\",\"id\":\"p2395\"}}}],\"center\":[{\"type\":\"object\",\"name\":\"Grid\",\"id\":\"p2396\",\"attributes\":{\"axis\":{\"id\":\"p2392\"},\"grid_line_color\":null}},{\"type\":\"object\",\"name\":\"Grid\",\"id\":\"p2401\",\"attributes\":{\"dimension\":1,\"axis\":{\"id\":\"p2397\"}}}]}}]}};\n",
       "  const render_items = [{\"docid\":\"59ea4610-d690-406f-be27-d254955db071\",\"roots\":{\"p2379\":\"c9fcf2b7-698c-44c5-b78b-1c6a301d168e\"},\"root_ids\":[\"p2379\"]}];\n",
       "  root.Bokeh.embed.embed_items_notebook(docs_json, render_items);\n",
       "  }\n",
       "  if (root.Bokeh !== undefined) {\n",
       "    embed_document(root);\n",
       "  } else {\n",
       "    let attempts = 0;\n",
       "    const timer = setInterval(function(root) {\n",
       "      if (root.Bokeh !== undefined) {\n",
       "        clearInterval(timer);\n",
       "        embed_document(root);\n",
       "      } else {\n",
       "        attempts++;\n",
       "        if (attempts > 100) {\n",
       "          clearInterval(timer);\n",
       "          console.log(\"Bokeh: ERROR: Unable to run BokehJS code because BokehJS library is missing\");\n",
       "        }\n",
       "      }\n",
       "    }, 10, root)\n",
       "  }\n",
       "})(window);"
      ],
      "application/vnd.bokehjs_exec.v0+json": ""
     },
     "metadata": {
      "application/vnd.bokehjs_exec.v0+json": {
       "id": "p2379"
      }
     },
     "output_type": "display_data"
    }
   ],
   "source": [
    "plot_vals(types, 'Product types')\n",
    "plot_vals(colors, 'colors')\n",
    "plot_vals(attributes, 'attributes')"
   ]
  },
  {
   "cell_type": "code",
   "execution_count": 38,
   "id": "6657424b-fdf5-463a-8ec4-82095623167d",
   "metadata": {
    "scrolled": true
   },
   "outputs": [],
   "source": [
    "import torch  \n",
    "from transformers import BertTokenizer,BertModel\n",
    "\n",
    "tokenizer = BertTokenizer.from_pretrained('bert-base-uncased') \n",
    "model = BertModel.from_pretrained(\"bert-base-uncased\")"
   ]
  },
  {
   "cell_type": "code",
   "execution_count": 16,
   "id": "88cc2956-3056-415a-8ff8-9cb6e8d78b57",
   "metadata": {},
   "outputs": [],
   "source": [
    "encoded_input = tokenizer(names, return_tensors='tf',padding=True, truncation=True)\n",
    "embeddings = model(encoded_input)"
   ]
  },
  {
   "cell_type": "code",
   "execution_count": 53,
   "id": "c557a732-5fba-428b-a71d-c30a9db98ba8",
   "metadata": {},
   "outputs": [],
   "source": [
    "from sentence_transformers import SentenceTransformer\n",
    "model = SentenceTransformer('sentence-transformers/LaBSE', device =\"cpu\")"
   ]
  },
  {
   "cell_type": "code",
   "execution_count": 54,
   "id": "759b7d1e-70ac-452d-8612-f9f4d442897f",
   "metadata": {},
   "outputs": [],
   "source": [
    "with torch.no_grad():\n",
    "    embeddings = model.encode(names)\n"
   ]
  },
  {
   "cell_type": "code",
   "execution_count": 82,
   "id": "0f872579-290c-4cfe-aa70-18d87d26b931",
   "metadata": {
    "scrolled": true
   },
   "outputs": [],
   "source": [
    "import numpy as np\n",
    "from sklearn.decomposition import PCA\n",
    "from sklearn.preprocessing import StandardScaler\n",
    "\n",
    "scalar = StandardScaler() \n",
    "scaled = scalar.fit_transform(embeddings)\n",
    "\n",
    "pca = PCA(n_components=2)\n",
    "pca.fit(scaled)\n",
    "emb_2d = pca.transform(scaled)\n"
   ]
  },
  {
   "cell_type": "code",
   "execution_count": 147,
   "id": "335381d8-2195-4bd7-9cdc-45249d293a9b",
   "metadata": {},
   "outputs": [
    {
     "data": {
      "text/html": [
       "\n",
       "  <div id=\"fbeeb067-550d-48f7-89b6-17c1f15cf2a6\" data-root-id=\"p2605\" style=\"display: contents;\"></div>\n"
      ]
     },
     "metadata": {},
     "output_type": "display_data"
    },
    {
     "data": {
      "application/javascript": [
       "(function(root) {\n",
       "  function embed_document(root) {\n",
       "  const docs_json = {\"2168a248-ac61-40b0-b5c0-029a7e64386d\":{\"version\":\"3.3.4\",\"title\":\"Bokeh Application\",\"roots\":[{\"type\":\"object\",\"name\":\"Figure\",\"id\":\"p2605\",\"attributes\":{\"width\":1200,\"height\":1200,\"x_range\":{\"type\":\"object\",\"name\":\"DataRange1d\",\"id\":\"p2606\"},\"y_range\":{\"type\":\"object\",\"name\":\"DataRange1d\",\"id\":\"p2607\"},\"x_scale\":{\"type\":\"object\",\"name\":\"LinearScale\",\"id\":\"p2615\"},\"y_scale\":{\"type\":\"object\",\"name\":\"LinearScale\",\"id\":\"p2616\"},\"title\":{\"type\":\"object\",\"name\":\"Title\",\"id\":\"p2608\",\"attributes\":{\"text\":\"Names cloud\"}},\"renderers\":[{\"type\":\"object\",\"name\":\"GlyphRenderer\",\"id\":\"p2644\",\"attributes\":{\"data_source\":{\"type\":\"object\",\"name\":\"ColumnDataSource\",\"id\":\"p2601\",\"attributes\":{\"selected\":{\"type\":\"object\",\"name\":\"Selection\",\"id\":\"p2602\",\"attributes\":{\"indices\":[],\"line_indices\":[]}},\"selection_policy\":{\"type\":\"object\",\"name\":\"UnionRenderers\",\"id\":\"p2603\"},\"data\":{\"type\":\"map\",\"entries\":[[\"index\",{\"type\":\"ndarray\",\"array\":{\"type\":\"bytes\",\"data\":\"AAAAAAEAAAACAAAAAwAAAAQAAAAFAAAABgAAAAcAAAAIAAAACQAAAAoAAAALAAAADAAAAA0AAAAOAAAADwAAABAAAAARAAAAEgAAABMAAAAUAAAAFQAAABYAAAAXAAAAGAAAABkAAAAaAAAAGwAAABwAAAAdAAAAHgAAAB8AAAAgAAAAIQAAACIAAAAjAAAAJAAAACUAAAAmAAAAJwAAACgAAAApAAAAKgAAACsAAAAsAAAALQAAAC4AAAAvAAAAMAAAADEAAAAyAAAAMwAAADQAAAA1AAAANgAAADcAAAA4AAAAOQAAADoAAAA7AAAAPAAAAD0AAAA+AAAAPwAAAEAAAABBAAAAQgAAAEMAAABEAAAARQAAAEYAAABHAAAASAAAAEkAAABKAAAASwAAAEwAAABNAAAATgAAAE8AAABQAAAAUQAAAFIAAABTAAAAVAAAAFUAAABWAAAAVwAAAFgAAABZAAAAWgAAAFsAAABcAAAAXQAAAF4AAABfAAAAYAAAAGEAAABiAAAAYwAAAGQAAABlAAAAZgAAAGcAAABoAAAAaQAAAGoAAABrAAAAbAAAAG0AAABuAAAAbwAAAHAAAABxAAAAcgAAAHMAAAB0AAAAdQAAAHYAAAB3AAAAeAAAAHkAAAB6AAAAewAAAHwAAAB9AAAAfgAAAH8AAACAAAAAgQAAAIIAAACDAAAAhAAAAIUAAACGAAAAhwAAAIgAAACJAAAAigAAAIsAAACMAAAAjQAAAI4AAACPAAAAkAAAAJEAAACSAAAAkwAAAJQAAACVAAAAlgAAAJcAAACYAAAAmQAAAJoAAACbAAAAnAAAAJ0AAACeAAAAnwAAAKAAAAChAAAAogAAAKMAAACkAAAApQAAAKYAAACnAAAAqAAAAKkAAACqAAAAqwAAAKwAAACtAAAArgAAAK8AAACwAAAAsQAAALIAAACzAAAAtAAAALUAAAC2AAAAtwAAALgAAAC5AAAAugAAALsAAAC8AAAAvQAAAL4AAAC/AAAAwAAAAMEAAADCAAAAwwAAAMQAAADFAAAAxgAAAMcAAADIAAAAyQAAAMoAAADLAAAAzAAAAM0AAADOAAAAzwAAANAAAADRAAAA0gAAANMAAADUAAAA1QAAANYAAADXAAAA2AAAANkAAADaAAAA2wAAANwAAADdAAAA3gAAAN8AAADgAAAA4QAAAOIAAADjAAAA5AAAAOUAAADmAAAA5wAAAOgAAADpAAAA6gAAAOsAAADsAAAA7QAAAO4AAADvAAAA8AAAAPEAAADyAAAA8wAAAPQAAAA=\"},\"shape\":[245],\"dtype\":\"int32\",\"order\":\"little\"}],[\"x\",{\"type\":\"ndarray\",\"array\":{\"type\":\"bytes\",\"data\":\"4RxZwJ712kBGN25BOLlEweaTcEF1TGrAAHnhv/T/08BK3GZAAuUWP9awHsEYy/nAHEhJQe/oOcGnlfe/slrcwApE38Dmk3BB7xEXwXMdOUBNBB1BVNVwv3QzvsDKKxfB92FTQdd9LkH+g4RBeWbRQFOh5sBU1XC/iUMhQBrbRkFFLflAISUiQWSNvcApRUlAnY6cwGz0T0H1U0/AepHJv8pEO0AOQrzA8+5VQM2rMcEQqB1A5pNwQUmOOsE1yllBxb7uQC46K0BentXA5R3uwNCwpb9g83BBZtU2wAJ58EBf9HfAMiDsQOSs0cAv/3PAcDfjP6ep27+GaDa/rl8GP5PX+8Be2STBzZkawEctVEAzbIO/nkFUQZpXIUFbnFDA7iKBwP2xhkDoS/XAYKXVwB2sxr8RdUVBUkMSwTK718BYBjhBUPUZweQRBMHyfPfAgsWiP5tmB7//HxjAaiPXP10JrT9DJ4bAxOicwCXuHEDcqUM/lXsnwAGVXsD5y/PAy0qwv5/h3EDWMTvACmgGQcArT0EPV7BAMeILwZkEMEGQugBAxgkbQeoxSsGwV6ZAE/RHwAlu7sC4tirArIKnQPqsr75EcMRABswfwH6uX8C6znDARIfHPzZAeUGzpSJBbGycwN68BkCm5HJA2osUwbULDkHqG8rAllJ/wCW0t8COwTlBlKOOQDqhKsESUBJBVNVwvwJh/MAxTQXApCsBQWxGYUBmbI7AOrKvwBeFLEAXhSxADEEdQYEQQ0FMMW5BtPWvv4wx+cBjLDNBCmgGQd7w2cBo+QVBbOb0wPwTDUFF/OS+ynMgQdt/C8FOPDjBRBSJQJ6X/j7ADe/AKNF5wCR0WkHqY3jAlV9SP9L1IcEKaAZB+/3EwOsAn78Iv97AmGXiwNhKh8BZhzxB7/onQe7LGcHaMaK+/xATQOW+CkBQSQ/Bhne9QAISiz/8V/7AKMTqQIqzpr54IxHBlFoCwCqSJsHuJbHABjhAPm9tID/HM7bAZkG3wOJQ/74HaY+/GkTxwI8XGEGK0bJA4vFswEjqdsD4u48+DI7RwD2JTEC1wG+//0GgQMm7nsCIXOQ9nfslQYkuB0E1qA3ABl1MQeNdFMAQuQNB/L6owGBBrcCC4QTBE7+PwILh5MA727DAXHBrwBqeAMH4pQrBKMVSv08zM8DWuf/A1gjDPl5vn0ArXQXAKY8HQUPBecC6f0/ASg0/QTh3RsCi++HA0c2UwHGtwMAAge8/XIyoQOSze8Da5czAIUnCwJrZfkDOS4/AsMtDwHzsmcClVPTAPIFQQY8isMA=\"},\"shape\":[245],\"dtype\":\"float32\",\"order\":\"little\"}],[\"y\",{\"type\":\"ndarray\",\"array\":{\"type\":\"bytes\",\"data\":\"gtCuv8O/EcGw1qxADQPXv3I89kA8lqC+Jm1IQUfWfkG5ZLdAXk3qwOm7McDnPSPBkG7vvjWAg8CTkOY+dF3gPrTywsByPPZA5mWuQEgz0UB/6hXADh0kQK8Wz8Af9D1BmBJOQJVSUkANZUBAYWVjvn4uBUEOHSRAdvM4wbY0hMCMOPQ/9wn5vxeQNj+thnRAeBD1wAmLSkA7nxHBTOEpwTFLGMGCYZfAis5NQFHc7j6otuzAcjz2QHofcr+RtohA+s0iwIDEIUGCNE1A8oKdQC/6AcFyOTpAXjcNwcpDw0C0Nv3AQIAYv1jLzEDIddlAIlnTP8eelkDzJxlB8BKHQPRCsMAftVZBRrIewCcUZL4/7qG/SmS3PkSckcC+CGRBeouAPxlT578ZH67AmtgwwMBu+MCOpzDAT7cCv9+snMBdtZFADA+HQJogB8EcbSTAaCMRwZLKC8H2rRHB8lnpwBB0SsH7XE5BzheywIUjN0HG232+lMOSPyGhiEGBsjFB5lCSviSxncBJgKq/VWwJQfCngj/2nOjAwsaVwGgmH7+GbzdBjiw5wEV8SsBpvDjADFo2QXP2B0HSlMNAAwpywLIyTz5n/rbABKWgwGBLP8FaeMvAJVmEwEQvNECOR4++mAisv66giMC3+LO/D5s4wZW+V7/GbTG+L4aswDx+7cAwrLNAq4O3v2cZHUDy5Yo/Dh0kQKqCLEF2IdXAYGfqvnK4lT+9wE1BZ6FKQYbawcCG2sHAwgqEvpFXCr9iFRRA/6hJQGTfpUCDUle/VWwJQSA/jL+gY3C+eR+TwNObA8HEbU9AceFDwDOnOEBgWFZA6mEdwJKMYsFT+ghB1KwlwPXCzT8PleG/ssfGwDmngT9VbAlBjuHgwEBzHsFKrhrB3ZLnwHa4uUApZsi/3srbwDZ4hMAUzv6/lLkJQDTEgz9L2ylBTzAWwPKvJsAkF3RBF/T9Pnxy/784YCA/In5DwThJ7z8KHc/AmYA3QWImVcD3m4G+cCVAQSRxIEBo7QFBfW5pQTWkdEAcTQfB4lOsvtf+ncCwyPs/l1UkQcP4zMCLMElBG3rePyZBjj9w5pi/U6H/v7Ca8cBpaZlA+BTdQNKsCcAqgaDAWapcQfI3yL8E5VTA5VEgwaR1fkEOBT3BNPoiwcohA8GHwx/Bs0hPwNBEbUBexytBUCCaQG9gOMC/R42/04U0wP6+HcHmEsTAfFD5P9yLq8AEHtNAuKMVQTAmXcD1yQ9BbGmsPqKGdMBcOcrA2F0IQAKaEkCAyp4/sTHcwEyeq8C2zQtBtlaFP17IoMA=\"},\"shape\":[245],\"dtype\":\"float32\",\"order\":\"little\"}],[\"labels\",{\"type\":\"ndarray\",\"array\":[\"Euro Top Mattress\",\"Beadlight Cirrus LED Reading Light\",\"Gift Cards\",\"String weave timber stool\",\"Gift Card\",\"Kaiser Box Bed\",\"Hoyt Chair\",\"Dining Chair\",\"Yves Desk\",\"Palecek Coco Ruffle Mirror\",\"Modern Platform Beds\",\"Modern and Contemporary Bedroom Furniture\",\"Products\",\"Aaron Mid Century Modern Upholstered Sofa\",\"Alf & Bud Side Tables\",\"Enso Platform Bed\",\"Modern 'TWO' Platform Bed\",\"Gift Card\",\"Florence Sofa\",\"Hammock\",\"Fish Bricka\",\"Furniture\",\"Sectional + Ottoman Convertible Sleeper\",\"Sectional Sofa\",\"Beak Bird\",\"Fried Egg\",\"Kampagne\",\"Opal Lamella\",\"Windsor Chair\",\"Furniture\",\"Guardsman Gold Complete Plus Furniture Protection Plan\",\"Molloy\",\"Capsule Home\",\"Ecommerce Software\",\"Jack Leather Stool\",\"Big Cay Desk\",\"Westlake Queen Storage Bed\",\"Lipa\",\"Furniture Outlet of Wilmington\",\"Quirky Home Accessories and Furniture\",\"Medallion 34 Inch Chandelier\",\"Euro Living Furniture\",\"Side Table O118\",\"Fun Tufted Scallop Upholstered Sofa\",\"McKee 6pc Dining Set\",\"Gift Card\",\"Canadian Modern Lounge Chairs\",\"Celebrate\",\"Hodges Tweed\",\"Sideboard\",\"Farmhouse Dining Table\",\"CH24 Wishbone Chair\",\"Gray Floating TV Stand Entertainment Center\",\"Puji\",\"Mid Century Record Storage Console\",\"Hasami Mug\",\"Fine Bamboo Blinds\",\"Soft Minimal\",\"Elmstead Armchair\",\"Agap\\u00e9 Coffee Table\",\"Doisy Bedhead\",\"Essence Sideboard\",\"Chair Margot\",\"1900 Bench\",\"The Banyan Tree Furniture\",\"Mesa Sofa\",\"Alice Urban Dressing Table\",\"SORENSEN TEAK BENCH\",\"Living Room Storage\",\"Collections\",\"Glen Mirror\",\"Pony Chair\",\"Windsor Bed\",\"Plume Wallpaper\",\"Oak For Less Furniture\",\"Modern Furniture\",\"Round Vintage Zinc Tray\",\"Moo\",\"Nordic Trendy Side Table\",\"Scandinavian Bali Teak Bench\",\"Dress\",\"Fenwick Dining Chair\",\"Teak Wood Furniture Outlet\",\"Scandinavian Lamp Table\",\"Bass Lake 3-Door TV Stand\",\"Cancun 4-Door Media Console\",\"Danby 2-Drawer Corner TV Cabinet\",\"Dorsey 3-Door TV Stand\",\"Two's Company Sunburst Antiqued Gold Wall Mirror\",\"Black Chair\",\"MP - Amsterdam 2 Drawer Bedside Table\",\"Side Table\",\"Tek168 BS 002 TA Side Table\",\"Amsterdam Bench\",\"Turn Chair\",\"Spoke Sofa\",\"Curve Coat Rack\",\"Black Mango Gift Card\",\"Memory Foam Mattress\",\"Slimming Tea\",\"Taeillo\",\"Ubike Home Lock\",\"Custom Made Wooden Towel Rack\",\"Hamac\",\"Chieut Table\",\"Walter Cox Ltd\",\"Rich Plywood Wood Frame Luxury Sofa\",\"Zinolin Teak Oil\",\"Ro Armchair\",\"Wooden Coffee Table\",\"Carved Sideboard\",\"Versailles Collection\",\"Foldable Closet\",\"CUP HOLDER 2 TIER 33136\",\"Myrtlewood Lazy Susan\",\"Willow Creek Designs Teak Outdoor Furniture\",\"Concrete Marble Board\",\"Grasshopper Storage Bin\",\"Argea\",\"Treacle George\",\"Solid Wood Coasters\",\"Collector's Spinning Top\",\"APEN Bookcase\",\"Modern Minimalist Scandinavian Furniture\",\"Finn Avenue\",\"Naples Teak Coffee Table\",\"ASMUND Outdoor Console Table with 2 Sink Set\",\"Wholesale Classic Furniture\",\"Gift Voucher\",\"Wicker Planters\",\"Teak Wood Dining Table\",\"Women's T-Shirt\",\"Furniture\",\"Cooks Sofa\",\"Novaluna - Parigi Platform Bed- Made In Italy\",\"Wall Light\",\"SOHO HOOK 50\",\"Costa Chair\",\"Kea Sofa\",\"Kyoto XL Bean Bag Holder\",\"Kyoto XL Bean Bag Holder\",\"Addington\",\"Angelina\",\"Aria\",\"Stealth Recliner\",\"Modern Coffee Table\",\"Cel Collection\",\"Slimming Tea\",\"Mirrored Furniture\",\"Royal Garden\",\"Central Coast Furniture\",\"Henry & Oliver Co.\",\"Ave Raw Desk\",\"Colourful Markers\",\"Modern Dining Table\",\"French Round Back Dining Chair\",\"Model 5 Oak\",\"Copper Pipe Clothes Hanger Hooks\",\"Adirondack Chair\",\"Newstart Furniture\",\"N/A\",\"Primavera Bed 200x200\",\"Copper Barn Home\",\"Outdoor Hanging Pod Chair Grey\",\"Slimming Tea\",\"Modern Abstract Area Rug\",\"Hamptons Style Potato Sack\",\"Hamptons Style Blue Sapphire Cushion\",\"Hamptons Style Portsea Cushion\",\"Kaona Dining Table\",\"Block & Chisel\",\"Nike Air Max\",\"Vintage Teak Extending Dining Table\",\"S-Cube Ottoman\",\"Lagos Bed\",\"Lagos Bedside\",\"Customizable Sofa\",\"Penelope's Garden\",\"Brown Leather Wallet\",\"Hanging Chair\",\"Niagara Bar\",\"Mexican Hammock\",\"Nine Drawer Credenza\",\"Mid-Century Modernist Inspired Sputnik Chandelier\",\"100 Classic Leather Sofa\",\"Mr and Mrs White Furniture\",\"Bench\",\"Modern Decor\",\"Accent Furniture\",\"Accent Chairs\",\"Accent Consoles\",\"Accent Tables\",\"Wishbone Chair\",\"Self Planner\",\"WB Jamieson Lock\",\"Grey Wool Rug\",\"Modern Theatre Lounge\",\"Satin Napkins\",\"Home Office Chair\",\"Bwindi Wall Art\",\"Bertha Chair\",\"Brett Design\",\"Warwick Dining Table & 4 Chairs\",\"Skovby Portable Bar\",\"Ella Boutique\",\"CAMERICH Bangladesh\",\"Stark Sideboard\",\"Error Page\",\"Metal and Wood Side Table\",\"Bohinc Studio\",\"Sofa\",\"Saladino Furniture\",\"Fine Line Furniture\",\"Modern and Contemporary Furniture and Accessories\",\"Nesting Chair\",\"Camden Blue Furniture Range\",\"Mon Chique Furniture Range\",\"Rustic Oak Dining & Bedroom\",\"Tuscany Bedroom Oak Tops\",\"Large Bookcase with Cupboard\",\"Sophia Nightstand\",\"Swan Sofa\",\"Sofamax\",\"Tir Pendant Light\",\"Terassi 3 Seat Garden Swing\",\"Shannon Sales\",\"Triple Pinch Pleat Curtains\",\"Hamaca Hammocks Denim Hammock\",\"Small hooks\",\"Claremont Two Seater Sherborne\",\"Arm Chair Disposal\",\"Verona Chair\",\"Marston Wide Console Desk\",\"Computer Desk\",\"Grandad's Shed\",\"HanChic's Furniture\",\"CHESTERFIELD DIAMANTE BED FRAME\",\"Tulip Dining Table\",\"Hallway Tidy\",\"Four Poster Bed\",\"Abacus Furniture Solutions\",\"Heavy Duty Industrial X Style Table Legs\",\"Sheepskin Stool\",\"Product\",\"Guaranteed A Fine Furniture\"],\"shape\":[245],\"dtype\":\"object\",\"order\":\"little\"}],[\"types\",{\"type\":\"ndarray\",\"array\":[\"Furniture\",\"Lighting\",\"Furniture\",\"Furniture\",\"Gift Card\",\"Bed\",\"Furniture\",\"Furniture\",\"Furniture\",\"Furniture\",\"Bed\",\"Furniture\",\"Furniture\",\"Furniture\",\"Furniture\",\"Platform Bed\",\"Platform Bed\",\"Gift Card\",\"Furniture\",\"Furniture\",\"Mattress\",\"Furniture\",\"Furniture\",\"Furniture\",\"M\\u00f8bel\",\"M\\u00f8bel\",\"M\\u00f8bel\",\"M\\u00f8bel\",\"Furniture\",\"Home Decor\",\"Furniture Protection Plan\",\"Furniture\",\"Furniture\",\"Software\",\"Furniture\",\"Furniture\",\"Bedroom\",\"Furniture\",\"Home Decor\",\"Furniture\",\"Lighting\",\"Furniture\",\"Furniture\",\"Furniture\",\"Dining Set\",\"Gift Card\",\"furniture\",\"Gift Card\",\"Textile\",\"Furniture\",\"Furniture\",\"Furniture\",\"Furniture\",\"Domain Name\",\"Furniture\",\"Home Textiles\",\"Home Decor\",\"Furniture\",\"Furniture\",\"Furniture\",\"Furniture\",\"Furniture\",\"Furniture\",\"Furniture\",\"Furniture\",\"Outdoor Furniture\",\"Furniture\",\"Furniture\",\"Furniture\",\"Furniture\",\"Furniture\",\"Furniture\",\"Furniture\",\"Wallpaper\",\"Furniture\",\"Furniture\",\"Furniture\",\"Furniture\",\"Furniture\",\"Furniture\",\"Clothing\",\"Dining Chair\",\"Furniture\",\"Furniture\",\"Furniture\",\"Furniture\",\"Furniture\",\"Furniture\",\"Wall Mirror\",\"Furniture\",\"Furniture\",\"Furniture\",\"Furniture\",\"Furniture\",\"Furniture\",\"Furniture\",\"Home Decor\",\"Gift Card\",\"Furniture\",\"Beverage\",\"Furniture\",\"Home\",\"Furniture\",\"Furniture\",\"Furniture\",\"Furniture\",\"Furniture\",\"Furniture Care\",\"Furniture\",\"Furniture\",\"Furniture\",\"Bed\",\"Home Decor\",\"Cupholder\",\"Kitchen\",\"Furniture\",\"Home Decor\",\"Furniture\",\"Home Decor\",\"Fashion\",\"Furniture\",\"Furniture\",\"Furniture\",\"Furniture\",\"Furniture\",\"Furniture\",\"Furniture\",\"Furniture\",\"Gift Card\",\"Furniture\",\"Furniture\",\"Clothing\",\"Furniture\",\"Furniture\",\"Bed\",\"Lighting\",\"Wall Hook\",\"Outdoor Furniture\",\"Furniture\",\"Home Decor\",\"Home Decor\",\"Sofa\",\"Accent Chair\",\"Accent Chair\",\"Furniture\",\"Furniture\",\"Furniture\",\"Beverage\",\"Furniture\",\"Furniture\",\"Furniture\",\"Furniture\",\"Furniture\",\"Cushion Cover\",\"Furniture\",\"Dining Chairs\",\"Furniture\",\"Furniture\",\"Outdoor Furniture\",\"Furniture\",\"N/A\",\"Furniture\",\"Furniture\",\"Furniture\",\"Beverage\",\"Area Rug\",\"Home Decor\",\"Furniture\",\"Furniture\",\"Furniture\",\"Furniture\",\"Shoes\",\"Furniture\",\"Furniture\",\"Furniture\",\"Furniture\",\"Furniture\",\"Garden\",\"Wallet\",\"Furniture\",\"Bars\",\"Hammock\",\"Furniture\",\"Lighting\",\"Furniture\",\"Furniture\",\"Furniture\",\"Furniture\",\"Furniture\",\"Furniture\",\"Furniture\",\"Furniture\",\"Furniture\",\"Notebook\",\"Furniture\",\"Rug\",\"Furniture\",\"Party Supplies\",\"Furniture\",\"Decorative\",\"Furniture\",\"Wallcoverings and Textiles\",\"Furniture\",\"Furniture\",\"Fashion\",\"Furniture\",\"Furniture\",\"Page\",\"Furniture\",\"Furniture\",\"Furniture\",\"Furniture\",\"Furniture\",\"Furniture\",\"Furniture\",\"Furniture\",\"Furniture\",\"Furniture\",\"Furniture\",\"Furniture\",\"Furniture\",\"Furniture\",\"Furniture\",\"Lighting\",\"Garden Furniture\",\"Furniture\",\"Curtains\",\"Hammock\",\"Home Decor\",\"Furniture\",\"Furniture\",\"Furniture\",\"Furniture\",\"Furniture\",\"Furniture\",\"Furniture\",\"Furniture\",\"Furniture\",\"Furniture\",\"Bed\",\"Furniture\",\"Furniture\",\"Furniture\",\"Furniture\",\"Furniture\"],\"shape\":[245],\"dtype\":\"object\",\"order\":\"little\"}]]}}},\"view\":{\"type\":\"object\",\"name\":\"CDSView\",\"id\":\"p2645\",\"attributes\":{\"filter\":{\"type\":\"object\",\"name\":\"AllIndices\",\"id\":\"p2646\"}}},\"glyph\":{\"type\":\"object\",\"name\":\"Scatter\",\"id\":\"p2641\",\"attributes\":{\"x\":{\"type\":\"field\",\"field\":\"x\"},\"y\":{\"type\":\"field\",\"field\":\"y\"},\"size\":{\"type\":\"value\",\"value\":10},\"line_color\":{\"type\":\"field\",\"field\":\"types\",\"transform\":{\"type\":\"object\",\"name\":\"CategoricalColorMapper\",\"id\":\"p2604\",\"attributes\":{\"palette\":[\"#49C16D\",\"#277D8E\",\"#C7E01F\",\"#32628D\",\"#BDDE26\",\"#2C718E\",\"#47C06E\",\"#2FB37B\",\"#9FD938\",\"#38578C\",\"#423D84\",\"#72CF55\",\"#53C567\",\"#D4E11A\",\"#3F4788\",\"#22898D\",\"#47186A\",\"#423E85\",\"#472C7B\",\"#3F4587\",\"#443781\",\"#24858D\",\"#2BB17D\",\"#8BD546\",\"#3E4989\",\"#3BBA75\",\"#81D34C\",\"#40BD72\",\"#9DD93A\",\"#433B83\",\"#7ED24E\",\"#1F948B\",\"#C5DF21\",\"#1E978A\",\"#3D4B89\",\"#218D8C\",\"#E7E419\",\"#482374\",\"#A7DB33\",\"#69CC5B\",\"#D7E219\",\"#3D4A89\",\"#471466\",\"#29798E\",\"#92D741\",\"#64CB5D\",\"#4FC369\"],\"factors\":{\"type\":\"ndarray\",\"array\":[\"Furniture\",\"Lighting\",\"Gift Card\",\"Bed\",\"Platform Bed\",\"Mattress\",\"M\\u00f8bel\",\"Home Decor\",\"Furniture Protection Plan\",\"Software\",\"Bedroom\",\"Dining Set\",\"furniture\",\"Textile\",\"Domain Name\",\"Home Textiles\",\"Outdoor Furniture\",\"Wallpaper\",\"Clothing\",\"Dining Chair\",\"Wall Mirror\",\"Beverage\",\"Home\",\"Furniture Care\",\"Cupholder\",\"Kitchen\",\"Fashion\",\"Wall Hook\",\"Sofa\",\"Accent Chair\",\"Cushion Cover\",\"Dining Chairs\",\"N/A\",\"Area Rug\",\"Shoes\",\"Garden\",\"Wallet\",\"Bars\",\"Hammock\",\"Notebook\",\"Rug\",\"Party Supplies\",\"Decorative\",\"Wallcoverings and Textiles\",\"Page\",\"Garden Furniture\",\"Curtains\"],\"shape\":[47],\"dtype\":\"object\",\"order\":\"little\"}}}},\"fill_color\":{\"type\":\"field\",\"field\":\"types\",\"transform\":{\"id\":\"p2604\"}},\"hatch_color\":{\"type\":\"field\",\"field\":\"types\",\"transform\":{\"id\":\"p2604\"}}}},\"nonselection_glyph\":{\"type\":\"object\",\"name\":\"Scatter\",\"id\":\"p2642\",\"attributes\":{\"x\":{\"type\":\"field\",\"field\":\"x\"},\"y\":{\"type\":\"field\",\"field\":\"y\"},\"size\":{\"type\":\"value\",\"value\":10},\"line_color\":{\"type\":\"field\",\"field\":\"types\",\"transform\":{\"id\":\"p2604\"}},\"line_alpha\":{\"type\":\"value\",\"value\":0.1},\"fill_color\":{\"type\":\"field\",\"field\":\"types\",\"transform\":{\"id\":\"p2604\"}},\"fill_alpha\":{\"type\":\"value\",\"value\":0.1},\"hatch_color\":{\"type\":\"field\",\"field\":\"types\",\"transform\":{\"id\":\"p2604\"}},\"hatch_alpha\":{\"type\":\"value\",\"value\":0.1}}},\"muted_glyph\":{\"type\":\"object\",\"name\":\"Scatter\",\"id\":\"p2643\",\"attributes\":{\"x\":{\"type\":\"field\",\"field\":\"x\"},\"y\":{\"type\":\"field\",\"field\":\"y\"},\"size\":{\"type\":\"value\",\"value\":10},\"line_color\":{\"type\":\"field\",\"field\":\"types\",\"transform\":{\"id\":\"p2604\"}},\"line_alpha\":{\"type\":\"value\",\"value\":0.2},\"fill_color\":{\"type\":\"field\",\"field\":\"types\",\"transform\":{\"id\":\"p2604\"}},\"fill_alpha\":{\"type\":\"value\",\"value\":0.2},\"hatch_color\":{\"type\":\"field\",\"field\":\"types\",\"transform\":{\"id\":\"p2604\"}},\"hatch_alpha\":{\"type\":\"value\",\"value\":0.2}}}}}],\"toolbar\":{\"type\":\"object\",\"name\":\"Toolbar\",\"id\":\"p2614\",\"attributes\":{\"tools\":[{\"type\":\"object\",\"name\":\"PanTool\",\"id\":\"p2627\"},{\"type\":\"object\",\"name\":\"WheelZoomTool\",\"id\":\"p2628\",\"attributes\":{\"renderers\":\"auto\"}},{\"type\":\"object\",\"name\":\"BoxZoomTool\",\"id\":\"p2629\",\"attributes\":{\"overlay\":{\"type\":\"object\",\"name\":\"BoxAnnotation\",\"id\":\"p2630\",\"attributes\":{\"syncable\":false,\"level\":\"overlay\",\"visible\":false,\"left\":{\"type\":\"number\",\"value\":\"nan\"},\"right\":{\"type\":\"number\",\"value\":\"nan\"},\"top\":{\"type\":\"number\",\"value\":\"nan\"},\"bottom\":{\"type\":\"number\",\"value\":\"nan\"},\"left_units\":\"canvas\",\"right_units\":\"canvas\",\"top_units\":\"canvas\",\"bottom_units\":\"canvas\",\"line_color\":\"black\",\"line_alpha\":1.0,\"line_width\":2,\"line_dash\":[4,4],\"fill_color\":\"lightgrey\",\"fill_alpha\":0.5}}}},{\"type\":\"object\",\"name\":\"SaveTool\",\"id\":\"p2635\"},{\"type\":\"object\",\"name\":\"ResetTool\",\"id\":\"p2636\"},{\"type\":\"object\",\"name\":\"HelpTool\",\"id\":\"p2637\"},{\"type\":\"object\",\"name\":\"HoverTool\",\"id\":\"p2647\",\"attributes\":{\"renderers\":\"auto\",\"tooltips\":[[\"\",\"@labels\"]]}}]}},\"left\":[{\"type\":\"object\",\"name\":\"LinearAxis\",\"id\":\"p2622\",\"attributes\":{\"ticker\":{\"type\":\"object\",\"name\":\"BasicTicker\",\"id\":\"p2623\",\"attributes\":{\"mantissas\":[1,2,5]}},\"formatter\":{\"type\":\"object\",\"name\":\"BasicTickFormatter\",\"id\":\"p2624\"},\"major_label_policy\":{\"type\":\"object\",\"name\":\"AllLabels\",\"id\":\"p2625\"}}}],\"below\":[{\"type\":\"object\",\"name\":\"LinearAxis\",\"id\":\"p2617\",\"attributes\":{\"ticker\":{\"type\":\"object\",\"name\":\"BasicTicker\",\"id\":\"p2618\",\"attributes\":{\"mantissas\":[1,2,5]}},\"formatter\":{\"type\":\"object\",\"name\":\"BasicTickFormatter\",\"id\":\"p2619\"},\"major_label_policy\":{\"type\":\"object\",\"name\":\"AllLabels\",\"id\":\"p2620\"}}}],\"center\":[{\"type\":\"object\",\"name\":\"Grid\",\"id\":\"p2621\",\"attributes\":{\"axis\":{\"id\":\"p2617\"}}},{\"type\":\"object\",\"name\":\"Grid\",\"id\":\"p2626\",\"attributes\":{\"dimension\":1,\"axis\":{\"id\":\"p2622\"}}}]}}]}};\n",
       "  const render_items = [{\"docid\":\"2168a248-ac61-40b0-b5c0-029a7e64386d\",\"roots\":{\"p2605\":\"fbeeb067-550d-48f7-89b6-17c1f15cf2a6\"},\"root_ids\":[\"p2605\"]}];\n",
       "  root.Bokeh.embed.embed_items_notebook(docs_json, render_items);\n",
       "  }\n",
       "  if (root.Bokeh !== undefined) {\n",
       "    embed_document(root);\n",
       "  } else {\n",
       "    let attempts = 0;\n",
       "    const timer = setInterval(function(root) {\n",
       "      if (root.Bokeh !== undefined) {\n",
       "        clearInterval(timer);\n",
       "        embed_document(root);\n",
       "      } else {\n",
       "        attempts++;\n",
       "        if (attempts > 100) {\n",
       "          clearInterval(timer);\n",
       "          console.log(\"Bokeh: ERROR: Unable to run BokehJS code because BokehJS library is missing\");\n",
       "        }\n",
       "      }\n",
       "    }, 10, root)\n",
       "  }\n",
       "})(window);"
      ],
      "application/vnd.bokehjs_exec.v0+json": ""
     },
     "metadata": {
      "application/vnd.bokehjs_exec.v0+json": {
       "id": "p2605"
      }
     },
     "output_type": "display_data"
    }
   ],
   "source": [
    "\n",
    "from bokeh.plotting import figure, output_file, show \n",
    "from bokeh.models import HoverTool \n",
    "import pandas as pd \n",
    "from bokeh.models import ColumnDataSource\n",
    "from bokeh.transform import factor_cmap\n",
    "from bokeh.palettes import Viridis256\n",
    "# create some data \n",
    "data = pd.DataFrame({'x':  emb_2d[:,0], \n",
    "                     'y': emb_2d[:,1], \n",
    "                     'labels': names,\n",
    "                     'types': types}) \n",
    "\n",
    "source = bpl.ColumnDataSource(data)\n",
    "import random\n",
    "\n",
    "get_index = random.randrange(len(Viridis256))\n",
    "\n",
    "palette = random.sample(Viridis256, len(data['types'].unique()))\n",
    "\n",
    "color_map = bmo.CategoricalColorMapper(factors=data['types'].unique(),\n",
    "                                   palette=palette)\n",
    "                     \n",
    "p = figure(title='Names cloud',width=1200, height=1200) \n",
    "  \n",
    "# add scatter plot \n",
    "\n",
    "p.scatter(x='x', y='y',  size=10,  color={'field': 'types', 'transform': color_map}, source=source\n",
    "         ) \n",
    "  \n",
    "# add hover tool \n",
    "hover = HoverTool(tooltips=[('', '@labels')]) \n",
    "p.add_tools(hover) \n",
    "  \n",
    "# show the plot \n",
    "show(p) \n"
   ]
  },
  {
   "cell_type": "code",
   "execution_count": 231,
   "id": "ff4cb007-3148-460e-93ea-8479456b1a9c",
   "metadata": {},
   "outputs": [],
   "source": [
    "col = [ re.sub(r'a','', c) if type(c)==str else None for c in colors]\n",
    "att = [ \", \".join(a) for a in attributes]\n",
    "desc = [\", \".join([n,c,a,t]) if c!=None else \", \".join([n,a,t]) for c,a,n,t in zip(col,att,names,types)]"
   ]
  },
  {
   "cell_type": "code",
   "execution_count": 224,
   "id": "2c800712-4e5c-4b1d-8d25-662a10b4d82c",
   "metadata": {},
   "outputs": [],
   "source": [
    "from datasets import Dataset\n",
    "df = pd.DataFrame(zip(names,types,desc))\n",
    "dataset = Dataset.from_pandas(df)\n"
   ]
  },
  {
   "cell_type": "code",
   "execution_count": 301,
   "id": "b33fe79b-eb84-4da7-be63-75723a6f85e3",
   "metadata": {},
   "outputs": [],
   "source": [
    "to_chroma = []\n",
    "for d in dat:\n",
    "    try:\n",
    "        doc = json.loads(d['result'])\n",
    "        att = \", \".join(doc['attributes'])\n",
    "        to_chroma.append({\"data\": f\"name:{doc['product_name']}, type: {doc['product_type']}, properties {doc['product_color']} {att}\", \"ids\": d['n'], 'metadatas': {'source':d['url']}})\n",
    "    except:\n",
    "        pass\n",
    "    # break"
   ]
  },
  {
   "cell_type": "code",
   "execution_count": 303,
   "id": "a983ffae-fbb0-46a6-9a86-a220db83e4c8",
   "metadata": {
    "scrolled": true
   },
   "outputs": [],
   "source": [
    "import chromadb\n",
    "client = chromadb.Client()\n",
    "collection = client.create_collection(\"col1\")\n",
    "# client.delete_collection(name=\"col1\")"
   ]
  },
  {
   "cell_type": "code",
   "execution_count": 305,
   "id": "98732897-2d67-4c23-a4d1-800e3cb0bc05",
   "metadata": {
    "scrolled": true
   },
   "outputs": [],
   "source": [
    "\n",
    "collection.add(\n",
    "    documents=[i['data'] for i in to_chroma],\n",
    "    ids=[str(i['ids']) for i in to_chroma],\n",
    "    metadatas = [i['metadatas'] for i in to_chroma]\n",
    ")"
   ]
  },
  {
   "cell_type": "code",
   "execution_count": 255,
   "id": "001974fa-8078-4e2b-a9bb-add5f43050f9",
   "metadata": {},
   "outputs": [],
   "source": []
  },
  {
   "cell_type": "code",
   "execution_count": 306,
   "id": "6a1875bb-0ae4-4728-9d12-278bcd0482fb",
   "metadata": {},
   "outputs": [],
   "source": [
    "model = AutoModelForCausalLM.from_pretrained(\n",
    "    model_name,\n",
    "   low_cpu_mem_usage=True,\n",
    "    return_dict=True,\n",
    "    device_map='auto',\n",
    "    cache_dir=\"./data/models/\")\n",
    "tokenizer = AutoTokenizer.from_pretrained(model_name, trust_remote_code=True)\n",
    "tokenizer.pad_token = tokenizer.eos_token\n",
    "tokenizer.padding_side = \"right\"\n",
    "pipe = pipeline(task=\"text-generation\", model=model, tokenizer=tokenizer, max_length=1000, return_full_text=False, repetition_penalty=1.1)\n"
   ]
  },
  {
   "cell_type": "code",
   "execution_count": 271,
   "id": "e049e8be-d084-41ed-8452-04c4e108d23f",
   "metadata": {},
   "outputs": [],
   "source": [
    "def search(query):\n",
    "    prompt = f\"\"\"[INST]From the following user statement extract object of user's interest Reply with a single word:\\n{query}. [/INST]\\n\"\"\"\n",
    "    result = pipe(prompt)\n",
    "    results = collection.query(\n",
    "        query_texts=[result[0]['generated_text']],\n",
    "        n_results=3\n",
    "    )\n",
    "    return results"
   ]
  },
  {
   "cell_type": "code",
   "execution_count": 307,
   "id": "771a9e58-49cb-4f09-88cf-417c09f4297b",
   "metadata": {},
   "outputs": [
    {
     "data": {
      "text/plain": [
       "{'ids': [['588', '262', '188']],\n",
       " 'distances': [[1.0380353927612305, 1.0595630407333374, 1.0695416927337646]],\n",
       " 'metadatas': [[{'source': 'https://donar.si/products/collodi'},\n",
       "   {'source': 'https://www.couchpotatocompany.com/collections/best-sellers/products/ro-armchair'},\n",
       "   {'source': 'https://www.aarniooriginals.com/collections/shop/products/pony'}]],\n",
       " 'embeddings': None,\n",
       " 'documents': [['name:Nesting Chair, type: Furniture, properties Wooden frame with industrial waste shell Environmentally friendly, Comfortable, Emotive',\n",
       "   'name:Ro Armchair, type: Furniture, properties Natural Elegant design, High back, Soft upholstery',\n",
       "   'name:Pony Chair, type: Furniture, properties Green and White Ergonomic, Playful, Humorous']],\n",
       " 'uris': None,\n",
       " 'data': None}"
      ]
     },
     "execution_count": 307,
     "metadata": {},
     "output_type": "execute_result"
    }
   ],
   "source": [
    "search(\"I want a white chair\")"
   ]
  },
  {
   "cell_type": "code",
   "execution_count": 318,
   "id": "787ac406-51ba-4517-9def-8094e8394994",
   "metadata": {},
   "outputs": [
    {
     "data": {
      "text/plain": [
       "{'ids': [['124', '510', '491']],\n",
       " 'distances': [[0.7196788191795349, 0.7713944911956787, 0.7796918153762817]],\n",
       " 'metadatas': [[{'source': 'https://www.thefurnituremegastore.co.uk/products/noir-80x180-cm-wall-mirror'},\n",
       "   {'source': 'https://www.classic2modern.com/products/100-sofa'},\n",
       "   {'source': 'https://whataroom.com/collections/new-arrival-rugs/products/arsene-r3475-aqu000'}]],\n",
       " 'embeddings': None,\n",
       " 'documents': [['name:Quirky Home Accessories and Furniture, type: Furniture, properties N/A Fabric Sofas, Leather Sofas, Recliner Sofas',\n",
       "   'name:100 Classic Leather Sofa, type: Furniture, properties Natural Timeless beauty, Inviting appeal, Comfort',\n",
       "   'name:Customizable Sofa, type: Furniture, properties Various Customizable, Leather or Fabric, Sofa']],\n",
       " 'uris': None,\n",
       " 'data': None}"
      ]
     },
     "execution_count": 318,
     "metadata": {},
     "output_type": "execute_result"
    }
   ],
   "source": [
    "search(\"I want a dream sofa\")"
   ]
  },
  {
   "cell_type": "code",
   "execution_count": 321,
   "id": "ad4ac085-f93e-4170-9420-e105e6c8e2bf",
   "metadata": {},
   "outputs": [
    {
     "name": "stderr",
     "output_type": "stream",
     "text": [
      "/home/ubuntu/.local/lib/python3.10/site-packages/transformers/pipelines/base.py:1101: UserWarning: You seem to be using the pipelines sequentially on GPU. In order to maximize efficiency please use a dataset\n",
      "  warnings.warn(\n"
     ]
    },
    {
     "data": {
      "text/plain": [
       "{'ids': [['188', '691', '600']],\n",
       " 'distances': [[1.2606855630874634, 1.4421956539154053, 1.451244592666626]],\n",
       " 'metadatas': [[{'source': 'https://www.aarniooriginals.com/collections/shop/products/pony'},\n",
       "   {'source': 'https://www.collectioni.com/products/noahs-ark-lounge-swivel-chair'},\n",
       "   {'source': 'https://www.angliarecliners.co.uk/products/swan/'}]],\n",
       " 'embeddings': None,\n",
       " 'documents': [['name:Pony Chair, type: Furniture, properties Green and White Ergonomic, Playful, Humorous',\n",
       "   'name:Sheepskin Stool, type: Furniture, properties Natural Limited edition, Made from sheepskin, Handcrafted',\n",
       "   'name:Swan Sofa, type: Furniture, properties Black Adjustable headrest, Individually adjustable headrests, Available in 5 different grades of leather']],\n",
       " 'uris': None,\n",
       " 'data': None}"
      ]
     },
     "execution_count": 321,
     "metadata": {},
     "output_type": "execute_result"
    }
   ],
   "source": [
    "search(\"can you suggest me a chair for niece who likes horses?\")"
   ]
  },
  {
   "cell_type": "code",
   "execution_count": 323,
   "id": "a48c61ec-1892-49c6-8f4b-7fbe84712319",
   "metadata": {},
   "outputs": [
    {
     "data": {
      "text/plain": [
       "{'ids': [['213', '201', '124']],\n",
       " 'distances': [[1.0120916366577148, 1.1255121231079102, 1.145043969154358]],\n",
       " 'metadatas': [[{'source': 'https://furnitica-vinova.myshopify.com/products/enim-donec-pede'},\n",
       "   {'source': 'https://www.castlery.com/products/spot-shelf'},\n",
       "   {'source': 'https://www.thefurnituremegastore.co.uk/products/noir-80x180-cm-wall-mirror'}]],\n",
       " 'embeddings': None,\n",
       " 'documents': [['name:Dress, type: Clothing, properties Black Fast Search, List of 3 Attributes',\n",
       "   'name:Modern Furniture, type: Furniture, properties Multiple Colors Online Shopping, Castlery, Modern Design',\n",
       "   'name:Quirky Home Accessories and Furniture, type: Furniture, properties N/A Fabric Sofas, Leather Sofas, Recliner Sofas']],\n",
       " 'uris': None,\n",
       " 'data': None}"
      ]
     },
     "execution_count": 323,
     "metadata": {},
     "output_type": "execute_result"
    }
   ],
   "source": [
    "search(\"give me a big wardrobe\")"
   ]
  },
  {
   "cell_type": "code",
   "execution_count": null,
   "id": "25a24703-8e6c-4f1f-adaa-99ccafd1b9ca",
   "metadata": {},
   "outputs": [],
   "source": []
  }
 ],
 "metadata": {
  "kernelspec": {
   "display_name": "Python 3 (ipykernel)",
   "language": "python",
   "name": "python3"
  },
  "language_info": {
   "codemirror_mode": {
    "name": "ipython",
    "version": 3
   },
   "file_extension": ".py",
   "mimetype": "text/x-python",
   "name": "python",
   "nbconvert_exporter": "python",
   "pygments_lexer": "ipython3",
   "version": "3.10.12"
  }
 },
 "nbformat": 4,
 "nbformat_minor": 5
}
